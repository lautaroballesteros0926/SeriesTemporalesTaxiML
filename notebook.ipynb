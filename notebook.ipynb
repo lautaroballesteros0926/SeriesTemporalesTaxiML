{
 "cells": [
  {
   "cell_type": "markdown",
   "metadata": {},
   "source": [
    "# Descripción del proyecto\n",
    "\n",
    "La compañía Sweet Lift Taxi ha recopilado datos históricos sobre pedidos de taxis en los aeropuertos. Para atraer a más conductores durante las horas pico, necesitamos predecir la cantidad de pedidos de taxis para la próxima hora. Construye un modelo para dicha predicción.\n",
    "\n",
    "La métrica RECM en el conjunto de prueba no debe ser superior a 48.\n",
    "\n",
    "## Instrucciones del proyecto.\n",
    "\n",
    "1. Descarga los datos y haz el remuestreo por una hora.\n",
    "2. Analiza los datos\n",
    "3. Entrena diferentes modelos con diferentes hiperparámetros. La muestra de prueba debe ser el 10% del conjunto de datos inicial.4. Prueba los datos usando la muestra de prueba y proporciona una conclusión.\n",
    "\n",
    "## Descripción de los datos\n",
    "\n",
    "Los datos se almacenan en el archivo `taxi.csv`. \t\n",
    "El número de pedidos está en la columna `num_orders`."
   ]
  },
  {
   "cell_type": "markdown",
   "metadata": {},
   "source": [
    "## Preparación"
   ]
  },
  {
   "cell_type": "code",
   "execution_count": 1,
   "metadata": {},
   "outputs": [],
   "source": [
    "import pandas as pd \n",
    "from statsmodels.tsa.seasonal import seasonal_decompose\n",
    "import matplotlib.pyplot as plt\n",
    "from sklearn.model_selection import train_test_split\n",
    "import numpy as np \n",
    "from sklearn.metrics import mean_squared_error\n",
    "from sklearn.ensemble import RandomForestRegressor"
   ]
  },
  {
   "cell_type": "code",
   "execution_count": 2,
   "metadata": {},
   "outputs": [],
   "source": [
    "# Importamos los datos, leemos la serie temporal \n",
    "data = pd.read_csv('taxi.csv',index_col = [0], parse_dates = [0])\n",
    "# Ordenamos \n",
    "data.sort_index(inplace = True)"
   ]
  },
  {
   "cell_type": "code",
   "execution_count": 3,
   "metadata": {},
   "outputs": [
    {
     "name": "stdout",
     "output_type": "stream",
     "text": [
      "<class 'pandas.core.frame.DataFrame'>\n",
      "DatetimeIndex: 26496 entries, 2018-03-01 00:00:00 to 2018-08-31 23:50:00\n",
      "Data columns (total 1 columns):\n",
      " #   Column      Non-Null Count  Dtype\n",
      "---  ------      --------------  -----\n",
      " 0   num_orders  26496 non-null  int64\n",
      "dtypes: int64(1)\n",
      "memory usage: 414.0 KB\n"
     ]
    }
   ],
   "source": [
    "# Veamos la info\n",
    "data.info()"
   ]
  },
  {
   "cell_type": "markdown",
   "metadata": {},
   "source": [
    "Tenemos la informacion de numero de ordenes del 1 marzo del 2018 hasta el 31 de agosto de 2018. "
   ]
  },
  {
   "cell_type": "code",
   "execution_count": 4,
   "metadata": {},
   "outputs": [
    {
     "data": {
      "text/html": [
       "<div>\n",
       "<style scoped>\n",
       "    .dataframe tbody tr th:only-of-type {\n",
       "        vertical-align: middle;\n",
       "    }\n",
       "\n",
       "    .dataframe tbody tr th {\n",
       "        vertical-align: top;\n",
       "    }\n",
       "\n",
       "    .dataframe thead th {\n",
       "        text-align: right;\n",
       "    }\n",
       "</style>\n",
       "<table border=\"1\" class=\"dataframe\">\n",
       "  <thead>\n",
       "    <tr style=\"text-align: right;\">\n",
       "      <th></th>\n",
       "      <th>num_orders</th>\n",
       "    </tr>\n",
       "    <tr>\n",
       "      <th>datetime</th>\n",
       "      <th></th>\n",
       "    </tr>\n",
       "  </thead>\n",
       "  <tbody>\n",
       "    <tr>\n",
       "      <th>2018-03-01 00:00:00</th>\n",
       "      <td>9</td>\n",
       "    </tr>\n",
       "    <tr>\n",
       "      <th>2018-03-01 00:10:00</th>\n",
       "      <td>14</td>\n",
       "    </tr>\n",
       "    <tr>\n",
       "      <th>2018-03-01 00:20:00</th>\n",
       "      <td>28</td>\n",
       "    </tr>\n",
       "    <tr>\n",
       "      <th>2018-03-01 00:30:00</th>\n",
       "      <td>20</td>\n",
       "    </tr>\n",
       "    <tr>\n",
       "      <th>2018-03-01 00:40:00</th>\n",
       "      <td>32</td>\n",
       "    </tr>\n",
       "    <tr>\n",
       "      <th>2018-03-01 00:50:00</th>\n",
       "      <td>21</td>\n",
       "    </tr>\n",
       "    <tr>\n",
       "      <th>2018-03-01 01:00:00</th>\n",
       "      <td>7</td>\n",
       "    </tr>\n",
       "    <tr>\n",
       "      <th>2018-03-01 01:10:00</th>\n",
       "      <td>5</td>\n",
       "    </tr>\n",
       "    <tr>\n",
       "      <th>2018-03-01 01:20:00</th>\n",
       "      <td>17</td>\n",
       "    </tr>\n",
       "    <tr>\n",
       "      <th>2018-03-01 01:30:00</th>\n",
       "      <td>12</td>\n",
       "    </tr>\n",
       "  </tbody>\n",
       "</table>\n",
       "</div>"
      ],
      "text/plain": [
       "                     num_orders\n",
       "datetime                       \n",
       "2018-03-01 00:00:00           9\n",
       "2018-03-01 00:10:00          14\n",
       "2018-03-01 00:20:00          28\n",
       "2018-03-01 00:30:00          20\n",
       "2018-03-01 00:40:00          32\n",
       "2018-03-01 00:50:00          21\n",
       "2018-03-01 01:00:00           7\n",
       "2018-03-01 01:10:00           5\n",
       "2018-03-01 01:20:00          17\n",
       "2018-03-01 01:30:00          12"
      ]
     },
     "execution_count": 4,
     "metadata": {},
     "output_type": "execute_result"
    }
   ],
   "source": [
    "data.head(10)"
   ]
  },
  {
   "cell_type": "markdown",
   "metadata": {},
   "source": [
    "Vemos que el numero de ordenes que hay cada 10 minutos. "
   ]
  },
  {
   "cell_type": "code",
   "execution_count": 5,
   "metadata": {},
   "outputs": [
    {
     "data": {
      "text/plain": [
       "<Axes: xlabel='datetime'>"
      ]
     },
     "execution_count": 5,
     "metadata": {},
     "output_type": "execute_result"
    },
    {
     "data": {
      "image/png": "[encoded data removed]",
      "text/plain": [
       "<Figure size 640x480 with 1 Axes>"
      ]
     },
     "metadata": {},
     "output_type": "display_data"
    }
   ],
   "source": [
    "data.plot()"
   ]
  },
  {
   "cell_type": "code",
   "execution_count": 6,
   "metadata": {},
   "outputs": [
    {
     "data": {
      "text/plain": [
       "<Axes: xlabel='datetime'>"
      ]
     },
     "execution_count": 6,
     "metadata": {},
     "output_type": "execute_result"
    },
    {
     "data": {
      "image/png": "[encoded data removed]",
      "text/plain": [
       "<Figure size 640x480 with 1 Axes>"
      ]
     },
     "metadata": {},
     "output_type": "display_data"
    }
   ],
   "source": [
    "# Remuestreo \n",
    "data = data.resample('1H').sum() # Agrupamos con el total de pedidos cada hora \n",
    "data.plot()"
   ]
  },
  {
   "cell_type": "code",
   "execution_count": 7,
   "metadata": {},
   "outputs": [
    {
     "data": {
      "text/html": [
       "<div>\n",
       "<style scoped>\n",
       "    .dataframe tbody tr th:only-of-type {\n",
       "        vertical-align: middle;\n",
       "    }\n",
       "\n",
       "    .dataframe tbody tr th {\n",
       "        vertical-align: top;\n",
       "    }\n",
       "\n",
       "    .dataframe thead th {\n",
       "        text-align: right;\n",
       "    }\n",
       "</style>\n",
       "<table border=\"1\" class=\"dataframe\">\n",
       "  <thead>\n",
       "    <tr style=\"text-align: right;\">\n",
       "      <th></th>\n",
       "      <th>num_orders</th>\n",
       "    </tr>\n",
       "    <tr>\n",
       "      <th>datetime</th>\n",
       "      <th></th>\n",
       "    </tr>\n",
       "  </thead>\n",
       "  <tbody>\n",
       "    <tr>\n",
       "      <th>2018-03-01 00:00:00</th>\n",
       "      <td>124</td>\n",
       "    </tr>\n",
       "    <tr>\n",
       "      <th>2018-03-01 01:00:00</th>\n",
       "      <td>85</td>\n",
       "    </tr>\n",
       "    <tr>\n",
       "      <th>2018-03-01 02:00:00</th>\n",
       "      <td>71</td>\n",
       "    </tr>\n",
       "    <tr>\n",
       "      <th>2018-03-01 03:00:00</th>\n",
       "      <td>66</td>\n",
       "    </tr>\n",
       "    <tr>\n",
       "      <th>2018-03-01 04:00:00</th>\n",
       "      <td>43</td>\n",
       "    </tr>\n",
       "  </tbody>\n",
       "</table>\n",
       "</div>"
      ],
      "text/plain": [
       "                     num_orders\n",
       "datetime                       \n",
       "2018-03-01 00:00:00         124\n",
       "2018-03-01 01:00:00          85\n",
       "2018-03-01 02:00:00          71\n",
       "2018-03-01 03:00:00          66\n",
       "2018-03-01 04:00:00          43"
      ]
     },
     "execution_count": 7,
     "metadata": {},
     "output_type": "execute_result"
    }
   ],
   "source": [
    "# Verificamos \n",
    "data.head(5)"
   ]
  },
  {
   "cell_type": "markdown",
   "metadata": {},
   "source": [
    "¡Tenemos agrupado las ordenes por cada hora!"
   ]
  },
  {
   "cell_type": "markdown",
   "metadata": {},
   "source": [
    "## Análisis"
   ]
  },
  {
   "cell_type": "code",
   "execution_count": 8,
   "metadata": {},
   "outputs": [],
   "source": [
    "# Creamos una copia de la data para ser analizada \n",
    "data_for_analytics = data.copy()"
   ]
  },
  {
   "cell_type": "code",
   "execution_count": 9,
   "metadata": {},
   "outputs": [
    {
     "data": {
      "text/html": [
       "<div>\n",
       "<style scoped>\n",
       "    .dataframe tbody tr th:only-of-type {\n",
       "        vertical-align: middle;\n",
       "    }\n",
       "\n",
       "    .dataframe tbody tr th {\n",
       "        vertical-align: top;\n",
       "    }\n",
       "\n",
       "    .dataframe thead th {\n",
       "        text-align: right;\n",
       "    }\n",
       "</style>\n",
       "<table border=\"1\" class=\"dataframe\">\n",
       "  <thead>\n",
       "    <tr style=\"text-align: right;\">\n",
       "      <th></th>\n",
       "      <th>num_orders</th>\n",
       "    </tr>\n",
       "    <tr>\n",
       "      <th>datetime</th>\n",
       "      <th></th>\n",
       "    </tr>\n",
       "  </thead>\n",
       "  <tbody>\n",
       "    <tr>\n",
       "      <th>2018-03-01 00:00:00</th>\n",
       "      <td>124</td>\n",
       "    </tr>\n",
       "    <tr>\n",
       "      <th>2018-03-01 01:00:00</th>\n",
       "      <td>85</td>\n",
       "    </tr>\n",
       "    <tr>\n",
       "      <th>2018-03-01 02:00:00</th>\n",
       "      <td>71</td>\n",
       "    </tr>\n",
       "    <tr>\n",
       "      <th>2018-03-01 03:00:00</th>\n",
       "      <td>66</td>\n",
       "    </tr>\n",
       "    <tr>\n",
       "      <th>2018-03-01 04:00:00</th>\n",
       "      <td>43</td>\n",
       "    </tr>\n",
       "    <tr>\n",
       "      <th>...</th>\n",
       "      <td>...</td>\n",
       "    </tr>\n",
       "    <tr>\n",
       "      <th>2018-08-31 19:00:00</th>\n",
       "      <td>136</td>\n",
       "    </tr>\n",
       "    <tr>\n",
       "      <th>2018-08-31 20:00:00</th>\n",
       "      <td>154</td>\n",
       "    </tr>\n",
       "    <tr>\n",
       "      <th>2018-08-31 21:00:00</th>\n",
       "      <td>159</td>\n",
       "    </tr>\n",
       "    <tr>\n",
       "      <th>2018-08-31 22:00:00</th>\n",
       "      <td>223</td>\n",
       "    </tr>\n",
       "    <tr>\n",
       "      <th>2018-08-31 23:00:00</th>\n",
       "      <td>205</td>\n",
       "    </tr>\n",
       "  </tbody>\n",
       "</table>\n",
       "<p>4416 rows × 1 columns</p>\n",
       "</div>"
      ],
      "text/plain": [
       "                     num_orders\n",
       "datetime                       \n",
       "2018-03-01 00:00:00         124\n",
       "2018-03-01 01:00:00          85\n",
       "2018-03-01 02:00:00          71\n",
       "2018-03-01 03:00:00          66\n",
       "2018-03-01 04:00:00          43\n",
       "...                         ...\n",
       "2018-08-31 19:00:00         136\n",
       "2018-08-31 20:00:00         154\n",
       "2018-08-31 21:00:00         159\n",
       "2018-08-31 22:00:00         223\n",
       "2018-08-31 23:00:00         205\n",
       "\n",
       "[4416 rows x 1 columns]"
      ]
     },
     "execution_count": 9,
     "metadata": {},
     "output_type": "execute_result"
    }
   ],
   "source": [
    "data_for_analytics"
   ]
  },
  {
   "cell_type": "code",
   "execution_count": 10,
   "metadata": {},
   "outputs": [],
   "source": [
    "# Analizemos los datos de 10 dias consecutivos en el mes de marzo \n",
    "data_days = data_for_analytics['2018-03-01':'2018-03-31'].copy()"
   ]
  },
  {
   "cell_type": "code",
   "execution_count": 11,
   "metadata": {},
   "outputs": [
    {
     "data": {
      "text/html": [
       "<div>\n",
       "<style scoped>\n",
       "    .dataframe tbody tr th:only-of-type {\n",
       "        vertical-align: middle;\n",
       "    }\n",
       "\n",
       "    .dataframe tbody tr th {\n",
       "        vertical-align: top;\n",
       "    }\n",
       "\n",
       "    .dataframe thead th {\n",
       "        text-align: right;\n",
       "    }\n",
       "</style>\n",
       "<table border=\"1\" class=\"dataframe\">\n",
       "  <thead>\n",
       "    <tr style=\"text-align: right;\">\n",
       "      <th></th>\n",
       "      <th>num_orders</th>\n",
       "    </tr>\n",
       "    <tr>\n",
       "      <th>datetime</th>\n",
       "      <th></th>\n",
       "    </tr>\n",
       "  </thead>\n",
       "  <tbody>\n",
       "    <tr>\n",
       "      <th>2018-03-01 00:00:00</th>\n",
       "      <td>124</td>\n",
       "    </tr>\n",
       "    <tr>\n",
       "      <th>2018-03-01 01:00:00</th>\n",
       "      <td>85</td>\n",
       "    </tr>\n",
       "    <tr>\n",
       "      <th>2018-03-01 02:00:00</th>\n",
       "      <td>71</td>\n",
       "    </tr>\n",
       "    <tr>\n",
       "      <th>2018-03-01 03:00:00</th>\n",
       "      <td>66</td>\n",
       "    </tr>\n",
       "    <tr>\n",
       "      <th>2018-03-01 04:00:00</th>\n",
       "      <td>43</td>\n",
       "    </tr>\n",
       "    <tr>\n",
       "      <th>...</th>\n",
       "      <td>...</td>\n",
       "    </tr>\n",
       "    <tr>\n",
       "      <th>2018-03-31 19:00:00</th>\n",
       "      <td>70</td>\n",
       "    </tr>\n",
       "    <tr>\n",
       "      <th>2018-03-31 20:00:00</th>\n",
       "      <td>59</td>\n",
       "    </tr>\n",
       "    <tr>\n",
       "      <th>2018-03-31 21:00:00</th>\n",
       "      <td>53</td>\n",
       "    </tr>\n",
       "    <tr>\n",
       "      <th>2018-03-31 22:00:00</th>\n",
       "      <td>82</td>\n",
       "    </tr>\n",
       "    <tr>\n",
       "      <th>2018-03-31 23:00:00</th>\n",
       "      <td>63</td>\n",
       "    </tr>\n",
       "  </tbody>\n",
       "</table>\n",
       "<p>744 rows × 1 columns</p>\n",
       "</div>"
      ],
      "text/plain": [
       "                     num_orders\n",
       "datetime                       \n",
       "2018-03-01 00:00:00         124\n",
       "2018-03-01 01:00:00          85\n",
       "2018-03-01 02:00:00          71\n",
       "2018-03-01 03:00:00          66\n",
       "2018-03-01 04:00:00          43\n",
       "...                         ...\n",
       "2018-03-31 19:00:00          70\n",
       "2018-03-31 20:00:00          59\n",
       "2018-03-31 21:00:00          53\n",
       "2018-03-31 22:00:00          82\n",
       "2018-03-31 23:00:00          63\n",
       "\n",
       "[744 rows x 1 columns]"
      ]
     },
     "execution_count": 11,
     "metadata": {},
     "output_type": "execute_result"
    }
   ],
   "source": [
    "data_days"
   ]
  },
  {
   "cell_type": "code",
   "execution_count": 12,
   "metadata": {
    "scrolled": false
   },
   "outputs": [
    {
     "data": {
      "image/png": "[encoded data removed]",
      "text/plain": [
       "<Figure size 640x480 with 1 Axes>"
      ]
     },
     "metadata": {},
     "output_type": "display_data"
    }
   ],
   "source": [
    "data_days.plot(title = 'Numero de pedidos por hora los dia del mes de Marzo',xlabel = 'Dias de marzo', ylabel= 'Numero de Ordenes')\n",
    "plt.show()"
   ]
  },
  {
   "cell_type": "markdown",
   "metadata": {},
   "source": [
    "Aparenta ser una serie temporal estacionaria, veamos la media y la varianza movil. "
   ]
  },
  {
   "cell_type": "code",
   "execution_count": 13,
   "metadata": {},
   "outputs": [],
   "source": [
    "# Calculamos la media movil y la varianza movil\n",
    "data_days['mean'] = data_days['num_orders'].rolling(163).mean()  # Una ventana de  163 horas es decir 1 semana \n",
    "data_days['std'] = data_days['num_orders'].rolling(163).std()"
   ]
  },
  {
   "cell_type": "code",
   "execution_count": 14,
   "metadata": {},
   "outputs": [
    {
     "data": {
      "text/plain": [
       "<Figure size 2000x600 with 0 Axes>"
      ]
     },
     "metadata": {},
     "output_type": "display_data"
    },
    {
     "data": {
      "image/png": "[encoded data removed]",
      "text/plain": [
       "<Figure size 640x480 with 1 Axes>"
      ]
     },
     "metadata": {},
     "output_type": "display_data"
    }
   ],
   "source": [
    "# Cambiar el tamaño de la figura\n",
    "plt.figure(figsize=(20, 6))  \n",
    "data_days.plot(title = 'Numero de pedidos por hora en los dias del mes de Marzo',xlabel = 'Dias de marzo', ylabel= 'Numero de Ordenes')\n",
    "plt.show()"
   ]
  },
  {
   "cell_type": "markdown",
   "metadata": {},
   "source": [
    "Vemos que la media y varianza movil tienen un comportamiento relativamente estable, casi constantes. Por ejemplo no vemos que estan creciendo o que estan decreciendo de manera drastica. Sabemos que en términos prácticos, una serie estacionaria tiene un comportamiento estadístico \"predecible\" que no depende del tiempo en que se observa."
   ]
  },
  {
   "cell_type": "markdown",
   "metadata": {},
   "source": [
    "**Informacion util que sera usada para la ingeneria de caracteristicas (IMPORTANTE)** \n",
    "\n",
    "Al agregar lags de 168 horas (una semana) el modelo mejora significativamente indica que existe un patrón semanal recurrente en tus datos. Esto tiene sentido en muchos contextos, especialmente en series temporales que están influenciadas por ciclos regulares como:\n",
    "\n",
    "Ciclos de comportamiento humano:\n",
    "\n",
    "Si los datos reflejan actividades humanas (como tráfico, ventas, consumo energético), es común observar patrones semanales. Por ejemplo, la actividad los fines de semana puede ser muy diferente a la de los días laborales.\n",
    "**Para nuestro proyecto sabemos que el pedido de taxi puede ir variando dependiendo del dia y la hora** \n",
    "\n",
    "Estacionalidad semanal\n",
    "\n",
    "La estacionalidad semanal es común en series temporales. Al incluir lags de 168 horas, el modelo tiene información directa sobre el comportamiento de la variable objetivo en el mismo momento de la semana anterior, lo cual puede ser altamente predictivo.\n",
    "\n",
    "Información contextual útil:\n",
    "\n",
    "Los lags más largos como 168 horas ayudan al modelo a aprender relaciones que ocurren a largo plazo, mientras que lags más cortos (como 1 o 3 horas) capturan fluctuaciones inmediatas. La combinación de ambos enriquece la capacidad del modelo para generalizar mejor.\n",
    "\n",
    "¿Por qué mejora con lags de 168 horas?\n",
    "\n",
    "Aumenta la capacidad del modelo para capturar patrones recurrentes:\n",
    "\n",
    "Si nuestra serie temporal tiene un fuerte componente semanal, el modelo puede beneficiarse al recibir como entrada valores pasados que ocurrieron en el mismo momento del ciclo anterior.\n",
    "\n",
    "Mayor riqueza de información:\n",
    "\n",
    "Los lags de 168 horas actúan como un \"recordatorio\" para el modelo sobre lo que ocurrió una semana antes. Esto es particularmente útil si la serie es altamente correlacionada con su propio historial.\n",
    "Reducción del ruido:\n",
    "\n",
    "Los lags largos pueden suavizar el efecto de ruido presente en datos más recientes (como fluctuaciones diarias), permitiendo al modelo centrarse en patrones más estructurados y predecibles."
   ]
  },
  {
   "cell_type": "markdown",
   "metadata": {},
   "source": [
    "**Analisis por dias** "
   ]
  },
  {
   "cell_type": "code",
   "execution_count": 15,
   "metadata": {},
   "outputs": [
    {
     "data": {
      "image/png": "[encoded data removed]",
      "text/plain": [
       "<Figure size 640x480 with 1 Axes>"
      ]
     },
     "metadata": {},
     "output_type": "display_data"
    }
   ],
   "source": [
    "data_for_analytics = data_for_analytics.resample('1D').sum()  # Remuestramos por dia para observar mejor los pedidos \n",
    "data_for_analytics['rolling_mean'] =  data_for_analytics.rolling(10).mean() # Calculamos la media movil con una ventana de 10 dias \n",
    "data_for_analytics['num_orders'].plot(title = 'Numero de ordenes por dia durante 5 meses', xlabel = 'meses', ylabel = 'pedidos')\n",
    "plt.show()"
   ]
  },
  {
   "cell_type": "code",
   "execution_count": 16,
   "metadata": {},
   "outputs": [
    {
     "data": {
      "image/png": "[encoded data removed]",
      "text/plain": [
       "<Figure size 640x480 with 1 Axes>"
      ]
     },
     "metadata": {},
     "output_type": "display_data"
    }
   ],
   "source": [
    "# Suavizamos la grafica \n",
    "data_for_analytics['rolling_mean'].plot(title = 'Media movil con una ventana de 10 dias', xlabel = 'meses', ylabel = 'pedidos')\n",
    "plt.show()"
   ]
  },
  {
   "cell_type": "markdown",
   "metadata": {},
   "source": [
    "Podemos ver el notorio aumento de pedidos conforme avanza los meses, algunas cuantas caidas un tanto leves. "
   ]
  },
  {
   "cell_type": "code",
   "execution_count": 17,
   "metadata": {},
   "outputs": [
    {
     "data": {
      "image/png": "[encoded data removed]",
      "text/plain": [
       "<Figure size 800x800 with 3 Axes>"
      ]
     },
     "metadata": {},
     "output_type": "display_data"
    }
   ],
   "source": [
    "decomposed = seasonal_decompose(data_for_analytics['num_orders'])\n",
    "\n",
    "plt.figure(figsize=(8, 8))\n",
    "\n",
    "plt.subplot(311)\n",
    "decomposed.trend.plot(ax=plt.gca())\n",
    "plt.title('Tendencia')\n",
    "plt.subplot(312)\n",
    "decomposed.seasonal.plot(ax=plt.gca())\n",
    "plt.title('Estacionalidad')\n",
    "plt.subplot(313)\n",
    "decomposed.resid.plot(ax=plt.gca())\n",
    "plt.title('Residuales')\n",
    "plt.tight_layout()    # esto ayuda a encajar gráficos secundarios en el área"
   ]
  },
  {
   "cell_type": "markdown",
   "metadata": {},
   "source": [
    "1. Tendencia (Trend)\n",
    " - Recordar: Representa los cambios a largo plazo en los datos, eliminando fluctuaciones estacionales y aleatorias.\n",
    " - En este caso, se observa un crecimiento constante en el número de pedidos desde marzo hasta agosto de 2018. Esto podría indicar un aumento continuo de la actividad o popularidad del servicioo de taxi en los aeropuertos. \n",
    " \n",
    "2. Estacionalidad (Seasonal)\n",
    "  - Recordar: Muestra los patrones repetitivos que ocurren en intervalos regulares\n",
    "  - El patrón parece ser bastante periódico, lo que podría indicar fluctuaciones en función de los días laborales y fines de semana. \n",
    "\n",
    "Días laborales: Mayor actividad.\n",
    "\n",
    "Fines de semana: Posible descenso.\n",
    "\n",
    "Analizar este patrón puede ser útil para prever la demanda en días específicos y planificar recursos (como aumentar taxista en cierto dia) Vemos una aplitud de 300 (+150 - 150 aprox), lo cual es una cantidad de pedidos considerable como para designar más demanda de personal.\n",
    " "
   ]
  },
  {
   "cell_type": "code",
   "execution_count": 18,
   "metadata": {},
   "outputs": [
    {
     "data": {
      "image/png": "[encoded data removed]",
      "text/plain": [
       "<Figure size 640x480 with 1 Axes>"
      ]
     },
     "metadata": {},
     "output_type": "display_data"
    }
   ],
   "source": [
    "# Agregar el día de la semana como una nueva columna\n",
    "data_for_analytics['day_of_week'] = data_for_analytics.index.day_name()\n",
    "\n",
    "# Calcular el promedio de pedidos por cada día de la semana\n",
    "avg_by_day = data_for_analytics.groupby('day_of_week')['num_orders'].mean()\n",
    "\n",
    "# Ordenar los días de la semana para que aparezcan en el orden correcto\n",
    "avg_by_day = avg_by_day.reindex(['Monday', 'Tuesday', 'Wednesday', 'Thursday', 'Friday', 'Saturday', 'Sunday'])\n",
    "\n",
    "# Graficar el promedio de pedidos por día de la semana\n",
    "avg_by_day.plot(kind='bar', title='Promedio de pedidos por día de la semana', ylabel='Pedidos')\n",
    "plt.show()\n"
   ]
  },
  {
   "cell_type": "markdown",
   "metadata": {},
   "source": [
    "El patron es mostrar picos los lunes luego una bajada en los los martes y a mitad de semana un pico, por lo que los fines de semana hay una bajada en los pedidos como se mencionó en la grafica de estacionalidad."
   ]
  },
  {
   "cell_type": "markdown",
   "metadata": {},
   "source": [
    "La gráfica de barras refleja los promedios absolutos, y confirma que los fines de semana tienen menos pedidos, pero no hay una caída dramática.\n",
    "\n",
    "Es importante decir que la descomposición estacional enfatiza patrones cíclicos relativos para resaltar tendencias que podrían ser útiles en análisis de series temporales (en este proyecto asignar mayor personal los dias o horas con más demanda)."
   ]
  },
  {
   "cell_type": "markdown",
   "metadata": {},
   "source": [
    "## Prueba de cordura"
   ]
  },
  {
   "cell_type": "code",
   "execution_count": 19,
   "metadata": {},
   "outputs": [
    {
     "name": "stdout",
     "output_type": "stream",
     "text": [
      "Raiz del error cuadratico medio (RECM):  76.00579729020318\n"
     ]
    }
   ],
   "source": [
    "# Prueba de cordura \n",
    "train, test = train_test_split(data, shuffle = False, test_size = 0.20)\n",
    "predict_mediana = np.ones(test.shape[0]) * train['num_orders'].median()\n",
    "ECM = mean_squared_error(test,predict_mediana)\n",
    "print('Raiz del error cuadratico medio (RECM): ',ECM ** 0.5)"
   ]
  },
  {
   "cell_type": "markdown",
   "metadata": {},
   "source": [
    "Vemos que no superamos el umbral del proyecto (48), probemos ahora con lo siguiente: \n",
    " \n",
    "El nuevo valor x(t) se predice mediante el valor anterior de la serie, definido como x(t-1). Este método es independiente de la métrica. Considera que el último valor de los datos de entrenamiento se puede utilizar como el primer valor de los datos de prueba."
   ]
  },
  {
   "cell_type": "code",
   "execution_count": 20,
   "metadata": {},
   "outputs": [
    {
     "name": "stdout",
     "output_type": "stream",
     "text": [
      "Raiz del error cuadratico medio (RECM):  53.36807644753937\n"
     ]
    }
   ],
   "source": [
    "predict  = test.shift()\n",
    "predict.iloc[0] = train['num_orders'].iloc[-1]\n",
    "ECM = mean_squared_error(test,predict)\n",
    "print('Raiz del error cuadratico medio (RECM): ',ECM ** 0.5)"
   ]
  },
  {
   "cell_type": "markdown",
   "metadata": {},
   "source": [
    "¡ Interesante ! logramos bajar el error a 53 aprox el numero de pedidos.Interpretamos esto de la siguiente manera: si deseamos predecir el numero de pedidos durante la siguiente podemos predecirla como el valor de pedidos de la anterior hora. **Claro, con un error de 53 pedidos en promedio.**"
   ]
  },
  {
   "cell_type": "markdown",
   "metadata": {},
   "source": [
    "Tenemos este umbral y el umbral de nuestro proyecto que tiene que ser menor a 48, ahora asi aplicaremos un modelo ML para poder predecir la cantidad de pedidos"
   ]
  },
  {
   "cell_type": "markdown",
   "metadata": {},
   "source": [
    "## Análisis y Ajustes Iniciales"
   ]
  },
  {
   "cell_type": "markdown",
   "metadata": {},
   "source": [
    "En el proceso de modelado, inicialmente experimenté con diferentes valores para los lags de las características, partiendo del supuesto de que un lag de 24 horas podría ser suficiente para capturar patrones diarios relevantes en los datos. Esto se basó en que el objetivo era predecir la cantidad de pedidos para la siguiente hora. Sin embargo, este enfoque inicial resultó en modelos que no pasaban la prueba de cordura, indicando que la información proporcionada por los lags no era suficiente para representar la dinámica temporal del sistema.\n",
    "\n",
    "Posteriormente, me enfoqué en ajustar los hiperparámetros del modelo para mejorar su capacidad de generalización. A pesar de estos esfuerzos, los modelos continuaban sobreajustándose, generando errores considerablemente bajos en el conjunto de entrenamiento, pero resultados insatisfactorios en el conjunto de prueba. Esto reforzó la necesidad de revisar la selección de características y capturar mejor las relaciones temporales subyacentes.\n",
    "\n",
    "**Ajuste de Lags para Capturar Patrones Semanales**\n",
    "\n",
    "Se exploraron diferentes configuraciones de lags y se identificó que incluir un mayor rango temporal, específicamente lags de hasta 168 horas (una semana), permitía a los modelos capturar patrones semanales importantes que no estaban representados con ventanas más cortas. Esto mejoró significativamente la capacidad de generalización del modelo.\n",
    "\n",
    "Finalmente, se decidió utilizar la siguiente configuración de lags:\n",
    "\n",
    "Lags individuales: lag_1, lag_12, lag_24, lag_36, ..., lag_168\n",
    "Esto permite capturar no solo patrones diarios, sino también tendencias más amplias dentro de la semana. Además, esta configuración asegura que los modelos tengan acceso a un rango más diversificado de información temporal.\n",
    "\n",
    "**Impacto de la Media y Varianza Móvil**\n",
    "\n",
    "Paralelamente, se analizaron características derivadas, como la media y varianza móvil, para complementar los lags. Se observó que:\n",
    "\n",
    "Ventanas pequeñas: Una ventana de tamaño reducido (e.g., 6 horas) mejoró la calidad del modelo. Esto sugiere que capturar las fluctuaciones a corto plazo aporta información adicional que los lags por sí solos no representan.\n",
    "\n",
    "Ventanas largas: En contraste, una ventana semanal (168 horas) para la media y varianza móvil no mostró beneficios y, en algunos casos, empeoró los resultados del modelo. Esto puede deberse a la redundancia de esta información con los lags ya incluidos, lo que podría introducir ruido y afectar negativamente el desempeño.\n",
    "\n",
    "\n",
    "**Conclusión y Siguiente Paso**\n",
    "\n",
    "Con base en estos hallazgos, se definió una estrategia de ingeniería de características enfocada en maximizar la información útil para el modelo y minimizar redundancias. El conjunto final incluye:\n",
    "\n",
    "Lags representativos: Para capturar tanto patrones a corto plazo como semanales.\n",
    "Media y varianza móvil: Limitadas a ventanas pequeñas (e.g., 6 horas), ya que ventanas más amplias no agregaron valor adicional.\n",
    "El siguiente paso será profundizar en la creación de características derivadas más complejas, como tendencias móviles o diferencias entre medias a corto y largo plazo, para mejorar aún más la capacidad predictiva del modelo.\n",
    "\n",
    "Ahora, procedamos a detallar la implementación de la ingeniería de características."
   ]
  },
  {
   "cell_type": "code",
   "execution_count": 21,
   "metadata": {},
   "outputs": [],
   "source": [
    "# Creacion de caracteristicas\n",
    "def make_features(data,rolling_mean_size,rolling_std): \n",
    "    \n",
    "    # Crear características temporales\n",
    "    data['month'] = data.index.month  # mes\n",
    "    data['day'] = data.index.day     #dia del mes \n",
    "    data['dayofweek'] = data.index.dayofweek    # dia de la semana \n",
    "    data['hour'] = data.index.hour    # hora del dia \n",
    "    \n",
    "    # Crear características de lag\n",
    "    for lag in range(15):\n",
    "        if(lag ==  0):\n",
    "            data['lag_1'] = data['num_orders'].shift(1)\n",
    "        else:\n",
    "            lag = (lag) * 12\n",
    "            data['lag_{}'.format(lag)] = data['num_orders'].shift(lag)\n",
    "            \n",
    "    # Crear características de medias móviles y desviaciones estándar\n",
    "    data['rolling_mean'] = data['num_orders'].shift(1).rolling(rolling_mean_size).mean()  # Excluimos el valor x(t) para evitar el data leakage\n",
    "    data['rolling_std'] = data['num_orders'].shift(1).rolling(rolling_std).std()\n"
   ]
  },
  {
   "cell_type": "code",
   "execution_count": 22,
   "metadata": {},
   "outputs": [],
   "source": [
    "# Ingeneria de caracteristicas \n",
    "make_features(data,6,6)"
   ]
  },
  {
   "cell_type": "code",
   "execution_count": 23,
   "metadata": {
    "scrolled": true
   },
   "outputs": [
    {
     "data": {
      "text/html": [
       "<div>\n",
       "<style scoped>\n",
       "    .dataframe tbody tr th:only-of-type {\n",
       "        vertical-align: middle;\n",
       "    }\n",
       "\n",
       "    .dataframe tbody tr th {\n",
       "        vertical-align: top;\n",
       "    }\n",
       "\n",
       "    .dataframe thead th {\n",
       "        text-align: right;\n",
       "    }\n",
       "</style>\n",
       "<table border=\"1\" class=\"dataframe\">\n",
       "  <thead>\n",
       "    <tr style=\"text-align: right;\">\n",
       "      <th></th>\n",
       "      <th>num_orders</th>\n",
       "      <th>month</th>\n",
       "      <th>day</th>\n",
       "      <th>dayofweek</th>\n",
       "      <th>hour</th>\n",
       "      <th>lag_1</th>\n",
       "      <th>lag_12</th>\n",
       "      <th>lag_24</th>\n",
       "      <th>lag_36</th>\n",
       "      <th>lag_48</th>\n",
       "      <th>...</th>\n",
       "      <th>lag_84</th>\n",
       "      <th>lag_96</th>\n",
       "      <th>lag_108</th>\n",
       "      <th>lag_120</th>\n",
       "      <th>lag_132</th>\n",
       "      <th>lag_144</th>\n",
       "      <th>lag_156</th>\n",
       "      <th>lag_168</th>\n",
       "      <th>rolling_mean</th>\n",
       "      <th>rolling_std</th>\n",
       "    </tr>\n",
       "    <tr>\n",
       "      <th>datetime</th>\n",
       "      <th></th>\n",
       "      <th></th>\n",
       "      <th></th>\n",
       "      <th></th>\n",
       "      <th></th>\n",
       "      <th></th>\n",
       "      <th></th>\n",
       "      <th></th>\n",
       "      <th></th>\n",
       "      <th></th>\n",
       "      <th></th>\n",
       "      <th></th>\n",
       "      <th></th>\n",
       "      <th></th>\n",
       "      <th></th>\n",
       "      <th></th>\n",
       "      <th></th>\n",
       "      <th></th>\n",
       "      <th></th>\n",
       "      <th></th>\n",
       "      <th></th>\n",
       "    </tr>\n",
       "  </thead>\n",
       "  <tbody>\n",
       "    <tr>\n",
       "      <th>2018-03-01 00:00:00</th>\n",
       "      <td>124</td>\n",
       "      <td>3</td>\n",
       "      <td>1</td>\n",
       "      <td>3</td>\n",
       "      <td>0</td>\n",
       "      <td>NaN</td>\n",
       "      <td>NaN</td>\n",
       "      <td>NaN</td>\n",
       "      <td>NaN</td>\n",
       "      <td>NaN</td>\n",
       "      <td>...</td>\n",
       "      <td>NaN</td>\n",
       "      <td>NaN</td>\n",
       "      <td>NaN</td>\n",
       "      <td>NaN</td>\n",
       "      <td>NaN</td>\n",
       "      <td>NaN</td>\n",
       "      <td>NaN</td>\n",
       "      <td>NaN</td>\n",
       "      <td>NaN</td>\n",
       "      <td>NaN</td>\n",
       "    </tr>\n",
       "    <tr>\n",
       "      <th>2018-03-01 01:00:00</th>\n",
       "      <td>85</td>\n",
       "      <td>3</td>\n",
       "      <td>1</td>\n",
       "      <td>3</td>\n",
       "      <td>1</td>\n",
       "      <td>124.0</td>\n",
       "      <td>NaN</td>\n",
       "      <td>NaN</td>\n",
       "      <td>NaN</td>\n",
       "      <td>NaN</td>\n",
       "      <td>...</td>\n",
       "      <td>NaN</td>\n",
       "      <td>NaN</td>\n",
       "      <td>NaN</td>\n",
       "      <td>NaN</td>\n",
       "      <td>NaN</td>\n",
       "      <td>NaN</td>\n",
       "      <td>NaN</td>\n",
       "      <td>NaN</td>\n",
       "      <td>NaN</td>\n",
       "      <td>NaN</td>\n",
       "    </tr>\n",
       "    <tr>\n",
       "      <th>2018-03-01 02:00:00</th>\n",
       "      <td>71</td>\n",
       "      <td>3</td>\n",
       "      <td>1</td>\n",
       "      <td>3</td>\n",
       "      <td>2</td>\n",
       "      <td>85.0</td>\n",
       "      <td>NaN</td>\n",
       "      <td>NaN</td>\n",
       "      <td>NaN</td>\n",
       "      <td>NaN</td>\n",
       "      <td>...</td>\n",
       "      <td>NaN</td>\n",
       "      <td>NaN</td>\n",
       "      <td>NaN</td>\n",
       "      <td>NaN</td>\n",
       "      <td>NaN</td>\n",
       "      <td>NaN</td>\n",
       "      <td>NaN</td>\n",
       "      <td>NaN</td>\n",
       "      <td>NaN</td>\n",
       "      <td>NaN</td>\n",
       "    </tr>\n",
       "    <tr>\n",
       "      <th>2018-03-01 03:00:00</th>\n",
       "      <td>66</td>\n",
       "      <td>3</td>\n",
       "      <td>1</td>\n",
       "      <td>3</td>\n",
       "      <td>3</td>\n",
       "      <td>71.0</td>\n",
       "      <td>NaN</td>\n",
       "      <td>NaN</td>\n",
       "      <td>NaN</td>\n",
       "      <td>NaN</td>\n",
       "      <td>...</td>\n",
       "      <td>NaN</td>\n",
       "      <td>NaN</td>\n",
       "      <td>NaN</td>\n",
       "      <td>NaN</td>\n",
       "      <td>NaN</td>\n",
       "      <td>NaN</td>\n",
       "      <td>NaN</td>\n",
       "      <td>NaN</td>\n",
       "      <td>NaN</td>\n",
       "      <td>NaN</td>\n",
       "    </tr>\n",
       "    <tr>\n",
       "      <th>2018-03-01 04:00:00</th>\n",
       "      <td>43</td>\n",
       "      <td>3</td>\n",
       "      <td>1</td>\n",
       "      <td>3</td>\n",
       "      <td>4</td>\n",
       "      <td>66.0</td>\n",
       "      <td>NaN</td>\n",
       "      <td>NaN</td>\n",
       "      <td>NaN</td>\n",
       "      <td>NaN</td>\n",
       "      <td>...</td>\n",
       "      <td>NaN</td>\n",
       "      <td>NaN</td>\n",
       "      <td>NaN</td>\n",
       "      <td>NaN</td>\n",
       "      <td>NaN</td>\n",
       "      <td>NaN</td>\n",
       "      <td>NaN</td>\n",
       "      <td>NaN</td>\n",
       "      <td>NaN</td>\n",
       "      <td>NaN</td>\n",
       "    </tr>\n",
       "    <tr>\n",
       "      <th>...</th>\n",
       "      <td>...</td>\n",
       "      <td>...</td>\n",
       "      <td>...</td>\n",
       "      <td>...</td>\n",
       "      <td>...</td>\n",
       "      <td>...</td>\n",
       "      <td>...</td>\n",
       "      <td>...</td>\n",
       "      <td>...</td>\n",
       "      <td>...</td>\n",
       "      <td>...</td>\n",
       "      <td>...</td>\n",
       "      <td>...</td>\n",
       "      <td>...</td>\n",
       "      <td>...</td>\n",
       "      <td>...</td>\n",
       "      <td>...</td>\n",
       "      <td>...</td>\n",
       "      <td>...</td>\n",
       "      <td>...</td>\n",
       "      <td>...</td>\n",
       "    </tr>\n",
       "    <tr>\n",
       "      <th>2018-08-31 19:00:00</th>\n",
       "      <td>136</td>\n",
       "      <td>8</td>\n",
       "      <td>31</td>\n",
       "      <td>4</td>\n",
       "      <td>19</td>\n",
       "      <td>207.0</td>\n",
       "      <td>46.0</td>\n",
       "      <td>72.0</td>\n",
       "      <td>39.0</td>\n",
       "      <td>169.0</td>\n",
       "      <td>...</td>\n",
       "      <td>71.0</td>\n",
       "      <td>152.0</td>\n",
       "      <td>37.0</td>\n",
       "      <td>126.0</td>\n",
       "      <td>50.0</td>\n",
       "      <td>123.0</td>\n",
       "      <td>22.0</td>\n",
       "      <td>113.0</td>\n",
       "      <td>172.666667</td>\n",
       "      <td>41.389210</td>\n",
       "    </tr>\n",
       "    <tr>\n",
       "      <th>2018-08-31 20:00:00</th>\n",
       "      <td>154</td>\n",
       "      <td>8</td>\n",
       "      <td>31</td>\n",
       "      <td>4</td>\n",
       "      <td>20</td>\n",
       "      <td>136.0</td>\n",
       "      <td>182.0</td>\n",
       "      <td>142.0</td>\n",
       "      <td>166.0</td>\n",
       "      <td>191.0</td>\n",
       "      <td>...</td>\n",
       "      <td>159.0</td>\n",
       "      <td>96.0</td>\n",
       "      <td>131.0</td>\n",
       "      <td>122.0</td>\n",
       "      <td>124.0</td>\n",
       "      <td>105.0</td>\n",
       "      <td>108.0</td>\n",
       "      <td>179.0</td>\n",
       "      <td>167.666667</td>\n",
       "      <td>44.080230</td>\n",
       "    </tr>\n",
       "    <tr>\n",
       "      <th>2018-08-31 21:00:00</th>\n",
       "      <td>159</td>\n",
       "      <td>8</td>\n",
       "      <td>31</td>\n",
       "      <td>4</td>\n",
       "      <td>21</td>\n",
       "      <td>154.0</td>\n",
       "      <td>203.0</td>\n",
       "      <td>198.0</td>\n",
       "      <td>226.0</td>\n",
       "      <td>170.0</td>\n",
       "      <td>...</td>\n",
       "      <td>195.0</td>\n",
       "      <td>152.0</td>\n",
       "      <td>174.0</td>\n",
       "      <td>107.0</td>\n",
       "      <td>147.0</td>\n",
       "      <td>162.0</td>\n",
       "      <td>196.0</td>\n",
       "      <td>166.0</td>\n",
       "      <td>171.166667</td>\n",
       "      <td>41.537533</td>\n",
       "    </tr>\n",
       "    <tr>\n",
       "      <th>2018-08-31 22:00:00</th>\n",
       "      <td>223</td>\n",
       "      <td>8</td>\n",
       "      <td>31</td>\n",
       "      <td>4</td>\n",
       "      <td>22</td>\n",
       "      <td>159.0</td>\n",
       "      <td>191.0</td>\n",
       "      <td>158.0</td>\n",
       "      <td>227.0</td>\n",
       "      <td>177.0</td>\n",
       "      <td>...</td>\n",
       "      <td>183.0</td>\n",
       "      <td>173.0</td>\n",
       "      <td>170.0</td>\n",
       "      <td>145.0</td>\n",
       "      <td>136.0</td>\n",
       "      <td>155.0</td>\n",
       "      <td>126.0</td>\n",
       "      <td>242.0</td>\n",
       "      <td>178.333333</td>\n",
       "      <td>32.934278</td>\n",
       "    </tr>\n",
       "    <tr>\n",
       "      <th>2018-08-31 23:00:00</th>\n",
       "      <td>205</td>\n",
       "      <td>8</td>\n",
       "      <td>31</td>\n",
       "      <td>4</td>\n",
       "      <td>23</td>\n",
       "      <td>223.0</td>\n",
       "      <td>167.0</td>\n",
       "      <td>246.0</td>\n",
       "      <td>156.0</td>\n",
       "      <td>265.0</td>\n",
       "      <td>...</td>\n",
       "      <td>141.0</td>\n",
       "      <td>157.0</td>\n",
       "      <td>164.0</td>\n",
       "      <td>238.0</td>\n",
       "      <td>96.0</td>\n",
       "      <td>174.0</td>\n",
       "      <td>103.0</td>\n",
       "      <td>173.0</td>\n",
       "      <td>182.666667</td>\n",
       "      <td>37.302368</td>\n",
       "    </tr>\n",
       "  </tbody>\n",
       "</table>\n",
       "<p>4416 rows × 22 columns</p>\n",
       "</div>"
      ],
      "text/plain": [
       "                     num_orders  month  day  dayofweek  hour  lag_1  lag_12  \\\n",
       "datetime                                                                      \n",
       "2018-03-01 00:00:00         124      3    1          3     0    NaN     NaN   \n",
       "2018-03-01 01:00:00          85      3    1          3     1  124.0     NaN   \n",
       "2018-03-01 02:00:00          71      3    1          3     2   85.0     NaN   \n",
       "2018-03-01 03:00:00          66      3    1          3     3   71.0     NaN   \n",
       "2018-03-01 04:00:00          43      3    1          3     4   66.0     NaN   \n",
       "...                         ...    ...  ...        ...   ...    ...     ...   \n",
       "2018-08-31 19:00:00         136      8   31          4    19  207.0    46.0   \n",
       "2018-08-31 20:00:00         154      8   31          4    20  136.0   182.0   \n",
       "2018-08-31 21:00:00         159      8   31          4    21  154.0   203.0   \n",
       "2018-08-31 22:00:00         223      8   31          4    22  159.0   191.0   \n",
       "2018-08-31 23:00:00         205      8   31          4    23  223.0   167.0   \n",
       "\n",
       "                     lag_24  lag_36  lag_48  ...  lag_84  lag_96  lag_108  \\\n",
       "datetime                                     ...                            \n",
       "2018-03-01 00:00:00     NaN     NaN     NaN  ...     NaN     NaN      NaN   \n",
       "2018-03-01 01:00:00     NaN     NaN     NaN  ...     NaN     NaN      NaN   \n",
       "2018-03-01 02:00:00     NaN     NaN     NaN  ...     NaN     NaN      NaN   \n",
       "2018-03-01 03:00:00     NaN     NaN     NaN  ...     NaN     NaN      NaN   \n",
       "2018-03-01 04:00:00     NaN     NaN     NaN  ...     NaN     NaN      NaN   \n",
       "...                     ...     ...     ...  ...     ...     ...      ...   \n",
       "2018-08-31 19:00:00    72.0    39.0   169.0  ...    71.0   152.0     37.0   \n",
       "2018-08-31 20:00:00   142.0   166.0   191.0  ...   159.0    96.0    131.0   \n",
       "2018-08-31 21:00:00   198.0   226.0   170.0  ...   195.0   152.0    174.0   \n",
       "2018-08-31 22:00:00   158.0   227.0   177.0  ...   183.0   173.0    170.0   \n",
       "2018-08-31 23:00:00   246.0   156.0   265.0  ...   141.0   157.0    164.0   \n",
       "\n",
       "                     lag_120  lag_132  lag_144  lag_156  lag_168  \\\n",
       "datetime                                                           \n",
       "2018-03-01 00:00:00      NaN      NaN      NaN      NaN      NaN   \n",
       "2018-03-01 01:00:00      NaN      NaN      NaN      NaN      NaN   \n",
       "2018-03-01 02:00:00      NaN      NaN      NaN      NaN      NaN   \n",
       "2018-03-01 03:00:00      NaN      NaN      NaN      NaN      NaN   \n",
       "2018-03-01 04:00:00      NaN      NaN      NaN      NaN      NaN   \n",
       "...                      ...      ...      ...      ...      ...   \n",
       "2018-08-31 19:00:00    126.0     50.0    123.0     22.0    113.0   \n",
       "2018-08-31 20:00:00    122.0    124.0    105.0    108.0    179.0   \n",
       "2018-08-31 21:00:00    107.0    147.0    162.0    196.0    166.0   \n",
       "2018-08-31 22:00:00    145.0    136.0    155.0    126.0    242.0   \n",
       "2018-08-31 23:00:00    238.0     96.0    174.0    103.0    173.0   \n",
       "\n",
       "                     rolling_mean  rolling_std  \n",
       "datetime                                        \n",
       "2018-03-01 00:00:00           NaN          NaN  \n",
       "2018-03-01 01:00:00           NaN          NaN  \n",
       "2018-03-01 02:00:00           NaN          NaN  \n",
       "2018-03-01 03:00:00           NaN          NaN  \n",
       "2018-03-01 04:00:00           NaN          NaN  \n",
       "...                           ...          ...  \n",
       "2018-08-31 19:00:00    172.666667    41.389210  \n",
       "2018-08-31 20:00:00    167.666667    44.080230  \n",
       "2018-08-31 21:00:00    171.166667    41.537533  \n",
       "2018-08-31 22:00:00    178.333333    32.934278  \n",
       "2018-08-31 23:00:00    182.666667    37.302368  \n",
       "\n",
       "[4416 rows x 22 columns]"
      ]
     },
     "execution_count": 23,
     "metadata": {},
     "output_type": "execute_result"
    }
   ],
   "source": [
    "data"
   ]
  },
  {
   "cell_type": "code",
   "execution_count": 24,
   "metadata": {},
   "outputs": [
    {
     "data": {
      "text/html": [
       "<div>\n",
       "<style scoped>\n",
       "    .dataframe tbody tr th:only-of-type {\n",
       "        vertical-align: middle;\n",
       "    }\n",
       "\n",
       "    .dataframe tbody tr th {\n",
       "        vertical-align: top;\n",
       "    }\n",
       "\n",
       "    .dataframe thead th {\n",
       "        text-align: right;\n",
       "    }\n",
       "</style>\n",
       "<table border=\"1\" class=\"dataframe\">\n",
       "  <thead>\n",
       "    <tr style=\"text-align: right;\">\n",
       "      <th></th>\n",
       "      <th>num_orders</th>\n",
       "      <th>month</th>\n",
       "      <th>day</th>\n",
       "      <th>dayofweek</th>\n",
       "      <th>hour</th>\n",
       "      <th>lag_1</th>\n",
       "      <th>lag_12</th>\n",
       "      <th>lag_24</th>\n",
       "      <th>lag_36</th>\n",
       "      <th>lag_48</th>\n",
       "      <th>...</th>\n",
       "      <th>lag_84</th>\n",
       "      <th>lag_96</th>\n",
       "      <th>lag_108</th>\n",
       "      <th>lag_120</th>\n",
       "      <th>lag_132</th>\n",
       "      <th>lag_144</th>\n",
       "      <th>lag_156</th>\n",
       "      <th>lag_168</th>\n",
       "      <th>rolling_mean</th>\n",
       "      <th>rolling_std</th>\n",
       "    </tr>\n",
       "    <tr>\n",
       "      <th>datetime</th>\n",
       "      <th></th>\n",
       "      <th></th>\n",
       "      <th></th>\n",
       "      <th></th>\n",
       "      <th></th>\n",
       "      <th></th>\n",
       "      <th></th>\n",
       "      <th></th>\n",
       "      <th></th>\n",
       "      <th></th>\n",
       "      <th></th>\n",
       "      <th></th>\n",
       "      <th></th>\n",
       "      <th></th>\n",
       "      <th></th>\n",
       "      <th></th>\n",
       "      <th></th>\n",
       "      <th></th>\n",
       "      <th></th>\n",
       "      <th></th>\n",
       "      <th></th>\n",
       "    </tr>\n",
       "  </thead>\n",
       "  <tbody>\n",
       "    <tr>\n",
       "      <th>2018-03-08 00:00:00</th>\n",
       "      <td>143</td>\n",
       "      <td>3</td>\n",
       "      <td>8</td>\n",
       "      <td>3</td>\n",
       "      <td>0</td>\n",
       "      <td>94.0</td>\n",
       "      <td>34.0</td>\n",
       "      <td>100.0</td>\n",
       "      <td>41.0</td>\n",
       "      <td>42.0</td>\n",
       "      <td>...</td>\n",
       "      <td>30.0</td>\n",
       "      <td>75.0</td>\n",
       "      <td>32.0</td>\n",
       "      <td>163.0</td>\n",
       "      <td>36.0</td>\n",
       "      <td>90.0</td>\n",
       "      <td>30.0</td>\n",
       "      <td>124.0</td>\n",
       "      <td>92.333333</td>\n",
       "      <td>26.658332</td>\n",
       "    </tr>\n",
       "    <tr>\n",
       "      <th>2018-03-08 01:00:00</th>\n",
       "      <td>78</td>\n",
       "      <td>3</td>\n",
       "      <td>8</td>\n",
       "      <td>3</td>\n",
       "      <td>1</td>\n",
       "      <td>143.0</td>\n",
       "      <td>55.0</td>\n",
       "      <td>121.0</td>\n",
       "      <td>42.0</td>\n",
       "      <td>75.0</td>\n",
       "      <td>...</td>\n",
       "      <td>30.0</td>\n",
       "      <td>60.0</td>\n",
       "      <td>28.0</td>\n",
       "      <td>108.0</td>\n",
       "      <td>45.0</td>\n",
       "      <td>120.0</td>\n",
       "      <td>32.0</td>\n",
       "      <td>85.0</td>\n",
       "      <td>99.666667</td>\n",
       "      <td>33.921478</td>\n",
       "    </tr>\n",
       "    <tr>\n",
       "      <th>2018-03-08 02:00:00</th>\n",
       "      <td>65</td>\n",
       "      <td>3</td>\n",
       "      <td>8</td>\n",
       "      <td>3</td>\n",
       "      <td>2</td>\n",
       "      <td>78.0</td>\n",
       "      <td>43.0</td>\n",
       "      <td>24.0</td>\n",
       "      <td>40.0</td>\n",
       "      <td>36.0</td>\n",
       "      <td>...</td>\n",
       "      <td>56.0</td>\n",
       "      <td>26.0</td>\n",
       "      <td>41.0</td>\n",
       "      <td>25.0</td>\n",
       "      <td>44.0</td>\n",
       "      <td>75.0</td>\n",
       "      <td>48.0</td>\n",
       "      <td>71.0</td>\n",
       "      <td>104.333333</td>\n",
       "      <td>26.927062</td>\n",
       "    </tr>\n",
       "    <tr>\n",
       "      <th>2018-03-08 03:00:00</th>\n",
       "      <td>68</td>\n",
       "      <td>3</td>\n",
       "      <td>8</td>\n",
       "      <td>3</td>\n",
       "      <td>3</td>\n",
       "      <td>65.0</td>\n",
       "      <td>51.0</td>\n",
       "      <td>66.0</td>\n",
       "      <td>63.0</td>\n",
       "      <td>49.0</td>\n",
       "      <td>...</td>\n",
       "      <td>58.0</td>\n",
       "      <td>42.0</td>\n",
       "      <td>76.0</td>\n",
       "      <td>64.0</td>\n",
       "      <td>59.0</td>\n",
       "      <td>64.0</td>\n",
       "      <td>66.0</td>\n",
       "      <td>66.0</td>\n",
       "      <td>102.500000</td>\n",
       "      <td>29.494067</td>\n",
       "    </tr>\n",
       "    <tr>\n",
       "      <th>2018-03-08 04:00:00</th>\n",
       "      <td>60</td>\n",
       "      <td>3</td>\n",
       "      <td>8</td>\n",
       "      <td>3</td>\n",
       "      <td>4</td>\n",
       "      <td>68.0</td>\n",
       "      <td>46.0</td>\n",
       "      <td>73.0</td>\n",
       "      <td>42.0</td>\n",
       "      <td>30.0</td>\n",
       "      <td>...</td>\n",
       "      <td>64.0</td>\n",
       "      <td>27.0</td>\n",
       "      <td>46.0</td>\n",
       "      <td>44.0</td>\n",
       "      <td>82.0</td>\n",
       "      <td>20.0</td>\n",
       "      <td>43.0</td>\n",
       "      <td>43.0</td>\n",
       "      <td>95.833333</td>\n",
       "      <td>32.381579</td>\n",
       "    </tr>\n",
       "    <tr>\n",
       "      <th>...</th>\n",
       "      <td>...</td>\n",
       "      <td>...</td>\n",
       "      <td>...</td>\n",
       "      <td>...</td>\n",
       "      <td>...</td>\n",
       "      <td>...</td>\n",
       "      <td>...</td>\n",
       "      <td>...</td>\n",
       "      <td>...</td>\n",
       "      <td>...</td>\n",
       "      <td>...</td>\n",
       "      <td>...</td>\n",
       "      <td>...</td>\n",
       "      <td>...</td>\n",
       "      <td>...</td>\n",
       "      <td>...</td>\n",
       "      <td>...</td>\n",
       "      <td>...</td>\n",
       "      <td>...</td>\n",
       "      <td>...</td>\n",
       "      <td>...</td>\n",
       "    </tr>\n",
       "    <tr>\n",
       "      <th>2018-08-31 19:00:00</th>\n",
       "      <td>136</td>\n",
       "      <td>8</td>\n",
       "      <td>31</td>\n",
       "      <td>4</td>\n",
       "      <td>19</td>\n",
       "      <td>207.0</td>\n",
       "      <td>46.0</td>\n",
       "      <td>72.0</td>\n",
       "      <td>39.0</td>\n",
       "      <td>169.0</td>\n",
       "      <td>...</td>\n",
       "      <td>71.0</td>\n",
       "      <td>152.0</td>\n",
       "      <td>37.0</td>\n",
       "      <td>126.0</td>\n",
       "      <td>50.0</td>\n",
       "      <td>123.0</td>\n",
       "      <td>22.0</td>\n",
       "      <td>113.0</td>\n",
       "      <td>172.666667</td>\n",
       "      <td>41.389210</td>\n",
       "    </tr>\n",
       "    <tr>\n",
       "      <th>2018-08-31 20:00:00</th>\n",
       "      <td>154</td>\n",
       "      <td>8</td>\n",
       "      <td>31</td>\n",
       "      <td>4</td>\n",
       "      <td>20</td>\n",
       "      <td>136.0</td>\n",
       "      <td>182.0</td>\n",
       "      <td>142.0</td>\n",
       "      <td>166.0</td>\n",
       "      <td>191.0</td>\n",
       "      <td>...</td>\n",
       "      <td>159.0</td>\n",
       "      <td>96.0</td>\n",
       "      <td>131.0</td>\n",
       "      <td>122.0</td>\n",
       "      <td>124.0</td>\n",
       "      <td>105.0</td>\n",
       "      <td>108.0</td>\n",
       "      <td>179.0</td>\n",
       "      <td>167.666667</td>\n",
       "      <td>44.080230</td>\n",
       "    </tr>\n",
       "    <tr>\n",
       "      <th>2018-08-31 21:00:00</th>\n",
       "      <td>159</td>\n",
       "      <td>8</td>\n",
       "      <td>31</td>\n",
       "      <td>4</td>\n",
       "      <td>21</td>\n",
       "      <td>154.0</td>\n",
       "      <td>203.0</td>\n",
       "      <td>198.0</td>\n",
       "      <td>226.0</td>\n",
       "      <td>170.0</td>\n",
       "      <td>...</td>\n",
       "      <td>195.0</td>\n",
       "      <td>152.0</td>\n",
       "      <td>174.0</td>\n",
       "      <td>107.0</td>\n",
       "      <td>147.0</td>\n",
       "      <td>162.0</td>\n",
       "      <td>196.0</td>\n",
       "      <td>166.0</td>\n",
       "      <td>171.166667</td>\n",
       "      <td>41.537533</td>\n",
       "    </tr>\n",
       "    <tr>\n",
       "      <th>2018-08-31 22:00:00</th>\n",
       "      <td>223</td>\n",
       "      <td>8</td>\n",
       "      <td>31</td>\n",
       "      <td>4</td>\n",
       "      <td>22</td>\n",
       "      <td>159.0</td>\n",
       "      <td>191.0</td>\n",
       "      <td>158.0</td>\n",
       "      <td>227.0</td>\n",
       "      <td>177.0</td>\n",
       "      <td>...</td>\n",
       "      <td>183.0</td>\n",
       "      <td>173.0</td>\n",
       "      <td>170.0</td>\n",
       "      <td>145.0</td>\n",
       "      <td>136.0</td>\n",
       "      <td>155.0</td>\n",
       "      <td>126.0</td>\n",
       "      <td>242.0</td>\n",
       "      <td>178.333333</td>\n",
       "      <td>32.934278</td>\n",
       "    </tr>\n",
       "    <tr>\n",
       "      <th>2018-08-31 23:00:00</th>\n",
       "      <td>205</td>\n",
       "      <td>8</td>\n",
       "      <td>31</td>\n",
       "      <td>4</td>\n",
       "      <td>23</td>\n",
       "      <td>223.0</td>\n",
       "      <td>167.0</td>\n",
       "      <td>246.0</td>\n",
       "      <td>156.0</td>\n",
       "      <td>265.0</td>\n",
       "      <td>...</td>\n",
       "      <td>141.0</td>\n",
       "      <td>157.0</td>\n",
       "      <td>164.0</td>\n",
       "      <td>238.0</td>\n",
       "      <td>96.0</td>\n",
       "      <td>174.0</td>\n",
       "      <td>103.0</td>\n",
       "      <td>173.0</td>\n",
       "      <td>182.666667</td>\n",
       "      <td>37.302368</td>\n",
       "    </tr>\n",
       "  </tbody>\n",
       "</table>\n",
       "<p>4248 rows × 22 columns</p>\n",
       "</div>"
      ],
      "text/plain": [
       "                     num_orders  month  day  dayofweek  hour  lag_1  lag_12  \\\n",
       "datetime                                                                      \n",
       "2018-03-08 00:00:00         143      3    8          3     0   94.0    34.0   \n",
       "2018-03-08 01:00:00          78      3    8          3     1  143.0    55.0   \n",
       "2018-03-08 02:00:00          65      3    8          3     2   78.0    43.0   \n",
       "2018-03-08 03:00:00          68      3    8          3     3   65.0    51.0   \n",
       "2018-03-08 04:00:00          60      3    8          3     4   68.0    46.0   \n",
       "...                         ...    ...  ...        ...   ...    ...     ...   \n",
       "2018-08-31 19:00:00         136      8   31          4    19  207.0    46.0   \n",
       "2018-08-31 20:00:00         154      8   31          4    20  136.0   182.0   \n",
       "2018-08-31 21:00:00         159      8   31          4    21  154.0   203.0   \n",
       "2018-08-31 22:00:00         223      8   31          4    22  159.0   191.0   \n",
       "2018-08-31 23:00:00         205      8   31          4    23  223.0   167.0   \n",
       "\n",
       "                     lag_24  lag_36  lag_48  ...  lag_84  lag_96  lag_108  \\\n",
       "datetime                                     ...                            \n",
       "2018-03-08 00:00:00   100.0    41.0    42.0  ...    30.0    75.0     32.0   \n",
       "2018-03-08 01:00:00   121.0    42.0    75.0  ...    30.0    60.0     28.0   \n",
       "2018-03-08 02:00:00    24.0    40.0    36.0  ...    56.0    26.0     41.0   \n",
       "2018-03-08 03:00:00    66.0    63.0    49.0  ...    58.0    42.0     76.0   \n",
       "2018-03-08 04:00:00    73.0    42.0    30.0  ...    64.0    27.0     46.0   \n",
       "...                     ...     ...     ...  ...     ...     ...      ...   \n",
       "2018-08-31 19:00:00    72.0    39.0   169.0  ...    71.0   152.0     37.0   \n",
       "2018-08-31 20:00:00   142.0   166.0   191.0  ...   159.0    96.0    131.0   \n",
       "2018-08-31 21:00:00   198.0   226.0   170.0  ...   195.0   152.0    174.0   \n",
       "2018-08-31 22:00:00   158.0   227.0   177.0  ...   183.0   173.0    170.0   \n",
       "2018-08-31 23:00:00   246.0   156.0   265.0  ...   141.0   157.0    164.0   \n",
       "\n",
       "                     lag_120  lag_132  lag_144  lag_156  lag_168  \\\n",
       "datetime                                                           \n",
       "2018-03-08 00:00:00    163.0     36.0     90.0     30.0    124.0   \n",
       "2018-03-08 01:00:00    108.0     45.0    120.0     32.0     85.0   \n",
       "2018-03-08 02:00:00     25.0     44.0     75.0     48.0     71.0   \n",
       "2018-03-08 03:00:00     64.0     59.0     64.0     66.0     66.0   \n",
       "2018-03-08 04:00:00     44.0     82.0     20.0     43.0     43.0   \n",
       "...                      ...      ...      ...      ...      ...   \n",
       "2018-08-31 19:00:00    126.0     50.0    123.0     22.0    113.0   \n",
       "2018-08-31 20:00:00    122.0    124.0    105.0    108.0    179.0   \n",
       "2018-08-31 21:00:00    107.0    147.0    162.0    196.0    166.0   \n",
       "2018-08-31 22:00:00    145.0    136.0    155.0    126.0    242.0   \n",
       "2018-08-31 23:00:00    238.0     96.0    174.0    103.0    173.0   \n",
       "\n",
       "                     rolling_mean  rolling_std  \n",
       "datetime                                        \n",
       "2018-03-08 00:00:00     92.333333    26.658332  \n",
       "2018-03-08 01:00:00     99.666667    33.921478  \n",
       "2018-03-08 02:00:00    104.333333    26.927062  \n",
       "2018-03-08 03:00:00    102.500000    29.494067  \n",
       "2018-03-08 04:00:00     95.833333    32.381579  \n",
       "...                           ...          ...  \n",
       "2018-08-31 19:00:00    172.666667    41.389210  \n",
       "2018-08-31 20:00:00    167.666667    44.080230  \n",
       "2018-08-31 21:00:00    171.166667    41.537533  \n",
       "2018-08-31 22:00:00    178.333333    32.934278  \n",
       "2018-08-31 23:00:00    182.666667    37.302368  \n",
       "\n",
       "[4248 rows x 22 columns]"
      ]
     },
     "execution_count": 24,
     "metadata": {},
     "output_type": "execute_result"
    }
   ],
   "source": [
    "# Eliminamos los valores nulos \n",
    "data = data.dropna()\n",
    "data"
   ]
  },
  {
   "cell_type": "markdown",
   "metadata": {},
   "source": [
    "**Recordemos** \n",
    "\n",
    "- Entrenamiento: Para ajustar el modelo.\n",
    "- Validación: Para ajustar hiperparámetros y prevenir sobreajuste.\n",
    "- Prueba (test): Para evaluar el desempeño final del modelo con datos que el modelo no ha visto durante el entrenamiento o la validación.\n",
    "\n",
    "Para nuestros datos aplicaremos una proporcion de 70:20:10, como se pide para el proyecto (10 % para test) dado que el orden temporal debe preservarse, la división debe realizarse respetando la cronología de los datos."
   ]
  },
  {
   "cell_type": "code",
   "execution_count": 25,
   "metadata": {},
   "outputs": [],
   "source": [
    "# Separamos las caracteristicas del objetivo \n",
    "features = data.drop('num_orders',axis = 1)\n",
    "target = data['num_orders']"
   ]
  },
  {
   "cell_type": "code",
   "execution_count": 26,
   "metadata": {},
   "outputs": [],
   "source": [
    "# Paso 1: Dividir en entrenamiento (70%) y el resto (30%)\n",
    "features_train,X_temp,target_train, Y_temp = train_test_split(features,target, test_size=0.3, shuffle=False)\n",
    "# Paso 2: Dividir el resto en validación (20%) y prueba (10%)\n",
    "features_val,features_test,target_val,target_test = train_test_split(X_temp,Y_temp,test_size=0.5, shuffle=False)"
   ]
  },
  {
   "cell_type": "markdown",
   "metadata": {},
   "source": [
    "**Bosque aleatorio de regresion**"
   ]
  },
  {
   "cell_type": "code",
   "execution_count": 27,
   "metadata": {},
   "outputs": [
    {
     "name": "stdout",
     "output_type": "stream",
     "text": [
      "Mejor profundidad: 13 con RMSE: 25.152503648227675\n",
      "CPU times: user 29 s, sys: 26.8 ms, total: 29 s\n",
      "Wall time: 29 s\n"
     ]
    }
   ],
   "source": [
    "%%time\n",
    "best_error = float('inf')  # Inicializa con un valor de error muy alto\n",
    "best_depth = None  # Inicializa para llevar un seguimiento de la mejor profundidad\n",
    "\n",
    "for depth in range(1, 20): \n",
    "    model = RandomForestRegressor(n_estimators=100, max_depth=depth, random_state=54321)  \n",
    "    model.fit(features_train, target_train)\n",
    "    predictions = model.predict(features_val)\n",
    "    error = mean_squared_error(target_val, predictions) ** 0.5  # Calcular RMSE\n",
    "    if error < best_error: \n",
    "        best_depth = depth\n",
    "        best_error = error\n",
    "\n",
    "print(f\"Mejor profundidad: {best_depth} con RMSE: {best_error}\")"
   ]
  },
  {
   "cell_type": "code",
   "execution_count": 28,
   "metadata": {},
   "outputs": [
    {
     "data": {
      "text/html": [
       "<style>#sk-container-id-1 {color: black;background-color: white;}#sk-container-id-1 pre{padding: 0;}#sk-container-id-1 div.sk-toggleable {background-color: white;}#sk-container-id-1 label.sk-toggleable__label {cursor: pointer;display: block;width: 100%;margin-bottom: 0;padding: 0.3em;box-sizing: border-box;text-align: center;}#sk-container-id-1 label.sk-toggleable__label-arrow:before {content: \"▸\";float: left;margin-right: 0.25em;color: #696969;}#sk-container-id-1 label.sk-toggleable__label-arrow:hover:before {color: black;}#sk-container-id-1 div.sk-estimator:hover label.sk-toggleable__label-arrow:before {color: black;}#sk-container-id-1 div.sk-toggleable__content {max-height: 0;max-width: 0;overflow: hidden;text-align: left;background-color: #f0f8ff;}#sk-container-id-1 div.sk-toggleable__content pre {margin: 0.2em;color: black;border-radius: 0.25em;background-color: #f0f8ff;}#sk-container-id-1 input.sk-toggleable__control:checked~div.sk-toggleable__content {max-height: 200px;max-width: 100%;overflow: auto;}#sk-container-id-1 input.sk-toggleable__control:checked~label.sk-toggleable__label-arrow:before {content: \"▾\";}#sk-container-id-1 div.sk-estimator input.sk-toggleable__control:checked~label.sk-toggleable__label {background-color: #d4ebff;}#sk-container-id-1 div.sk-label input.sk-toggleable__control:checked~label.sk-toggleable__label {background-color: #d4ebff;}#sk-container-id-1 input.sk-hidden--visually {border: 0;clip: rect(1px 1px 1px 1px);clip: rect(1px, 1px, 1px, 1px);height: 1px;margin: -1px;overflow: hidden;padding: 0;position: absolute;width: 1px;}#sk-container-id-1 div.sk-estimator {font-family: monospace;background-color: #f0f8ff;border: 1px dotted black;border-radius: 0.25em;box-sizing: border-box;margin-bottom: 0.5em;}#sk-container-id-1 div.sk-estimator:hover {background-color: #d4ebff;}#sk-container-id-1 div.sk-parallel-item::after {content: \"\";width: 100%;border-bottom: 1px solid gray;flex-grow: 1;}#sk-container-id-1 div.sk-label:hover label.sk-toggleable__label {background-color: #d4ebff;}#sk-container-id-1 div.sk-serial::before {content: \"\";position: absolute;border-left: 1px solid gray;box-sizing: border-box;top: 0;bottom: 0;left: 50%;z-index: 0;}#sk-container-id-1 div.sk-serial {display: flex;flex-direction: column;align-items: center;background-color: white;padding-right: 0.2em;padding-left: 0.2em;position: relative;}#sk-container-id-1 div.sk-item {position: relative;z-index: 1;}#sk-container-id-1 div.sk-parallel {display: flex;align-items: stretch;justify-content: center;background-color: white;position: relative;}#sk-container-id-1 div.sk-item::before, #sk-container-id-1 div.sk-parallel-item::before {content: \"\";position: absolute;border-left: 1px solid gray;box-sizing: border-box;top: 0;bottom: 0;left: 50%;z-index: -1;}#sk-container-id-1 div.sk-parallel-item {display: flex;flex-direction: column;z-index: 1;position: relative;background-color: white;}#sk-container-id-1 div.sk-parallel-item:first-child::after {align-self: flex-end;width: 50%;}#sk-container-id-1 div.sk-parallel-item:last-child::after {align-self: flex-start;width: 50%;}#sk-container-id-1 div.sk-parallel-item:only-child::after {width: 0;}#sk-container-id-1 div.sk-dashed-wrapped {border: 1px dashed gray;margin: 0 0.4em 0.5em 0.4em;box-sizing: border-box;padding-bottom: 0.4em;background-color: white;}#sk-container-id-1 div.sk-label label {font-family: monospace;font-weight: bold;display: inline-block;line-height: 1.2em;}#sk-container-id-1 div.sk-label-container {text-align: center;}#sk-container-id-1 div.sk-container {/* jupyter's `normalize.less` sets `[hidden] { display: none; }` but bootstrap.min.css set `[hidden] { display: none !important; }` so we also need the `!important` here to be able to override the default hidden behavior on the sphinx rendered scikit-learn.org. See: https://github.com/scikit-learn/scikit-learn/issues/21755 */display: inline-block !important;position: relative;}#sk-container-id-1 div.sk-text-repr-fallback {display: none;}</style><div id=\"sk-container-id-1\" class=\"sk-top-container\"><div class=\"sk-text-repr-fallback\"><pre>RandomForestRegressor(max_depth=13, random_state=54321)</pre><b>In a Jupyter environment, please rerun this cell to show the HTML representation or trust the notebook. <br />On GitHub, the HTML representation is unable to render, please try loading this page with nbviewer.org.</b></div><div class=\"sk-container\" hidden><div class=\"sk-item\"><div class=\"sk-estimator sk-toggleable\"><input class=\"sk-toggleable__control sk-hidden--visually\" id=\"sk-estimator-id-1\" type=\"checkbox\" checked><label for=\"sk-estimator-id-1\" class=\"sk-toggleable__label sk-toggleable__label-arrow\">RandomForestRegressor</label><div class=\"sk-toggleable__content\"><pre>RandomForestRegressor(max_depth=13, random_state=54321)</pre></div></div></div></div></div>"
      ],
      "text/plain": [
       "RandomForestRegressor(max_depth=13, random_state=54321)"
      ]
     },
     "execution_count": 28,
     "metadata": {},
     "output_type": "execute_result"
    }
   ],
   "source": [
    "# Ahora solo seleccionamos el mejor modelo con los mejores hiperparametros. \n",
    "model = RandomForestRegressor(n_estimators=100, max_depth=best_depth, random_state=54321)  \n",
    "model.fit(features_train, target_train)"
   ]
  },
  {
   "cell_type": "code",
   "execution_count": 29,
   "metadata": {},
   "outputs": [
    {
     "name": "stdout",
     "output_type": "stream",
     "text": [
      "RMSE con el los datos de entrenamiento:  8.661022739455213\n",
      "RMSE con la validacion:  25.152503648227675\n",
      "RMSE con el los datos de prueba:  42.06035785003883\n"
     ]
    }
   ],
   "source": [
    "predictions_test = model.predict(features_test) #predicciones test\n",
    "error_test = mean_squared_error(target_test, predictions_test) ** 0.5\n",
    "predictions_val = model.predict(features_val) #predicciones para validacion\n",
    "error_val = mean_squared_error(target_val, predictions_val) ** 0.5\n",
    "predictions_train = model.predict(features_train) # predicciones del entrenamiento\n",
    "error_train = mean_squared_error(target_train, predictions_train) ** 0.5\n",
    "print(\"RMSE con el los datos de entrenamiento: \", error_train)\n",
    "print(\"RMSE con la validacion: \", error_val)\n",
    "print(\"RMSE con el los datos de prueba: \", error_test)"
   ]
  },
  {
   "cell_type": "markdown",
   "metadata": {},
   "source": [
    "Para el modelo de Bosque Aleatorio de Regresión, el error obtenido fue de 42 pedidos. Este valor indica que el modelo es capaz de predecir la cantidad de pedidos de taxis en el aeropuerto para la siguiente hora con una desviación media de 42 pedidos. Este desempeño refleja una mejora significativa en la capacidad del modelo para generalizar y hacer predicciones precisas, dado que ha logrado reducir el margen de error respecto al umbral definido inicialmente."
   ]
  },
  {
   "cell_type": "markdown",
   "metadata": {},
   "source": [
    "**Gradient boosting**"
   ]
  },
  {
   "cell_type": "code",
   "execution_count": 30,
   "metadata": {},
   "outputs": [],
   "source": [
    "import lightgbm as lgb"
   ]
  },
  {
   "cell_type": "code",
   "execution_count": 31,
   "metadata": {
    "scrolled": false
   },
   "outputs": [
    {
     "name": "stdout",
     "output_type": "stream",
     "text": [
      "[10]\tvalid_0's rmse: 30.8283\n",
      "[20]\tvalid_0's rmse: 26.1961\n",
      "[30]\tvalid_0's rmse: 25.3235\n",
      "[40]\tvalid_0's rmse: 25.2416\n",
      "[50]\tvalid_0's rmse: 25.3453\n",
      "[60]\tvalid_0's rmse: 25.3386\n",
      "[70]\tvalid_0's rmse: 25.3357\n",
      "[80]\tvalid_0's rmse: 25.3118\n",
      "[90]\tvalid_0's rmse: 25.3322\n"
     ]
    },
    {
     "name": "stderr",
     "output_type": "stream",
     "text": [
      "/home/lautaro/yes/lib/python3.10/site-packages/lightgbm/sklearn.py:726: UserWarning: 'early_stopping_rounds' argument is deprecated and will be removed in a future release of LightGBM. Pass 'early_stopping()' callback via 'callbacks' argument instead.\n",
      "  _log_warning(\"'early_stopping_rounds' argument is deprecated and will be removed in a future release of LightGBM. \"\n",
      "/home/lautaro/yes/lib/python3.10/site-packages/lightgbm/sklearn.py:736: UserWarning: 'verbose' argument is deprecated and will be removed in a future release of LightGBM. Pass 'log_evaluation()' callback via 'callbacks' argument instead.\n",
      "  _log_warning(\"'verbose' argument is deprecated and will be removed in a future release of LightGBM. \"\n"
     ]
    },
    {
     "data": {
      "text/html": [
       "<style>#sk-container-id-2 {color: black;background-color: white;}#sk-container-id-2 pre{padding: 0;}#sk-container-id-2 div.sk-toggleable {background-color: white;}#sk-container-id-2 label.sk-toggleable__label {cursor: pointer;display: block;width: 100%;margin-bottom: 0;padding: 0.3em;box-sizing: border-box;text-align: center;}#sk-container-id-2 label.sk-toggleable__label-arrow:before {content: \"▸\";float: left;margin-right: 0.25em;color: #696969;}#sk-container-id-2 label.sk-toggleable__label-arrow:hover:before {color: black;}#sk-container-id-2 div.sk-estimator:hover label.sk-toggleable__label-arrow:before {color: black;}#sk-container-id-2 div.sk-toggleable__content {max-height: 0;max-width: 0;overflow: hidden;text-align: left;background-color: #f0f8ff;}#sk-container-id-2 div.sk-toggleable__content pre {margin: 0.2em;color: black;border-radius: 0.25em;background-color: #f0f8ff;}#sk-container-id-2 input.sk-toggleable__control:checked~div.sk-toggleable__content {max-height: 200px;max-width: 100%;overflow: auto;}#sk-container-id-2 input.sk-toggleable__control:checked~label.sk-toggleable__label-arrow:before {content: \"▾\";}#sk-container-id-2 div.sk-estimator input.sk-toggleable__control:checked~label.sk-toggleable__label {background-color: #d4ebff;}#sk-container-id-2 div.sk-label input.sk-toggleable__control:checked~label.sk-toggleable__label {background-color: #d4ebff;}#sk-container-id-2 input.sk-hidden--visually {border: 0;clip: rect(1px 1px 1px 1px);clip: rect(1px, 1px, 1px, 1px);height: 1px;margin: -1px;overflow: hidden;padding: 0;position: absolute;width: 1px;}#sk-container-id-2 div.sk-estimator {font-family: monospace;background-color: #f0f8ff;border: 1px dotted black;border-radius: 0.25em;box-sizing: border-box;margin-bottom: 0.5em;}#sk-container-id-2 div.sk-estimator:hover {background-color: #d4ebff;}#sk-container-id-2 div.sk-parallel-item::after {content: \"\";width: 100%;border-bottom: 1px solid gray;flex-grow: 1;}#sk-container-id-2 div.sk-label:hover label.sk-toggleable__label {background-color: #d4ebff;}#sk-container-id-2 div.sk-serial::before {content: \"\";position: absolute;border-left: 1px solid gray;box-sizing: border-box;top: 0;bottom: 0;left: 50%;z-index: 0;}#sk-container-id-2 div.sk-serial {display: flex;flex-direction: column;align-items: center;background-color: white;padding-right: 0.2em;padding-left: 0.2em;position: relative;}#sk-container-id-2 div.sk-item {position: relative;z-index: 1;}#sk-container-id-2 div.sk-parallel {display: flex;align-items: stretch;justify-content: center;background-color: white;position: relative;}#sk-container-id-2 div.sk-item::before, #sk-container-id-2 div.sk-parallel-item::before {content: \"\";position: absolute;border-left: 1px solid gray;box-sizing: border-box;top: 0;bottom: 0;left: 50%;z-index: -1;}#sk-container-id-2 div.sk-parallel-item {display: flex;flex-direction: column;z-index: 1;position: relative;background-color: white;}#sk-container-id-2 div.sk-parallel-item:first-child::after {align-self: flex-end;width: 50%;}#sk-container-id-2 div.sk-parallel-item:last-child::after {align-self: flex-start;width: 50%;}#sk-container-id-2 div.sk-parallel-item:only-child::after {width: 0;}#sk-container-id-2 div.sk-dashed-wrapped {border: 1px dashed gray;margin: 0 0.4em 0.5em 0.4em;box-sizing: border-box;padding-bottom: 0.4em;background-color: white;}#sk-container-id-2 div.sk-label label {font-family: monospace;font-weight: bold;display: inline-block;line-height: 1.2em;}#sk-container-id-2 div.sk-label-container {text-align: center;}#sk-container-id-2 div.sk-container {/* jupyter's `normalize.less` sets `[hidden] { display: none; }` but bootstrap.min.css set `[hidden] { display: none !important; }` so we also need the `!important` here to be able to override the default hidden behavior on the sphinx rendered scikit-learn.org. See: https://github.com/scikit-learn/scikit-learn/issues/21755 */display: inline-block !important;position: relative;}#sk-container-id-2 div.sk-text-repr-fallback {display: none;}</style><div id=\"sk-container-id-2\" class=\"sk-top-container\"><div class=\"sk-text-repr-fallback\"><pre>LGBMRegressor(max_depth=7, metric=&#x27;rmse&#x27;, n_estimators=1000)</pre><b>In a Jupyter environment, please rerun this cell to show the HTML representation or trust the notebook. <br />On GitHub, the HTML representation is unable to render, please try loading this page with nbviewer.org.</b></div><div class=\"sk-container\" hidden><div class=\"sk-item\"><div class=\"sk-estimator sk-toggleable\"><input class=\"sk-toggleable__control sk-hidden--visually\" id=\"sk-estimator-id-2\" type=\"checkbox\" checked><label for=\"sk-estimator-id-2\" class=\"sk-toggleable__label sk-toggleable__label-arrow\">LGBMRegressor</label><div class=\"sk-toggleable__content\"><pre>LGBMRegressor(max_depth=7, metric=&#x27;rmse&#x27;, n_estimators=1000)</pre></div></div></div></div></div>"
      ],
      "text/plain": [
       "LGBMRegressor(max_depth=7, metric='rmse', n_estimators=1000)"
      ]
     },
     "execution_count": 31,
     "metadata": {},
     "output_type": "execute_result"
    }
   ],
   "source": [
    "model = lgb.LGBMRegressor(\n",
    "    n_estimators=1000,       # Número de árboles\n",
    "    num_leaves=31,           # Número de hojas\n",
    "    max_depth=7,             # Profundidad máxima de los árboles\n",
    "    learning_rate=0.1,       # Tasa de aprendizaje\n",
    "    metric='rmse'            # Métrica para evaluación\n",
    ")\n",
    "\n",
    "model.fit(\n",
    "    features_train, target_train,\n",
    "    eval_set=[(features_val, target_val)],\n",
    "    early_stopping_rounds=50,  # Detener si no hay mejora durante 50 rondas\n",
    "    verbose=10\n",
    ")\n"
   ]
  },
  {
   "cell_type": "code",
   "execution_count": 32,
   "metadata": {},
   "outputs": [
    {
     "name": "stdout",
     "output_type": "stream",
     "text": [
      "RMSE con el los datos de entrenamiento:  13.900209669437956\n",
      "RMSE con la validacion:  25.217581376292028\n",
      "RMSE con el los datos de prueba:  43.32343088533709\n"
     ]
    }
   ],
   "source": [
    "predictions_test = model.predict(features_test) #predicciones test\n",
    "error_test = mean_squared_error(target_test, predictions_test) ** 0.5\n",
    "predictions_val = model.predict(features_val) #predicciones para validacion\n",
    "error_val = mean_squared_error(target_val, predictions_val) ** 0.5\n",
    "predictions_train = model.predict(features_train) # predicciones del entrenamiento\n",
    "error_train = mean_squared_error(target_train, predictions_train) ** 0.5\n",
    "print(\"RMSE con el los datos de entrenamiento: \", error_train)\n",
    "print(\"RMSE con la validacion: \", error_val)\n",
    "print(\"RMSE con el los datos de prueba: \", error_test)"
   ]
  },
  {
   "cell_type": "markdown",
   "metadata": {},
   "source": [
    "Al comparar los resultados obtenidos con Gradient Boosting de LightGBM, el modelo muestra un error de 43.32 pedidos, lo cual está muy cerca del error logrado con el modelo de Bosque Aleatorio de Regresión (42 pedidos). Esta ligera diferencia en el error indica que el modelo LightGBM es competitivo en términos de precisión, lo que sugiere que ambos enfoques (Bosque Aleatorio y Gradient Boosting) tienen un rendimiento similar en cuanto a la predicción de la demanda de taxis en el aeropuerto.\n",
    "\n",
    "Una de las ventajas clave de LightGBM es su mayor rapidez en la respuesta. El algoritmo de Gradient Boosting de LightGBM es conocido por ser altamente eficiente en términos de tiempo de entrenamiento y predicción"
   ]
  },
  {
   "cell_type": "markdown",
   "metadata": {},
   "source": [
    "## Conclusiones"
   ]
  },
  {
   "cell_type": "markdown",
   "metadata": {},
   "source": [
    "En este proyecto, se buscó predecir la cantidad de pedidos de taxis en el aeropuerto para la siguiente hora utilizando modelos de regresión. A través de una cuidadosa ingeniería de características, se probaron diferentes valores de lags y ventanas para medias y varianzas móviles. Al incorporar lags semanales (hasta 168 horas) y ajustar las ventanas móviles a 24 horas para patrones diarios, el modelo mostró mejoras significativas en su capacidad de generalización.\n",
    "\n",
    "Se evaluaron dos enfoques: Bosque Aleatorio de Regresión y Gradient Boosting con LightGBM. Ambos modelos alcanzaron errores de predicción cercanos a los 42 pedidos, con LightGBM destacándose por su rapidez en la respuesta. Finalmente, el modelo más eficiente en términos de tiempo y precisión es LightGBM, lo que lo convierte en la opción preferida para este caso de predicción en tiempo real.\n",
    "\n",
    "Este proyecto demuestra cómo la combinación de una ingeniería de características adecuada, el ajuste de hiperparámetros y la elección del modelo correcto puede generar soluciones precisas y eficientes para problemas de predicción en series temporales."
   ]
  }
 ],
 "metadata": {
  "ExecuteTimeLog": [
   {
    "duration": 360,
    "start_time": "2025-01-04T23:58:43.729Z"
   },
   {
    "duration": 30,
    "start_time": "2025-01-04T23:59:25.862Z"
   },
   {
    "duration": 10,
    "start_time": "2025-01-04T23:59:34.397Z"
   },
   {
    "duration": 11,
    "start_time": "2025-01-05T00:00:29.492Z"
   },
   {
    "duration": 203,
    "start_time": "2025-01-05T00:02:39.435Z"
   },
   {
    "duration": 21,
    "start_time": "2025-01-05T00:02:50.904Z"
   },
   {
    "duration": 6,
    "start_time": "2025-01-05T00:02:59.840Z"
   },
   {
    "duration": 27,
    "start_time": "2025-01-05T00:04:12.166Z"
   },
   {
    "duration": 9,
    "start_time": "2025-01-05T00:04:23.706Z"
   },
   {
    "duration": 7,
    "start_time": "2025-01-05T00:10:34.202Z"
   },
   {
    "duration": 2550,
    "start_time": "2025-01-05T00:12:38.409Z"
   },
   {
    "duration": 172,
    "start_time": "2025-01-05T00:14:19.839Z"
   },
   {
    "duration": 7,
    "start_time": "2025-01-05T00:14:48.611Z"
   },
   {
    "duration": 274,
    "start_time": "2025-01-05T00:18:59.213Z"
   },
   {
    "duration": 192,
    "start_time": "2025-01-05T00:19:37.902Z"
   },
   {
    "duration": 9,
    "start_time": "2025-01-05T00:21:06.969Z"
   },
   {
    "duration": 337,
    "start_time": "2025-01-05T00:21:22.060Z"
   },
   {
    "duration": 24,
    "start_time": "2025-01-05T00:21:22.400Z"
   },
   {
    "duration": 18,
    "start_time": "2025-01-05T00:21:22.426Z"
   },
   {
    "duration": 11,
    "start_time": "2025-01-05T00:21:22.446Z"
   },
   {
    "duration": 639,
    "start_time": "2025-01-05T00:21:22.460Z"
   },
   {
    "duration": 198,
    "start_time": "2025-01-05T00:21:23.101Z"
   },
   {
    "duration": 7,
    "start_time": "2025-01-05T00:21:23.301Z"
   },
   {
    "duration": 3,
    "start_time": "2025-01-05T00:21:23.311Z"
   },
   {
    "duration": 215,
    "start_time": "2025-01-05T00:21:23.316Z"
   },
   {
    "duration": 3,
    "start_time": "2025-01-05T00:56:20.653Z"
   },
   {
    "duration": 5,
    "start_time": "2025-01-05T01:02:07.234Z"
   },
   {
    "duration": 803,
    "start_time": "2025-01-05T01:02:23.086Z"
   },
   {
    "duration": 23,
    "start_time": "2025-01-05T01:02:23.891Z"
   },
   {
    "duration": 9,
    "start_time": "2025-01-05T01:02:23.916Z"
   },
   {
    "duration": 23,
    "start_time": "2025-01-05T01:02:23.927Z"
   },
   {
    "duration": 429,
    "start_time": "2025-01-05T01:02:23.953Z"
   },
   {
    "duration": 248,
    "start_time": "2025-01-05T01:02:24.384Z"
   },
   {
    "duration": 10,
    "start_time": "2025-01-05T01:02:24.634Z"
   },
   {
    "duration": 2,
    "start_time": "2025-01-05T01:02:24.646Z"
   },
   {
    "duration": 236,
    "start_time": "2025-01-05T01:02:24.650Z"
   },
   {
    "duration": 7,
    "start_time": "2025-01-05T01:02:55.192Z"
   },
   {
    "duration": 3,
    "start_time": "2025-01-05T01:03:05.513Z"
   },
   {
    "duration": 7,
    "start_time": "2025-01-05T01:03:06.643Z"
   },
   {
    "duration": 205,
    "start_time": "2025-01-05T01:03:14.992Z"
   },
   {
    "duration": 170,
    "start_time": "2025-01-05T01:06:55.667Z"
   },
   {
    "duration": 830,
    "start_time": "2025-01-05T01:07:41.241Z"
   },
   {
    "duration": 22,
    "start_time": "2025-01-05T01:07:42.073Z"
   },
   {
    "duration": 10,
    "start_time": "2025-01-05T01:07:42.098Z"
   },
   {
    "duration": 8,
    "start_time": "2025-01-05T01:07:42.110Z"
   },
   {
    "duration": 433,
    "start_time": "2025-01-05T01:07:42.120Z"
   },
   {
    "duration": 262,
    "start_time": "2025-01-05T01:07:42.554Z"
   },
   {
    "duration": 6,
    "start_time": "2025-01-05T01:07:42.818Z"
   },
   {
    "duration": 2,
    "start_time": "2025-01-05T01:07:42.826Z"
   },
   {
    "duration": 21,
    "start_time": "2025-01-05T01:07:42.830Z"
   },
   {
    "duration": 249,
    "start_time": "2025-01-05T01:07:42.854Z"
   },
   {
    "duration": 151,
    "start_time": "2025-01-05T01:23:36.641Z"
   },
   {
    "duration": 151,
    "start_time": "2025-01-05T01:23:44.671Z"
   },
   {
    "duration": 153,
    "start_time": "2025-01-05T01:25:44.149Z"
   },
   {
    "duration": 171,
    "start_time": "2025-01-05T01:26:10.656Z"
   },
   {
    "duration": 169,
    "start_time": "2025-01-05T01:27:11.201Z"
   },
   {
    "duration": 172,
    "start_time": "2025-01-05T01:27:34.464Z"
   },
   {
    "duration": 174,
    "start_time": "2025-01-05T01:32:15.196Z"
   },
   {
    "duration": 298,
    "start_time": "2025-01-05T01:53:49.993Z"
   },
   {
    "duration": 2,
    "start_time": "2025-01-05T01:54:09.688Z"
   },
   {
    "duration": 23,
    "start_time": "2025-01-05T01:54:16.470Z"
   },
   {
    "duration": 2,
    "start_time": "2025-01-05T01:55:51.281Z"
   },
   {
    "duration": 23,
    "start_time": "2025-01-05T01:56:18.976Z"
   },
   {
    "duration": 510,
    "start_time": "2025-01-05T01:56:51.462Z"
   },
   {
    "duration": 156,
    "start_time": "2025-01-05T03:05:11.816Z"
   },
   {
    "duration": 2439,
    "start_time": "2025-01-05T03:05:28.271Z"
   },
   {
    "duration": 44,
    "start_time": "2025-01-05T03:05:30.713Z"
   },
   {
    "duration": 8,
    "start_time": "2025-01-05T03:05:30.759Z"
   },
   {
    "duration": 8,
    "start_time": "2025-01-05T03:05:30.768Z"
   },
   {
    "duration": 382,
    "start_time": "2025-01-05T03:05:30.778Z"
   },
   {
    "duration": 189,
    "start_time": "2025-01-05T03:05:31.162Z"
   },
   {
    "duration": 5,
    "start_time": "2025-01-05T03:05:31.353Z"
   },
   {
    "duration": 3,
    "start_time": "2025-01-05T03:05:31.360Z"
   },
   {
    "duration": 7,
    "start_time": "2025-01-05T03:05:31.364Z"
   },
   {
    "duration": 180,
    "start_time": "2025-01-05T03:05:31.374Z"
   },
   {
    "duration": 154,
    "start_time": "2025-01-05T03:05:31.556Z"
   },
   {
    "duration": 604,
    "start_time": "2025-01-05T03:05:31.712Z"
   },
   {
    "duration": 109,
    "start_time": "2025-01-05T03:05:32.318Z"
   },
   {
    "duration": 111,
    "start_time": "2025-01-05T03:16:28.537Z"
   },
   {
    "duration": 111,
    "start_time": "2025-01-05T03:32:33.997Z"
   },
   {
    "duration": 2458,
    "start_time": "2025-01-05T07:38:13.059Z"
   },
   {
    "duration": 69,
    "start_time": "2025-01-05T07:38:15.520Z"
   },
   {
    "duration": 14,
    "start_time": "2025-01-05T07:38:15.591Z"
   },
   {
    "duration": 7,
    "start_time": "2025-01-05T07:38:15.606Z"
   },
   {
    "duration": 396,
    "start_time": "2025-01-05T07:38:15.616Z"
   },
   {
    "duration": 183,
    "start_time": "2025-01-05T07:38:16.014Z"
   },
   {
    "duration": 10,
    "start_time": "2025-01-05T07:38:16.198Z"
   },
   {
    "duration": 2,
    "start_time": "2025-01-05T07:38:16.210Z"
   },
   {
    "duration": 7,
    "start_time": "2025-01-05T07:38:16.214Z"
   },
   {
    "duration": 2,
    "start_time": "2025-01-05T07:38:16.223Z"
   },
   {
    "duration": 232,
    "start_time": "2025-01-05T07:38:16.227Z"
   },
   {
    "duration": 0,
    "start_time": "2025-01-05T07:38:16.461Z"
   },
   {
    "duration": 0,
    "start_time": "2025-01-05T07:38:16.462Z"
   },
   {
    "duration": 0,
    "start_time": "2025-01-05T07:38:16.464Z"
   },
   {
    "duration": 0,
    "start_time": "2025-01-05T07:38:16.465Z"
   },
   {
    "duration": 0,
    "start_time": "2025-01-05T07:38:16.465Z"
   },
   {
    "duration": 236,
    "start_time": "2025-01-05T07:38:30.130Z"
   },
   {
    "duration": 143,
    "start_time": "2025-01-05T07:43:23.814Z"
   },
   {
    "duration": 411,
    "start_time": "2025-01-05T07:44:39.124Z"
   },
   {
    "duration": 807,
    "start_time": "2025-01-05T08:08:52.201Z"
   },
   {
    "duration": 22,
    "start_time": "2025-01-05T08:08:53.011Z"
   },
   {
    "duration": 8,
    "start_time": "2025-01-05T08:08:53.035Z"
   },
   {
    "duration": 7,
    "start_time": "2025-01-05T08:08:53.046Z"
   },
   {
    "duration": 417,
    "start_time": "2025-01-05T08:08:53.054Z"
   },
   {
    "duration": 231,
    "start_time": "2025-01-05T08:08:53.473Z"
   },
   {
    "duration": 6,
    "start_time": "2025-01-05T08:08:53.706Z"
   },
   {
    "duration": 2,
    "start_time": "2025-01-05T08:08:53.714Z"
   },
   {
    "duration": 7,
    "start_time": "2025-01-05T08:08:53.718Z"
   },
   {
    "duration": 5,
    "start_time": "2025-01-05T08:08:53.727Z"
   },
   {
    "duration": 193,
    "start_time": "2025-01-05T08:08:53.733Z"
   },
   {
    "duration": 1133,
    "start_time": "2025-01-05T08:08:53.928Z"
   },
   {
    "duration": 0,
    "start_time": "2025-01-05T08:08:55.063Z"
   },
   {
    "duration": 0,
    "start_time": "2025-01-05T08:08:55.065Z"
   },
   {
    "duration": 0,
    "start_time": "2025-01-05T08:08:55.066Z"
   },
   {
    "duration": 0,
    "start_time": "2025-01-05T08:08:55.067Z"
   },
   {
    "duration": 0,
    "start_time": "2025-01-05T08:08:55.069Z"
   },
   {
    "duration": 0,
    "start_time": "2025-01-05T08:08:55.071Z"
   },
   {
    "duration": 5,
    "start_time": "2025-01-05T08:12:41.093Z"
   },
   {
    "duration": 10,
    "start_time": "2025-01-05T08:13:20.062Z"
   },
   {
    "duration": 757,
    "start_time": "2025-01-05T08:13:34.761Z"
   },
   {
    "duration": 20,
    "start_time": "2025-01-05T08:13:35.520Z"
   },
   {
    "duration": 9,
    "start_time": "2025-01-05T08:13:35.542Z"
   },
   {
    "duration": 6,
    "start_time": "2025-01-05T08:13:35.553Z"
   },
   {
    "duration": 414,
    "start_time": "2025-01-05T08:13:35.561Z"
   },
   {
    "duration": 219,
    "start_time": "2025-01-05T08:13:35.976Z"
   },
   {
    "duration": 6,
    "start_time": "2025-01-05T08:13:36.204Z"
   },
   {
    "duration": 2,
    "start_time": "2025-01-05T08:13:36.212Z"
   },
   {
    "duration": 9,
    "start_time": "2025-01-05T08:13:36.216Z"
   },
   {
    "duration": 4,
    "start_time": "2025-01-05T08:13:36.228Z"
   },
   {
    "duration": 6,
    "start_time": "2025-01-05T08:13:36.234Z"
   },
   {
    "duration": 192,
    "start_time": "2025-01-05T08:13:36.242Z"
   },
   {
    "duration": 5,
    "start_time": "2025-01-05T08:13:36.436Z"
   },
   {
    "duration": 175,
    "start_time": "2025-01-05T08:13:36.443Z"
   },
   {
    "duration": 230,
    "start_time": "2025-01-05T08:13:36.620Z"
   },
   {
    "duration": 0,
    "start_time": "2025-01-05T08:13:36.852Z"
   },
   {
    "duration": 0,
    "start_time": "2025-01-05T08:13:36.854Z"
   },
   {
    "duration": 0,
    "start_time": "2025-01-05T08:13:36.855Z"
   },
   {
    "duration": 0,
    "start_time": "2025-01-05T08:13:36.856Z"
   },
   {
    "duration": 746,
    "start_time": "2025-01-05T08:14:14.255Z"
   },
   {
    "duration": 20,
    "start_time": "2025-01-05T08:14:15.005Z"
   },
   {
    "duration": 8,
    "start_time": "2025-01-05T08:14:15.027Z"
   },
   {
    "duration": 8,
    "start_time": "2025-01-05T08:14:15.037Z"
   },
   {
    "duration": 409,
    "start_time": "2025-01-05T08:14:15.046Z"
   },
   {
    "duration": 225,
    "start_time": "2025-01-05T08:14:15.457Z"
   },
   {
    "duration": 5,
    "start_time": "2025-01-05T08:14:15.684Z"
   },
   {
    "duration": 2,
    "start_time": "2025-01-05T08:14:15.706Z"
   },
   {
    "duration": 7,
    "start_time": "2025-01-05T08:14:15.709Z"
   },
   {
    "duration": 4,
    "start_time": "2025-01-05T08:14:15.721Z"
   },
   {
    "duration": 7,
    "start_time": "2025-01-05T08:14:15.727Z"
   },
   {
    "duration": 191,
    "start_time": "2025-01-05T08:14:15.735Z"
   },
   {
    "duration": 212,
    "start_time": "2025-01-05T08:14:15.928Z"
   },
   {
    "duration": 0,
    "start_time": "2025-01-05T08:14:16.141Z"
   },
   {
    "duration": 0,
    "start_time": "2025-01-05T08:14:16.143Z"
   },
   {
    "duration": 0,
    "start_time": "2025-01-05T08:14:16.145Z"
   },
   {
    "duration": 0,
    "start_time": "2025-01-05T08:14:16.146Z"
   },
   {
    "duration": 0,
    "start_time": "2025-01-05T08:14:16.148Z"
   },
   {
    "duration": 0,
    "start_time": "2025-01-05T08:14:16.149Z"
   },
   {
    "duration": 0,
    "start_time": "2025-01-05T08:14:16.151Z"
   },
   {
    "duration": 6,
    "start_time": "2025-01-05T08:15:28.909Z"
   },
   {
    "duration": 730,
    "start_time": "2025-01-05T08:18:26.093Z"
   },
   {
    "duration": 21,
    "start_time": "2025-01-05T08:18:26.826Z"
   },
   {
    "duration": 8,
    "start_time": "2025-01-05T08:18:26.849Z"
   },
   {
    "duration": 7,
    "start_time": "2025-01-05T08:18:26.859Z"
   },
   {
    "duration": 415,
    "start_time": "2025-01-05T08:18:26.867Z"
   },
   {
    "duration": 221,
    "start_time": "2025-01-05T08:18:27.284Z"
   },
   {
    "duration": 6,
    "start_time": "2025-01-05T08:18:27.507Z"
   },
   {
    "duration": 3,
    "start_time": "2025-01-05T08:18:27.514Z"
   },
   {
    "duration": 8,
    "start_time": "2025-01-05T08:18:27.518Z"
   },
   {
    "duration": 5,
    "start_time": "2025-01-05T08:18:27.528Z"
   },
   {
    "duration": 7,
    "start_time": "2025-01-05T08:18:27.534Z"
   },
   {
    "duration": 200,
    "start_time": "2025-01-05T08:18:27.542Z"
   },
   {
    "duration": 213,
    "start_time": "2025-01-05T08:18:27.743Z"
   },
   {
    "duration": 0,
    "start_time": "2025-01-05T08:18:27.958Z"
   },
   {
    "duration": 0,
    "start_time": "2025-01-05T08:18:27.959Z"
   },
   {
    "duration": 0,
    "start_time": "2025-01-05T08:18:27.960Z"
   },
   {
    "duration": 0,
    "start_time": "2025-01-05T08:18:27.961Z"
   },
   {
    "duration": 0,
    "start_time": "2025-01-05T08:18:27.962Z"
   },
   {
    "duration": 0,
    "start_time": "2025-01-05T08:18:27.963Z"
   },
   {
    "duration": 0,
    "start_time": "2025-01-05T08:18:27.964Z"
   },
   {
    "duration": 960,
    "start_time": "2025-01-05T08:18:42.598Z"
   },
   {
    "duration": 5,
    "start_time": "2025-01-05T08:30:12.634Z"
   },
   {
    "duration": 163,
    "start_time": "2025-01-05T08:30:15.438Z"
   },
   {
    "duration": 179,
    "start_time": "2025-01-05T08:33:05.255Z"
   },
   {
    "duration": 225,
    "start_time": "2025-01-05T08:34:00.052Z"
   },
   {
    "duration": 4,
    "start_time": "2025-01-05T08:39:53.693Z"
   },
   {
    "duration": 161,
    "start_time": "2025-01-05T08:39:55.336Z"
   },
   {
    "duration": 173,
    "start_time": "2025-01-05T08:40:22.124Z"
   },
   {
    "duration": 217,
    "start_time": "2025-01-05T08:40:35.992Z"
   },
   {
    "duration": 2579,
    "start_time": "2025-01-06T06:19:49.760Z"
   },
   {
    "duration": 31,
    "start_time": "2025-01-06T06:19:52.341Z"
   },
   {
    "duration": 8,
    "start_time": "2025-01-06T06:19:52.373Z"
   },
   {
    "duration": 7,
    "start_time": "2025-01-06T06:19:52.382Z"
   },
   {
    "duration": 396,
    "start_time": "2025-01-06T06:19:52.392Z"
   },
   {
    "duration": 179,
    "start_time": "2025-01-06T06:19:52.790Z"
   },
   {
    "duration": 5,
    "start_time": "2025-01-06T06:19:52.971Z"
   },
   {
    "duration": 2,
    "start_time": "2025-01-06T06:19:52.979Z"
   },
   {
    "duration": 7,
    "start_time": "2025-01-06T06:19:52.983Z"
   },
   {
    "duration": 5,
    "start_time": "2025-01-06T06:19:52.992Z"
   },
   {
    "duration": 6,
    "start_time": "2025-01-06T06:19:53.024Z"
   },
   {
    "duration": 178,
    "start_time": "2025-01-06T06:19:53.031Z"
   },
   {
    "duration": 5,
    "start_time": "2025-01-06T06:19:53.211Z"
   },
   {
    "duration": 211,
    "start_time": "2025-01-06T06:19:53.220Z"
   },
   {
    "duration": 160,
    "start_time": "2025-01-06T06:19:53.432Z"
   },
   {
    "duration": 156,
    "start_time": "2025-01-06T06:19:53.593Z"
   },
   {
    "duration": 520,
    "start_time": "2025-01-06T06:19:53.751Z"
   },
   {
    "duration": 118,
    "start_time": "2025-01-06T06:19:54.274Z"
   },
   {
    "duration": 3,
    "start_time": "2025-01-06T06:50:58.064Z"
   },
   {
    "duration": 3,
    "start_time": "2025-01-06T06:51:13.075Z"
   },
   {
    "duration": 219,
    "start_time": "2025-01-06T06:51:23.637Z"
   },
   {
    "duration": 2,
    "start_time": "2025-01-06T06:51:28.760Z"
   },
   {
    "duration": 6,
    "start_time": "2025-01-06T06:51:47.741Z"
   },
   {
    "duration": 13,
    "start_time": "2025-01-06T06:51:54.462Z"
   },
   {
    "duration": 200,
    "start_time": "2025-01-06T06:51:59.575Z"
   },
   {
    "duration": 3,
    "start_time": "2025-01-06T06:52:04.020Z"
   },
   {
    "duration": 5,
    "start_time": "2025-01-06T06:52:33.213Z"
   },
   {
    "duration": 23,
    "start_time": "2025-01-06T06:53:25.998Z"
   },
   {
    "duration": 2,
    "start_time": "2025-01-06T06:53:36.501Z"
   },
   {
    "duration": 4,
    "start_time": "2025-01-06T06:53:37.634Z"
   },
   {
    "duration": 9,
    "start_time": "2025-01-06T06:53:44.048Z"
   },
   {
    "duration": 7,
    "start_time": "2025-01-06T06:53:52.970Z"
   },
   {
    "duration": 9,
    "start_time": "2025-01-06T06:54:10.083Z"
   },
   {
    "duration": 5,
    "start_time": "2025-01-06T07:03:53.453Z"
   },
   {
    "duration": 3,
    "start_time": "2025-01-06T07:07:18.515Z"
   },
   {
    "duration": 6,
    "start_time": "2025-01-06T07:09:22.557Z"
   },
   {
    "duration": 9,
    "start_time": "2025-01-06T07:29:49.473Z"
   },
   {
    "duration": 7,
    "start_time": "2025-01-06T07:29:58.599Z"
   },
   {
    "duration": 4,
    "start_time": "2025-01-06T07:32:55.268Z"
   },
   {
    "duration": 9,
    "start_time": "2025-01-06T07:39:01.279Z"
   },
   {
    "duration": 6,
    "start_time": "2025-01-06T07:39:26.919Z"
   },
   {
    "duration": 4,
    "start_time": "2025-01-06T08:10:52.118Z"
   },
   {
    "duration": 10,
    "start_time": "2025-01-06T08:10:55.353Z"
   },
   {
    "duration": 15,
    "start_time": "2025-01-06T08:10:59.365Z"
   },
   {
    "duration": 883,
    "start_time": "2025-01-06T08:22:43.261Z"
   },
   {
    "duration": 22,
    "start_time": "2025-01-06T08:22:44.146Z"
   },
   {
    "duration": 7,
    "start_time": "2025-01-06T08:22:44.170Z"
   },
   {
    "duration": 8,
    "start_time": "2025-01-06T08:22:44.179Z"
   },
   {
    "duration": 453,
    "start_time": "2025-01-06T08:22:44.190Z"
   },
   {
    "duration": 179,
    "start_time": "2025-01-06T08:22:44.645Z"
   },
   {
    "duration": 6,
    "start_time": "2025-01-06T08:22:44.825Z"
   },
   {
    "duration": 4,
    "start_time": "2025-01-06T08:22:44.833Z"
   },
   {
    "duration": 9,
    "start_time": "2025-01-06T08:22:44.839Z"
   },
   {
    "duration": 8,
    "start_time": "2025-01-06T08:22:44.850Z"
   },
   {
    "duration": 10,
    "start_time": "2025-01-06T08:22:44.859Z"
   },
   {
    "duration": 178,
    "start_time": "2025-01-06T08:22:44.871Z"
   },
   {
    "duration": 5,
    "start_time": "2025-01-06T08:22:45.050Z"
   },
   {
    "duration": 167,
    "start_time": "2025-01-06T08:22:45.059Z"
   },
   {
    "duration": 166,
    "start_time": "2025-01-06T08:22:45.228Z"
   },
   {
    "duration": 155,
    "start_time": "2025-01-06T08:22:45.396Z"
   },
   {
    "duration": 578,
    "start_time": "2025-01-06T08:22:45.552Z"
   },
   {
    "duration": 119,
    "start_time": "2025-01-06T08:22:46.131Z"
   },
   {
    "duration": 6,
    "start_time": "2025-01-06T08:22:46.253Z"
   },
   {
    "duration": 7,
    "start_time": "2025-01-06T08:22:46.262Z"
   },
   {
    "duration": 6,
    "start_time": "2025-01-06T08:22:46.271Z"
   },
   {
    "duration": 15,
    "start_time": "2025-01-06T08:22:46.279Z"
   },
   {
    "duration": 15,
    "start_time": "2025-01-06T08:22:46.296Z"
   },
   {
    "duration": 4,
    "start_time": "2025-01-06T08:22:46.325Z"
   },
   {
    "duration": 936,
    "start_time": "2025-01-06T08:38:46.935Z"
   },
   {
    "duration": 22,
    "start_time": "2025-01-06T08:38:47.873Z"
   },
   {
    "duration": 8,
    "start_time": "2025-01-06T08:38:47.896Z"
   },
   {
    "duration": 19,
    "start_time": "2025-01-06T08:38:47.906Z"
   },
   {
    "duration": 443,
    "start_time": "2025-01-06T08:38:47.928Z"
   },
   {
    "duration": 181,
    "start_time": "2025-01-06T08:38:48.372Z"
   },
   {
    "duration": 5,
    "start_time": "2025-01-06T08:38:48.555Z"
   },
   {
    "duration": 3,
    "start_time": "2025-01-06T08:38:48.562Z"
   },
   {
    "duration": 7,
    "start_time": "2025-01-06T08:38:48.566Z"
   },
   {
    "duration": 4,
    "start_time": "2025-01-06T08:38:48.576Z"
   },
   {
    "duration": 7,
    "start_time": "2025-01-06T08:38:48.582Z"
   },
   {
    "duration": 198,
    "start_time": "2025-01-06T08:38:48.590Z"
   },
   {
    "duration": 4,
    "start_time": "2025-01-06T08:38:48.791Z"
   },
   {
    "duration": 159,
    "start_time": "2025-01-06T08:38:48.797Z"
   },
   {
    "duration": 168,
    "start_time": "2025-01-06T08:38:48.958Z"
   },
   {
    "duration": 152,
    "start_time": "2025-01-06T08:38:49.128Z"
   },
   {
    "duration": 561,
    "start_time": "2025-01-06T08:38:49.282Z"
   },
   {
    "duration": 120,
    "start_time": "2025-01-06T08:38:49.845Z"
   },
   {
    "duration": 7,
    "start_time": "2025-01-06T08:38:49.967Z"
   },
   {
    "duration": 6,
    "start_time": "2025-01-06T08:38:49.976Z"
   },
   {
    "duration": 4,
    "start_time": "2025-01-06T08:38:49.984Z"
   },
   {
    "duration": 8,
    "start_time": "2025-01-06T08:38:49.990Z"
   },
   {
    "duration": 37,
    "start_time": "2025-01-06T08:38:49.999Z"
   },
   {
    "duration": 3,
    "start_time": "2025-01-06T08:38:50.038Z"
   },
   {
    "duration": 5,
    "start_time": "2025-01-06T08:38:50.043Z"
   },
   {
    "duration": 244,
    "start_time": "2025-01-06T08:38:50.049Z"
   },
   {
    "duration": 33,
    "start_time": "2025-01-06T08:39:10.980Z"
   },
   {
    "duration": 245,
    "start_time": "2025-01-06T08:39:14.205Z"
   },
   {
    "duration": 845,
    "start_time": "2025-01-06T08:46:37.795Z"
   },
   {
    "duration": 21,
    "start_time": "2025-01-06T08:46:38.642Z"
   },
   {
    "duration": 8,
    "start_time": "2025-01-06T08:46:38.665Z"
   },
   {
    "duration": 7,
    "start_time": "2025-01-06T08:46:38.675Z"
   },
   {
    "duration": 449,
    "start_time": "2025-01-06T08:46:38.684Z"
   },
   {
    "duration": 184,
    "start_time": "2025-01-06T08:46:39.135Z"
   },
   {
    "duration": 6,
    "start_time": "2025-01-06T08:46:39.320Z"
   },
   {
    "duration": 3,
    "start_time": "2025-01-06T08:46:39.327Z"
   },
   {
    "duration": 7,
    "start_time": "2025-01-06T08:46:39.331Z"
   },
   {
    "duration": 5,
    "start_time": "2025-01-06T08:46:39.342Z"
   },
   {
    "duration": 7,
    "start_time": "2025-01-06T08:46:39.348Z"
   },
   {
    "duration": 197,
    "start_time": "2025-01-06T08:46:39.356Z"
   },
   {
    "duration": 5,
    "start_time": "2025-01-06T08:46:39.554Z"
   },
   {
    "duration": 163,
    "start_time": "2025-01-06T08:46:39.561Z"
   },
   {
    "duration": 162,
    "start_time": "2025-01-06T08:46:39.725Z"
   },
   {
    "duration": 157,
    "start_time": "2025-01-06T08:46:39.889Z"
   },
   {
    "duration": 598,
    "start_time": "2025-01-06T08:46:40.048Z"
   },
   {
    "duration": 121,
    "start_time": "2025-01-06T08:46:40.648Z"
   },
   {
    "duration": 6,
    "start_time": "2025-01-06T08:46:40.771Z"
   },
   {
    "duration": 5,
    "start_time": "2025-01-06T08:46:40.778Z"
   },
   {
    "duration": 4,
    "start_time": "2025-01-06T08:46:40.785Z"
   },
   {
    "duration": 34,
    "start_time": "2025-01-06T08:46:40.790Z"
   },
   {
    "duration": 14,
    "start_time": "2025-01-06T08:46:40.826Z"
   },
   {
    "duration": 4,
    "start_time": "2025-01-06T08:46:40.841Z"
   },
   {
    "duration": 4,
    "start_time": "2025-01-06T08:46:40.847Z"
   },
   {
    "duration": 29,
    "start_time": "2025-01-06T08:46:40.853Z"
   },
   {
    "duration": 1177,
    "start_time": "2025-01-06T08:46:40.884Z"
   },
   {
    "duration": 974,
    "start_time": "2025-01-06T08:48:14.001Z"
   },
   {
    "duration": 17573,
    "start_time": "2025-01-06T08:49:02.172Z"
   },
   {
    "duration": 3,
    "start_time": "2025-01-06T08:50:58.359Z"
   },
   {
    "duration": 1248,
    "start_time": "2025-01-06T08:58:10.796Z"
   },
   {
    "duration": 63,
    "start_time": "2025-01-06T08:58:16.021Z"
   },
   {
    "duration": 43,
    "start_time": "2025-01-06T08:58:56.865Z"
   },
   {
    "duration": 26,
    "start_time": "2025-01-06T08:59:14.279Z"
   },
   {
    "duration": 1924,
    "start_time": "2025-01-06T08:59:15.301Z"
   },
   {
    "duration": 411,
    "start_time": "2025-01-06T08:59:24.020Z"
   },
   {
    "duration": 945,
    "start_time": "2025-01-06T09:15:09.525Z"
   },
   {
    "duration": 22,
    "start_time": "2025-01-06T09:15:10.472Z"
   },
   {
    "duration": 9,
    "start_time": "2025-01-06T09:15:10.496Z"
   },
   {
    "duration": 73,
    "start_time": "2025-01-06T09:15:10.507Z"
   },
   {
    "duration": 394,
    "start_time": "2025-01-06T09:15:10.582Z"
   },
   {
    "duration": 192,
    "start_time": "2025-01-06T09:15:10.978Z"
   },
   {
    "duration": 7,
    "start_time": "2025-01-06T09:15:11.172Z"
   },
   {
    "duration": 4,
    "start_time": "2025-01-06T09:15:11.182Z"
   },
   {
    "duration": 12,
    "start_time": "2025-01-06T09:15:11.187Z"
   },
   {
    "duration": 22,
    "start_time": "2025-01-06T09:15:11.203Z"
   },
   {
    "duration": 7,
    "start_time": "2025-01-06T09:15:11.226Z"
   },
   {
    "duration": 181,
    "start_time": "2025-01-06T09:15:11.235Z"
   },
   {
    "duration": 5,
    "start_time": "2025-01-06T09:15:11.419Z"
   },
   {
    "duration": 176,
    "start_time": "2025-01-06T09:15:11.426Z"
   },
   {
    "duration": 171,
    "start_time": "2025-01-06T09:15:11.604Z"
   },
   {
    "duration": 153,
    "start_time": "2025-01-06T09:15:11.777Z"
   },
   {
    "duration": 593,
    "start_time": "2025-01-06T09:15:11.931Z"
   },
   {
    "duration": 118,
    "start_time": "2025-01-06T09:15:12.526Z"
   },
   {
    "duration": 7,
    "start_time": "2025-01-06T09:15:12.646Z"
   },
   {
    "duration": 5,
    "start_time": "2025-01-06T09:15:12.654Z"
   },
   {
    "duration": 3,
    "start_time": "2025-01-06T09:15:12.661Z"
   },
   {
    "duration": 9,
    "start_time": "2025-01-06T09:15:12.666Z"
   },
   {
    "duration": 15,
    "start_time": "2025-01-06T09:15:12.676Z"
   },
   {
    "duration": 18,
    "start_time": "2025-01-06T09:15:12.723Z"
   },
   {
    "duration": 3,
    "start_time": "2025-01-06T09:15:12.742Z"
   },
   {
    "duration": 6,
    "start_time": "2025-01-06T09:15:12.747Z"
   },
   {
    "duration": 17617,
    "start_time": "2025-01-06T09:15:12.755Z"
   },
   {
    "duration": 1248,
    "start_time": "2025-01-06T09:15:30.376Z"
   },
   {
    "duration": 64,
    "start_time": "2025-01-06T09:15:31.626Z"
   },
   {
    "duration": 33,
    "start_time": "2025-01-06T09:15:31.691Z"
   },
   {
    "duration": 2015,
    "start_time": "2025-01-06T09:15:31.725Z"
   },
   {
    "duration": 487,
    "start_time": "2025-01-06T09:15:33.742Z"
   },
   {
    "duration": 112,
    "start_time": "2025-01-06T16:35:58.872Z"
   },
   {
    "duration": 2979,
    "start_time": "2025-01-06T16:36:06.477Z"
   },
   {
    "duration": 32,
    "start_time": "2025-01-06T16:36:09.458Z"
   },
   {
    "duration": 9,
    "start_time": "2025-01-06T16:36:09.492Z"
   },
   {
    "duration": 29,
    "start_time": "2025-01-06T16:36:09.502Z"
   },
   {
    "duration": 556,
    "start_time": "2025-01-06T16:36:09.535Z"
   },
   {
    "duration": 194,
    "start_time": "2025-01-06T16:36:10.093Z"
   },
   {
    "duration": 6,
    "start_time": "2025-01-06T16:36:10.289Z"
   },
   {
    "duration": 2,
    "start_time": "2025-01-06T16:36:10.297Z"
   },
   {
    "duration": 17,
    "start_time": "2025-01-06T16:36:10.313Z"
   },
   {
    "duration": 5,
    "start_time": "2025-01-06T16:36:10.332Z"
   },
   {
    "duration": 6,
    "start_time": "2025-01-06T16:36:10.339Z"
   },
   {
    "duration": 199,
    "start_time": "2025-01-06T16:36:10.346Z"
   },
   {
    "duration": 5,
    "start_time": "2025-01-06T16:36:10.547Z"
   },
   {
    "duration": 180,
    "start_time": "2025-01-06T16:36:10.555Z"
   },
   {
    "duration": 190,
    "start_time": "2025-01-06T16:36:10.738Z"
   },
   {
    "duration": 168,
    "start_time": "2025-01-06T16:36:10.931Z"
   },
   {
    "duration": 591,
    "start_time": "2025-01-06T16:36:11.101Z"
   },
   {
    "duration": 136,
    "start_time": "2025-01-06T16:36:11.695Z"
   },
   {
    "duration": 8,
    "start_time": "2025-01-06T16:36:11.834Z"
   },
   {
    "duration": 7,
    "start_time": "2025-01-06T16:36:11.843Z"
   },
   {
    "duration": 4,
    "start_time": "2025-01-06T16:36:11.851Z"
   },
   {
    "duration": 8,
    "start_time": "2025-01-06T16:36:11.857Z"
   },
   {
    "duration": 14,
    "start_time": "2025-01-06T16:36:11.867Z"
   },
   {
    "duration": 50,
    "start_time": "2025-01-06T16:36:11.883Z"
   },
   {
    "duration": 4,
    "start_time": "2025-01-06T16:36:11.935Z"
   },
   {
    "duration": 6,
    "start_time": "2025-01-06T16:36:11.940Z"
   },
   {
    "duration": 4886,
    "start_time": "2025-01-06T16:36:11.947Z"
   },
   {
    "duration": 1293,
    "start_time": "2025-01-06T16:36:16.835Z"
   },
   {
    "duration": 67,
    "start_time": "2025-01-06T16:36:18.129Z"
   },
   {
    "duration": 34,
    "start_time": "2025-01-06T16:36:18.198Z"
   },
   {
    "duration": 9414,
    "start_time": "2025-01-06T16:36:18.234Z"
   },
   {
    "duration": 494,
    "start_time": "2025-01-06T16:36:27.650Z"
   },
   {
    "duration": 965,
    "start_time": "2025-01-06T16:47:36.832Z"
   },
   {
    "duration": 28,
    "start_time": "2025-01-06T16:47:37.799Z"
   },
   {
    "duration": 8,
    "start_time": "2025-01-06T16:47:37.829Z"
   },
   {
    "duration": 9,
    "start_time": "2025-01-06T16:47:37.839Z"
   },
   {
    "duration": 528,
    "start_time": "2025-01-06T16:47:37.850Z"
   },
   {
    "duration": 209,
    "start_time": "2025-01-06T16:47:38.379Z"
   },
   {
    "duration": 6,
    "start_time": "2025-01-06T16:47:38.589Z"
   },
   {
    "duration": 3,
    "start_time": "2025-01-06T16:47:38.596Z"
   },
   {
    "duration": 26,
    "start_time": "2025-01-06T16:47:38.600Z"
   },
   {
    "duration": 8,
    "start_time": "2025-01-06T16:47:38.629Z"
   },
   {
    "duration": 6,
    "start_time": "2025-01-06T16:47:38.639Z"
   },
   {
    "duration": 187,
    "start_time": "2025-01-06T16:47:38.647Z"
   },
   {
    "duration": 6,
    "start_time": "2025-01-06T16:47:38.835Z"
   },
   {
    "duration": 180,
    "start_time": "2025-01-06T16:47:38.842Z"
   },
   {
    "duration": 174,
    "start_time": "2025-01-06T16:47:39.024Z"
   },
   {
    "duration": 191,
    "start_time": "2025-01-06T16:47:39.200Z"
   },
   {
    "duration": 579,
    "start_time": "2025-01-06T16:47:39.393Z"
   },
   {
    "duration": 154,
    "start_time": "2025-01-06T16:47:39.974Z"
   },
   {
    "duration": 7,
    "start_time": "2025-01-06T16:47:40.132Z"
   },
   {
    "duration": 5,
    "start_time": "2025-01-06T16:47:40.140Z"
   },
   {
    "duration": 3,
    "start_time": "2025-01-06T16:47:40.147Z"
   },
   {
    "duration": 8,
    "start_time": "2025-01-06T16:47:40.152Z"
   },
   {
    "duration": 13,
    "start_time": "2025-01-06T16:47:40.162Z"
   },
   {
    "duration": 15,
    "start_time": "2025-01-06T16:47:40.176Z"
   },
   {
    "duration": 32,
    "start_time": "2025-01-06T16:47:40.192Z"
   },
   {
    "duration": 5,
    "start_time": "2025-01-06T16:47:40.233Z"
   },
   {
    "duration": 3611,
    "start_time": "2025-01-06T16:47:40.240Z"
   },
   {
    "duration": 933,
    "start_time": "2025-01-06T16:47:43.856Z"
   },
   {
    "duration": 68,
    "start_time": "2025-01-06T16:47:44.791Z"
   },
   {
    "duration": 17,
    "start_time": "2025-01-06T16:47:44.861Z"
   },
   {
    "duration": 8573,
    "start_time": "2025-01-06T16:47:44.880Z"
   },
   {
    "duration": 470,
    "start_time": "2025-01-06T16:47:53.454Z"
   },
   {
    "duration": 1043,
    "start_time": "2025-01-06T16:48:18.820Z"
   },
   {
    "duration": 22,
    "start_time": "2025-01-06T16:48:19.866Z"
   },
   {
    "duration": 9,
    "start_time": "2025-01-06T16:48:19.889Z"
   },
   {
    "duration": 73,
    "start_time": "2025-01-06T16:48:19.901Z"
   },
   {
    "duration": 458,
    "start_time": "2025-01-06T16:48:19.976Z"
   },
   {
    "duration": 204,
    "start_time": "2025-01-06T16:48:20.436Z"
   },
   {
    "duration": 6,
    "start_time": "2025-01-06T16:48:20.642Z"
   },
   {
    "duration": 2,
    "start_time": "2025-01-06T16:48:20.650Z"
   },
   {
    "duration": 8,
    "start_time": "2025-01-06T16:48:20.654Z"
   },
   {
    "duration": 4,
    "start_time": "2025-01-06T16:48:20.665Z"
   },
   {
    "duration": 7,
    "start_time": "2025-01-06T16:48:20.671Z"
   },
   {
    "duration": 222,
    "start_time": "2025-01-06T16:48:20.680Z"
   },
   {
    "duration": 6,
    "start_time": "2025-01-06T16:48:20.903Z"
   },
   {
    "duration": 190,
    "start_time": "2025-01-06T16:48:20.911Z"
   },
   {
    "duration": 197,
    "start_time": "2025-01-06T16:48:21.103Z"
   },
   {
    "duration": 184,
    "start_time": "2025-01-06T16:48:21.302Z"
   },
   {
    "duration": 598,
    "start_time": "2025-01-06T16:48:21.487Z"
   },
   {
    "duration": 125,
    "start_time": "2025-01-06T16:48:22.087Z"
   },
   {
    "duration": 10,
    "start_time": "2025-01-06T16:48:22.214Z"
   },
   {
    "duration": 10,
    "start_time": "2025-01-06T16:48:22.226Z"
   },
   {
    "duration": 3,
    "start_time": "2025-01-06T16:48:22.238Z"
   },
   {
    "duration": 7,
    "start_time": "2025-01-06T16:48:22.243Z"
   },
   {
    "duration": 12,
    "start_time": "2025-01-06T16:48:22.252Z"
   },
   {
    "duration": 14,
    "start_time": "2025-01-06T16:48:22.266Z"
   },
   {
    "duration": 15,
    "start_time": "2025-01-06T16:48:22.309Z"
   },
   {
    "duration": 6,
    "start_time": "2025-01-06T16:48:22.334Z"
   },
   {
    "duration": 3397,
    "start_time": "2025-01-06T16:48:22.342Z"
   },
   {
    "duration": 919,
    "start_time": "2025-01-06T16:48:25.744Z"
   },
   {
    "duration": 76,
    "start_time": "2025-01-06T16:48:26.665Z"
   },
   {
    "duration": 19,
    "start_time": "2025-01-06T16:48:26.743Z"
   },
   {
    "duration": 9760,
    "start_time": "2025-01-06T16:48:26.764Z"
   },
   {
    "duration": 415,
    "start_time": "2025-01-06T16:48:36.529Z"
   },
   {
    "duration": 11629,
    "start_time": "2025-01-06T17:03:48.572Z"
   },
   {
    "duration": 914,
    "start_time": "2025-01-06T17:04:13.625Z"
   },
   {
    "duration": 75,
    "start_time": "2025-01-06T17:04:15.945Z"
   },
   {
    "duration": 981,
    "start_time": "2025-01-06T17:04:51.623Z"
   },
   {
    "duration": 44,
    "start_time": "2025-01-06T17:04:52.611Z"
   },
   {
    "duration": 8,
    "start_time": "2025-01-06T17:04:52.656Z"
   },
   {
    "duration": 8,
    "start_time": "2025-01-06T17:04:52.667Z"
   },
   {
    "duration": 520,
    "start_time": "2025-01-06T17:04:52.677Z"
   },
   {
    "duration": 196,
    "start_time": "2025-01-06T17:04:53.198Z"
   },
   {
    "duration": 10,
    "start_time": "2025-01-06T17:04:53.396Z"
   },
   {
    "duration": 4,
    "start_time": "2025-01-06T17:04:53.413Z"
   },
   {
    "duration": 19,
    "start_time": "2025-01-06T17:04:53.419Z"
   },
   {
    "duration": 7,
    "start_time": "2025-01-06T17:04:53.440Z"
   },
   {
    "duration": 8,
    "start_time": "2025-01-06T17:04:53.448Z"
   },
   {
    "duration": 200,
    "start_time": "2025-01-06T17:04:53.458Z"
   },
   {
    "duration": 4,
    "start_time": "2025-01-06T17:04:53.660Z"
   },
   {
    "duration": 184,
    "start_time": "2025-01-06T17:04:53.667Z"
   },
   {
    "duration": 195,
    "start_time": "2025-01-06T17:04:53.853Z"
   },
   {
    "duration": 186,
    "start_time": "2025-01-06T17:04:54.050Z"
   },
   {
    "duration": 612,
    "start_time": "2025-01-06T17:04:54.237Z"
   },
   {
    "duration": 115,
    "start_time": "2025-01-06T17:04:54.851Z"
   },
   {
    "duration": 6,
    "start_time": "2025-01-06T17:04:54.968Z"
   },
   {
    "duration": 5,
    "start_time": "2025-01-06T17:04:54.976Z"
   },
   {
    "duration": 25,
    "start_time": "2025-01-06T17:04:54.983Z"
   },
   {
    "duration": 23,
    "start_time": "2025-01-06T17:04:55.009Z"
   },
   {
    "duration": 11,
    "start_time": "2025-01-06T17:04:55.034Z"
   },
   {
    "duration": 12,
    "start_time": "2025-01-06T17:04:55.046Z"
   },
   {
    "duration": 4,
    "start_time": "2025-01-06T17:04:55.059Z"
   },
   {
    "duration": 5,
    "start_time": "2025-01-06T17:04:55.064Z"
   },
   {
    "duration": 8545,
    "start_time": "2025-01-06T17:04:55.071Z"
   },
   {
    "duration": 690,
    "start_time": "2025-01-06T17:05:03.618Z"
   },
   {
    "duration": 69,
    "start_time": "2025-01-06T17:05:04.312Z"
   },
   {
    "duration": 45,
    "start_time": "2025-01-06T17:05:04.383Z"
   },
   {
    "duration": 8131,
    "start_time": "2025-01-06T17:05:04.429Z"
   },
   {
    "duration": 525,
    "start_time": "2025-01-06T17:05:12.605Z"
   },
   {
    "duration": 26,
    "start_time": "2025-01-06T17:06:13.703Z"
   },
   {
    "duration": 950,
    "start_time": "2025-01-06T17:06:26.004Z"
   },
   {
    "duration": 23,
    "start_time": "2025-01-06T17:06:26.956Z"
   },
   {
    "duration": 11,
    "start_time": "2025-01-06T17:06:26.981Z"
   },
   {
    "duration": 57,
    "start_time": "2025-01-06T17:06:26.995Z"
   },
   {
    "duration": 431,
    "start_time": "2025-01-06T17:06:27.054Z"
   },
   {
    "duration": 215,
    "start_time": "2025-01-06T17:06:27.487Z"
   },
   {
    "duration": 20,
    "start_time": "2025-01-06T17:06:27.704Z"
   },
   {
    "duration": 8,
    "start_time": "2025-01-06T17:06:27.726Z"
   },
   {
    "duration": 7,
    "start_time": "2025-01-06T17:06:27.736Z"
   },
   {
    "duration": 4,
    "start_time": "2025-01-06T17:06:27.747Z"
   },
   {
    "duration": 7,
    "start_time": "2025-01-06T17:06:27.753Z"
   },
   {
    "duration": 179,
    "start_time": "2025-01-06T17:06:27.762Z"
   },
   {
    "duration": 5,
    "start_time": "2025-01-06T17:06:27.943Z"
   },
   {
    "duration": 190,
    "start_time": "2025-01-06T17:06:27.950Z"
   },
   {
    "duration": 183,
    "start_time": "2025-01-06T17:06:28.142Z"
   },
   {
    "duration": 155,
    "start_time": "2025-01-06T17:06:28.326Z"
   },
   {
    "duration": 583,
    "start_time": "2025-01-06T17:06:28.483Z"
   },
   {
    "duration": 135,
    "start_time": "2025-01-06T17:06:29.068Z"
   },
   {
    "duration": 24,
    "start_time": "2025-01-06T17:06:29.204Z"
   },
   {
    "duration": 7,
    "start_time": "2025-01-06T17:06:29.232Z"
   },
   {
    "duration": 4,
    "start_time": "2025-01-06T17:06:29.240Z"
   },
   {
    "duration": 9,
    "start_time": "2025-01-06T17:06:29.246Z"
   },
   {
    "duration": 16,
    "start_time": "2025-01-06T17:06:29.256Z"
   },
   {
    "duration": 15,
    "start_time": "2025-01-06T17:06:29.273Z"
   },
   {
    "duration": 26,
    "start_time": "2025-01-06T17:06:29.290Z"
   },
   {
    "duration": 6,
    "start_time": "2025-01-06T17:06:29.331Z"
   },
   {
    "duration": 14960,
    "start_time": "2025-01-06T17:06:29.339Z"
   },
   {
    "duration": 1177,
    "start_time": "2025-01-06T17:06:44.304Z"
   },
   {
    "duration": 83,
    "start_time": "2025-01-06T17:06:45.483Z"
   },
   {
    "duration": 17,
    "start_time": "2025-01-06T17:06:45.569Z"
   },
   {
    "duration": 10428,
    "start_time": "2025-01-06T17:06:45.588Z"
   },
   {
    "duration": 522,
    "start_time": "2025-01-06T17:06:56.022Z"
   },
   {
    "duration": 928,
    "start_time": "2025-01-06T17:07:26.227Z"
   },
   {
    "duration": 22,
    "start_time": "2025-01-06T17:07:27.157Z"
   },
   {
    "duration": 8,
    "start_time": "2025-01-06T17:07:27.180Z"
   },
   {
    "duration": 18,
    "start_time": "2025-01-06T17:07:27.192Z"
   },
   {
    "duration": 505,
    "start_time": "2025-01-06T17:07:27.211Z"
   },
   {
    "duration": 216,
    "start_time": "2025-01-06T17:07:27.718Z"
   },
   {
    "duration": 6,
    "start_time": "2025-01-06T17:07:27.936Z"
   },
   {
    "duration": 3,
    "start_time": "2025-01-06T17:07:27.944Z"
   },
   {
    "duration": 7,
    "start_time": "2025-01-06T17:07:27.948Z"
   },
   {
    "duration": 4,
    "start_time": "2025-01-06T17:07:27.959Z"
   },
   {
    "duration": 6,
    "start_time": "2025-01-06T17:07:27.965Z"
   },
   {
    "duration": 205,
    "start_time": "2025-01-06T17:07:27.973Z"
   },
   {
    "duration": 6,
    "start_time": "2025-01-06T17:07:28.179Z"
   },
   {
    "duration": 200,
    "start_time": "2025-01-06T17:07:28.186Z"
   },
   {
    "duration": 204,
    "start_time": "2025-01-06T17:07:28.389Z"
   },
   {
    "duration": 177,
    "start_time": "2025-01-06T17:07:28.595Z"
   },
   {
    "duration": 623,
    "start_time": "2025-01-06T17:07:28.775Z"
   },
   {
    "duration": 143,
    "start_time": "2025-01-06T17:07:29.399Z"
   },
   {
    "duration": 6,
    "start_time": "2025-01-06T17:07:29.545Z"
   },
   {
    "duration": 5,
    "start_time": "2025-01-06T17:07:29.553Z"
   },
   {
    "duration": 3,
    "start_time": "2025-01-06T17:07:29.560Z"
   },
   {
    "duration": 7,
    "start_time": "2025-01-06T17:07:29.565Z"
   },
   {
    "duration": 14,
    "start_time": "2025-01-06T17:07:29.575Z"
   },
   {
    "duration": 24,
    "start_time": "2025-01-06T17:07:29.607Z"
   },
   {
    "duration": 3,
    "start_time": "2025-01-06T17:07:29.636Z"
   },
   {
    "duration": 5,
    "start_time": "2025-01-06T17:07:29.641Z"
   },
   {
    "duration": 15027,
    "start_time": "2025-01-06T17:07:29.647Z"
   },
   {
    "duration": 1160,
    "start_time": "2025-01-06T17:07:44.677Z"
   },
   {
    "duration": 84,
    "start_time": "2025-01-06T17:07:45.840Z"
   },
   {
    "duration": 17,
    "start_time": "2025-01-06T17:07:45.934Z"
   },
   {
    "duration": 3998,
    "start_time": "2025-01-06T17:07:45.953Z"
   },
   {
    "duration": 367,
    "start_time": "2025-01-06T17:07:49.953Z"
   },
   {
    "duration": 968,
    "start_time": "2025-01-06T17:20:24.580Z"
   },
   {
    "duration": 21,
    "start_time": "2025-01-06T17:20:25.551Z"
   },
   {
    "duration": 9,
    "start_time": "2025-01-06T17:20:25.573Z"
   },
   {
    "duration": 8,
    "start_time": "2025-01-06T17:20:25.583Z"
   },
   {
    "duration": 490,
    "start_time": "2025-01-06T17:20:25.593Z"
   },
   {
    "duration": 187,
    "start_time": "2025-01-06T17:20:26.085Z"
   },
   {
    "duration": 6,
    "start_time": "2025-01-06T17:20:26.274Z"
   },
   {
    "duration": 2,
    "start_time": "2025-01-06T17:20:26.282Z"
   },
   {
    "duration": 48,
    "start_time": "2025-01-06T17:20:26.285Z"
   },
   {
    "duration": 5,
    "start_time": "2025-01-06T17:20:26.335Z"
   },
   {
    "duration": 7,
    "start_time": "2025-01-06T17:20:26.342Z"
   },
   {
    "duration": 177,
    "start_time": "2025-01-06T17:20:26.351Z"
   },
   {
    "duration": 6,
    "start_time": "2025-01-06T17:20:26.530Z"
   },
   {
    "duration": 190,
    "start_time": "2025-01-06T17:20:26.541Z"
   },
   {
    "duration": 165,
    "start_time": "2025-01-06T17:20:26.733Z"
   },
   {
    "duration": 168,
    "start_time": "2025-01-06T17:20:26.912Z"
   },
   {
    "duration": 619,
    "start_time": "2025-01-06T17:20:27.081Z"
   },
   {
    "duration": 123,
    "start_time": "2025-01-06T17:20:27.705Z"
   },
   {
    "duration": 10,
    "start_time": "2025-01-06T17:20:27.830Z"
   },
   {
    "duration": 6,
    "start_time": "2025-01-06T17:20:27.842Z"
   },
   {
    "duration": 3,
    "start_time": "2025-01-06T17:20:27.850Z"
   },
   {
    "duration": 8,
    "start_time": "2025-01-06T17:20:27.855Z"
   },
   {
    "duration": 14,
    "start_time": "2025-01-06T17:20:27.865Z"
   },
   {
    "duration": 55,
    "start_time": "2025-01-06T17:20:27.881Z"
   },
   {
    "duration": 3,
    "start_time": "2025-01-06T17:20:27.938Z"
   },
   {
    "duration": 6,
    "start_time": "2025-01-06T17:20:27.942Z"
   },
   {
    "duration": 14906,
    "start_time": "2025-01-06T17:20:27.949Z"
   },
   {
    "duration": 1194,
    "start_time": "2025-01-06T17:20:42.857Z"
   },
   {
    "duration": 86,
    "start_time": "2025-01-06T17:20:44.053Z"
   },
   {
    "duration": 35721,
    "start_time": "2025-01-06T17:20:44.141Z"
   },
   {
    "duration": 17,
    "start_time": "2025-01-06T17:21:19.865Z"
   },
   {
    "duration": 2854,
    "start_time": "2025-01-06T17:21:19.883Z"
   },
   {
    "duration": 180,
    "start_time": "2025-01-06T17:21:22.745Z"
   },
   {
    "duration": 977,
    "start_time": "2025-01-06T17:21:50.085Z"
   },
   {
    "duration": 21,
    "start_time": "2025-01-06T17:21:51.064Z"
   },
   {
    "duration": 33,
    "start_time": "2025-01-06T17:21:51.087Z"
   },
   {
    "duration": 10,
    "start_time": "2025-01-06T17:21:51.122Z"
   },
   {
    "duration": 574,
    "start_time": "2025-01-06T17:21:51.182Z"
   },
   {
    "duration": 194,
    "start_time": "2025-01-06T17:21:51.758Z"
   },
   {
    "duration": 7,
    "start_time": "2025-01-06T17:21:51.954Z"
   },
   {
    "duration": 2,
    "start_time": "2025-01-06T17:21:51.963Z"
   },
   {
    "duration": 7,
    "start_time": "2025-01-06T17:21:51.967Z"
   },
   {
    "duration": 6,
    "start_time": "2025-01-06T17:21:51.976Z"
   },
   {
    "duration": 32,
    "start_time": "2025-01-06T17:21:51.984Z"
   },
   {
    "duration": 176,
    "start_time": "2025-01-06T17:21:52.026Z"
   },
   {
    "duration": 20,
    "start_time": "2025-01-06T17:21:52.204Z"
   },
   {
    "duration": 267,
    "start_time": "2025-01-06T17:21:52.232Z"
   },
   {
    "duration": 248,
    "start_time": "2025-01-06T17:21:52.501Z"
   },
   {
    "duration": 229,
    "start_time": "2025-01-06T17:21:52.750Z"
   },
   {
    "duration": 655,
    "start_time": "2025-01-06T17:21:52.981Z"
   },
   {
    "duration": 122,
    "start_time": "2025-01-06T17:21:53.638Z"
   },
   {
    "duration": 10,
    "start_time": "2025-01-06T17:21:53.762Z"
   },
   {
    "duration": 9,
    "start_time": "2025-01-06T17:21:53.775Z"
   },
   {
    "duration": 4,
    "start_time": "2025-01-06T17:21:53.788Z"
   },
   {
    "duration": 21,
    "start_time": "2025-01-06T17:21:53.809Z"
   },
   {
    "duration": 28,
    "start_time": "2025-01-06T17:21:53.831Z"
   },
   {
    "duration": 16,
    "start_time": "2025-01-06T17:21:53.862Z"
   },
   {
    "duration": 4,
    "start_time": "2025-01-06T17:21:53.881Z"
   },
   {
    "duration": 5,
    "start_time": "2025-01-06T17:21:53.887Z"
   },
   {
    "duration": 15491,
    "start_time": "2025-01-06T17:21:53.894Z"
   },
   {
    "duration": 1245,
    "start_time": "2025-01-06T17:22:09.387Z"
   },
   {
    "duration": 94,
    "start_time": "2025-01-06T17:22:10.634Z"
   },
   {
    "duration": 19,
    "start_time": "2025-01-06T17:22:10.742Z"
   },
   {
    "duration": 91397,
    "start_time": "2025-01-06T17:22:10.763Z"
   },
   {
    "duration": 273,
    "start_time": "2025-01-06T17:23:42.163Z"
   },
   {
    "duration": 975,
    "start_time": "2025-01-06T17:30:41.661Z"
   },
   {
    "duration": 23,
    "start_time": "2025-01-06T17:30:42.638Z"
   },
   {
    "duration": 7,
    "start_time": "2025-01-06T17:30:42.663Z"
   },
   {
    "duration": 8,
    "start_time": "2025-01-06T17:30:42.673Z"
   },
   {
    "duration": 551,
    "start_time": "2025-01-06T17:30:42.683Z"
   },
   {
    "duration": 223,
    "start_time": "2025-01-06T17:30:43.236Z"
   },
   {
    "duration": 7,
    "start_time": "2025-01-06T17:30:43.461Z"
   },
   {
    "duration": 3,
    "start_time": "2025-01-06T17:30:43.470Z"
   },
   {
    "duration": 7,
    "start_time": "2025-01-06T17:30:43.474Z"
   },
   {
    "duration": 4,
    "start_time": "2025-01-06T17:30:43.483Z"
   },
   {
    "duration": 28,
    "start_time": "2025-01-06T17:30:43.488Z"
   },
   {
    "duration": 202,
    "start_time": "2025-01-06T17:30:43.518Z"
   },
   {
    "duration": 7,
    "start_time": "2025-01-06T17:30:43.721Z"
   },
   {
    "duration": 165,
    "start_time": "2025-01-06T17:30:43.731Z"
   },
   {
    "duration": 171,
    "start_time": "2025-01-06T17:30:43.905Z"
   },
   {
    "duration": 186,
    "start_time": "2025-01-06T17:30:44.078Z"
   },
   {
    "duration": 601,
    "start_time": "2025-01-06T17:30:44.266Z"
   },
   {
    "duration": 135,
    "start_time": "2025-01-06T17:30:44.869Z"
   },
   {
    "duration": 16,
    "start_time": "2025-01-06T17:30:45.017Z"
   },
   {
    "duration": 7,
    "start_time": "2025-01-06T17:30:45.035Z"
   },
   {
    "duration": 4,
    "start_time": "2025-01-06T17:30:45.044Z"
   },
   {
    "duration": 8,
    "start_time": "2025-01-06T17:30:45.050Z"
   },
   {
    "duration": 15,
    "start_time": "2025-01-06T17:30:45.060Z"
   },
   {
    "duration": 53,
    "start_time": "2025-01-06T17:30:45.077Z"
   },
   {
    "duration": 3,
    "start_time": "2025-01-06T17:30:45.133Z"
   },
   {
    "duration": 5,
    "start_time": "2025-01-06T17:30:45.138Z"
   },
   {
    "duration": 13927,
    "start_time": "2025-01-06T17:30:45.145Z"
   },
   {
    "duration": 1072,
    "start_time": "2025-01-06T17:30:59.074Z"
   },
   {
    "duration": 89,
    "start_time": "2025-01-06T17:31:00.147Z"
   },
   {
    "duration": 18,
    "start_time": "2025-01-06T17:31:00.238Z"
   },
   {
    "duration": 1675,
    "start_time": "2025-01-06T17:31:00.257Z"
   },
   {
    "duration": 178,
    "start_time": "2025-01-06T17:31:01.934Z"
   },
   {
    "duration": 1010,
    "start_time": "2025-01-06T17:33:53.454Z"
   },
   {
    "duration": 22,
    "start_time": "2025-01-06T17:33:54.466Z"
   },
   {
    "duration": 19,
    "start_time": "2025-01-06T17:33:54.490Z"
   },
   {
    "duration": 12,
    "start_time": "2025-01-06T17:33:54.510Z"
   },
   {
    "duration": 471,
    "start_time": "2025-01-06T17:33:54.525Z"
   },
   {
    "duration": 206,
    "start_time": "2025-01-06T17:33:54.998Z"
   },
   {
    "duration": 18,
    "start_time": "2025-01-06T17:33:55.217Z"
   },
   {
    "duration": 3,
    "start_time": "2025-01-06T17:33:55.236Z"
   },
   {
    "duration": 6,
    "start_time": "2025-01-06T17:33:55.241Z"
   },
   {
    "duration": 6,
    "start_time": "2025-01-06T17:33:55.249Z"
   },
   {
    "duration": 6,
    "start_time": "2025-01-06T17:33:55.257Z"
   },
   {
    "duration": 200,
    "start_time": "2025-01-06T17:33:55.265Z"
   },
   {
    "duration": 5,
    "start_time": "2025-01-06T17:33:55.468Z"
   },
   {
    "duration": 171,
    "start_time": "2025-01-06T17:33:55.478Z"
   },
   {
    "duration": 165,
    "start_time": "2025-01-06T17:33:55.650Z"
   },
   {
    "duration": 157,
    "start_time": "2025-01-06T17:33:55.819Z"
   },
   {
    "duration": 563,
    "start_time": "2025-01-06T17:33:55.978Z"
   },
   {
    "duration": 127,
    "start_time": "2025-01-06T17:33:56.544Z"
   },
   {
    "duration": 7,
    "start_time": "2025-01-06T17:33:56.673Z"
   },
   {
    "duration": 5,
    "start_time": "2025-01-06T17:33:56.681Z"
   },
   {
    "duration": 4,
    "start_time": "2025-01-06T17:33:56.688Z"
   },
   {
    "duration": 40,
    "start_time": "2025-01-06T17:33:56.693Z"
   },
   {
    "duration": 17,
    "start_time": "2025-01-06T17:33:56.734Z"
   },
   {
    "duration": 17,
    "start_time": "2025-01-06T17:33:56.752Z"
   },
   {
    "duration": 3,
    "start_time": "2025-01-06T17:33:56.770Z"
   },
   {
    "duration": 4,
    "start_time": "2025-01-06T17:33:56.775Z"
   },
   {
    "duration": 18545,
    "start_time": "2025-01-06T17:33:56.780Z"
   },
   {
    "duration": 1432,
    "start_time": "2025-01-06T17:34:15.329Z"
   },
   {
    "duration": 74,
    "start_time": "2025-01-06T17:34:16.763Z"
   },
   {
    "duration": 18,
    "start_time": "2025-01-06T17:34:16.839Z"
   },
   {
    "duration": 2851,
    "start_time": "2025-01-06T17:34:16.858Z"
   },
   {
    "duration": 118,
    "start_time": "2025-01-06T17:34:19.726Z"
   },
   {
    "duration": 1016,
    "start_time": "2025-01-06T17:35:05.744Z"
   },
   {
    "duration": 21,
    "start_time": "2025-01-06T17:35:06.762Z"
   },
   {
    "duration": 8,
    "start_time": "2025-01-06T17:35:06.786Z"
   },
   {
    "duration": 37,
    "start_time": "2025-01-06T17:35:06.796Z"
   },
   {
    "duration": 535,
    "start_time": "2025-01-06T17:35:06.836Z"
   },
   {
    "duration": 192,
    "start_time": "2025-01-06T17:35:07.373Z"
   },
   {
    "duration": 6,
    "start_time": "2025-01-06T17:35:07.567Z"
   },
   {
    "duration": 2,
    "start_time": "2025-01-06T17:35:07.575Z"
   },
   {
    "duration": 8,
    "start_time": "2025-01-06T17:35:07.578Z"
   },
   {
    "duration": 33,
    "start_time": "2025-01-06T17:35:07.587Z"
   },
   {
    "duration": 8,
    "start_time": "2025-01-06T17:35:07.631Z"
   },
   {
    "duration": 187,
    "start_time": "2025-01-06T17:35:07.641Z"
   },
   {
    "duration": 5,
    "start_time": "2025-01-06T17:35:07.830Z"
   },
   {
    "duration": 198,
    "start_time": "2025-01-06T17:35:07.839Z"
   },
   {
    "duration": 193,
    "start_time": "2025-01-06T17:35:08.039Z"
   },
   {
    "duration": 160,
    "start_time": "2025-01-06T17:35:08.234Z"
   },
   {
    "duration": 621,
    "start_time": "2025-01-06T17:35:08.395Z"
   },
   {
    "duration": 122,
    "start_time": "2025-01-06T17:35:09.018Z"
   },
   {
    "duration": 7,
    "start_time": "2025-01-06T17:35:09.141Z"
   },
   {
    "duration": 6,
    "start_time": "2025-01-06T17:35:09.150Z"
   },
   {
    "duration": 4,
    "start_time": "2025-01-06T17:35:09.158Z"
   },
   {
    "duration": 44,
    "start_time": "2025-01-06T17:35:09.164Z"
   },
   {
    "duration": 27,
    "start_time": "2025-01-06T17:35:09.221Z"
   },
   {
    "duration": 24,
    "start_time": "2025-01-06T17:35:09.251Z"
   },
   {
    "duration": 3,
    "start_time": "2025-01-06T17:35:09.277Z"
   },
   {
    "duration": 5,
    "start_time": "2025-01-06T17:35:09.282Z"
   },
   {
    "duration": 46650,
    "start_time": "2025-01-06T17:35:09.288Z"
   },
   {
    "duration": 3654,
    "start_time": "2025-01-06T17:35:55.939Z"
   },
   {
    "duration": 82,
    "start_time": "2025-01-06T17:35:59.595Z"
   },
   {
    "duration": 24,
    "start_time": "2025-01-06T17:35:59.679Z"
   },
   {
    "duration": 5016,
    "start_time": "2025-01-06T17:35:59.704Z"
   },
   {
    "duration": 204,
    "start_time": "2025-01-06T17:36:04.722Z"
   },
   {
    "duration": 1029,
    "start_time": "2025-01-06T17:36:50.329Z"
   },
   {
    "duration": 21,
    "start_time": "2025-01-06T17:36:51.360Z"
   },
   {
    "duration": 8,
    "start_time": "2025-01-06T17:36:51.382Z"
   },
   {
    "duration": 8,
    "start_time": "2025-01-06T17:36:51.393Z"
   },
   {
    "duration": 491,
    "start_time": "2025-01-06T17:36:51.403Z"
   },
   {
    "duration": 202,
    "start_time": "2025-01-06T17:36:51.895Z"
   },
   {
    "duration": 29,
    "start_time": "2025-01-06T17:36:52.099Z"
   },
   {
    "duration": 3,
    "start_time": "2025-01-06T17:36:52.133Z"
   },
   {
    "duration": 7,
    "start_time": "2025-01-06T17:36:52.138Z"
   },
   {
    "duration": 4,
    "start_time": "2025-01-06T17:36:52.149Z"
   },
   {
    "duration": 7,
    "start_time": "2025-01-06T17:36:52.155Z"
   },
   {
    "duration": 194,
    "start_time": "2025-01-06T17:36:52.163Z"
   },
   {
    "duration": 4,
    "start_time": "2025-01-06T17:36:52.360Z"
   },
   {
    "duration": 209,
    "start_time": "2025-01-06T17:36:52.366Z"
   },
   {
    "duration": 179,
    "start_time": "2025-01-06T17:36:52.577Z"
   },
   {
    "duration": 177,
    "start_time": "2025-01-06T17:36:52.758Z"
   },
   {
    "duration": 613,
    "start_time": "2025-01-06T17:36:52.939Z"
   },
   {
    "duration": 140,
    "start_time": "2025-01-06T17:36:53.554Z"
   },
   {
    "duration": 6,
    "start_time": "2025-01-06T17:36:53.696Z"
   },
   {
    "duration": 24,
    "start_time": "2025-01-06T17:36:53.709Z"
   },
   {
    "duration": 4,
    "start_time": "2025-01-06T17:36:53.735Z"
   },
   {
    "duration": 19,
    "start_time": "2025-01-06T17:36:53.741Z"
   },
   {
    "duration": 24,
    "start_time": "2025-01-06T17:36:53.762Z"
   },
   {
    "duration": 49,
    "start_time": "2025-01-06T17:36:53.787Z"
   },
   {
    "duration": 3,
    "start_time": "2025-01-06T17:36:53.838Z"
   },
   {
    "duration": 5,
    "start_time": "2025-01-06T17:36:53.843Z"
   },
   {
    "duration": 46742,
    "start_time": "2025-01-06T17:36:53.850Z"
   },
   {
    "duration": 3704,
    "start_time": "2025-01-06T17:37:40.595Z"
   },
   {
    "duration": 71,
    "start_time": "2025-01-06T17:37:44.305Z"
   },
   {
    "duration": 50,
    "start_time": "2025-01-06T17:37:44.378Z"
   },
   {
    "duration": 2798,
    "start_time": "2025-01-06T17:37:44.430Z"
   },
   {
    "duration": 116,
    "start_time": "2025-01-06T17:37:47.237Z"
   },
   {
    "duration": 977,
    "start_time": "2025-01-06T17:38:34.657Z"
   },
   {
    "duration": 21,
    "start_time": "2025-01-06T17:38:35.636Z"
   },
   {
    "duration": 8,
    "start_time": "2025-01-06T17:38:35.659Z"
   },
   {
    "duration": 8,
    "start_time": "2025-01-06T17:38:35.668Z"
   },
   {
    "duration": 518,
    "start_time": "2025-01-06T17:38:35.679Z"
   },
   {
    "duration": 187,
    "start_time": "2025-01-06T17:38:36.199Z"
   },
   {
    "duration": 8,
    "start_time": "2025-01-06T17:38:36.388Z"
   },
   {
    "duration": 16,
    "start_time": "2025-01-06T17:38:36.398Z"
   },
   {
    "duration": 13,
    "start_time": "2025-01-06T17:38:36.425Z"
   },
   {
    "duration": 6,
    "start_time": "2025-01-06T17:38:36.440Z"
   },
   {
    "duration": 7,
    "start_time": "2025-01-06T17:38:36.447Z"
   },
   {
    "duration": 202,
    "start_time": "2025-01-06T17:38:36.456Z"
   },
   {
    "duration": 5,
    "start_time": "2025-01-06T17:38:36.659Z"
   },
   {
    "duration": 197,
    "start_time": "2025-01-06T17:38:36.668Z"
   },
   {
    "duration": 161,
    "start_time": "2025-01-06T17:38:36.867Z"
   },
   {
    "duration": 157,
    "start_time": "2025-01-06T17:38:37.029Z"
   },
   {
    "duration": 611,
    "start_time": "2025-01-06T17:38:37.188Z"
   },
   {
    "duration": 129,
    "start_time": "2025-01-06T17:38:37.805Z"
   },
   {
    "duration": 7,
    "start_time": "2025-01-06T17:38:37.937Z"
   },
   {
    "duration": 5,
    "start_time": "2025-01-06T17:38:37.946Z"
   },
   {
    "duration": 3,
    "start_time": "2025-01-06T17:38:37.953Z"
   },
   {
    "duration": 15,
    "start_time": "2025-01-06T17:38:37.958Z"
   },
   {
    "duration": 60,
    "start_time": "2025-01-06T17:38:37.974Z"
   },
   {
    "duration": 25,
    "start_time": "2025-01-06T17:38:38.036Z"
   },
   {
    "duration": 4,
    "start_time": "2025-01-06T17:38:38.063Z"
   },
   {
    "duration": 6,
    "start_time": "2025-01-06T17:38:38.069Z"
   },
   {
    "duration": 46942,
    "start_time": "2025-01-06T17:38:38.076Z"
   },
   {
    "duration": 3712,
    "start_time": "2025-01-06T17:39:25.024Z"
   },
   {
    "duration": 88,
    "start_time": "2025-01-06T17:39:28.740Z"
   },
   {
    "duration": 18,
    "start_time": "2025-01-06T17:39:28.836Z"
   },
   {
    "duration": 4094,
    "start_time": "2025-01-06T17:39:28.856Z"
   },
   {
    "duration": 276,
    "start_time": "2025-01-06T17:39:32.952Z"
   },
   {
    "duration": 1033,
    "start_time": "2025-01-06T17:40:27.829Z"
   },
   {
    "duration": 23,
    "start_time": "2025-01-06T17:40:28.864Z"
   },
   {
    "duration": 9,
    "start_time": "2025-01-06T17:40:28.889Z"
   },
   {
    "duration": 16,
    "start_time": "2025-01-06T17:40:28.900Z"
   },
   {
    "duration": 525,
    "start_time": "2025-01-06T17:40:28.924Z"
   },
   {
    "duration": 221,
    "start_time": "2025-01-06T17:40:29.451Z"
   },
   {
    "duration": 5,
    "start_time": "2025-01-06T17:40:29.674Z"
   },
   {
    "duration": 2,
    "start_time": "2025-01-06T17:40:29.682Z"
   },
   {
    "duration": 7,
    "start_time": "2025-01-06T17:40:29.686Z"
   },
   {
    "duration": 37,
    "start_time": "2025-01-06T17:40:29.695Z"
   },
   {
    "duration": 7,
    "start_time": "2025-01-06T17:40:29.734Z"
   },
   {
    "duration": 206,
    "start_time": "2025-01-06T17:40:29.743Z"
   },
   {
    "duration": 6,
    "start_time": "2025-01-06T17:40:29.951Z"
   },
   {
    "duration": 218,
    "start_time": "2025-01-06T17:40:29.961Z"
   },
   {
    "duration": 202,
    "start_time": "2025-01-06T17:40:30.180Z"
   },
   {
    "duration": 164,
    "start_time": "2025-01-06T17:40:30.384Z"
   },
   {
    "duration": 597,
    "start_time": "2025-01-06T17:40:30.550Z"
   },
   {
    "duration": 146,
    "start_time": "2025-01-06T17:40:31.149Z"
   },
   {
    "duration": 8,
    "start_time": "2025-01-06T17:40:31.297Z"
   },
   {
    "duration": 5,
    "start_time": "2025-01-06T17:40:31.306Z"
   },
   {
    "duration": 10,
    "start_time": "2025-01-06T17:40:31.313Z"
   },
   {
    "duration": 86,
    "start_time": "2025-01-06T17:40:31.325Z"
   },
   {
    "duration": 28,
    "start_time": "2025-01-06T17:40:31.413Z"
   },
   {
    "duration": 33,
    "start_time": "2025-01-06T17:40:31.443Z"
   },
   {
    "duration": 5,
    "start_time": "2025-01-06T17:40:31.477Z"
   },
   {
    "duration": 33,
    "start_time": "2025-01-06T17:40:31.483Z"
   },
   {
    "duration": 990,
    "start_time": "2025-01-06T17:43:40.134Z"
   },
   {
    "duration": 27,
    "start_time": "2025-01-06T17:43:41.126Z"
   },
   {
    "duration": 10,
    "start_time": "2025-01-06T17:43:41.154Z"
   },
   {
    "duration": 90,
    "start_time": "2025-01-06T17:43:41.167Z"
   },
   {
    "duration": 474,
    "start_time": "2025-01-06T17:43:41.259Z"
   },
   {
    "duration": 179,
    "start_time": "2025-01-06T17:43:41.734Z"
   },
   {
    "duration": 7,
    "start_time": "2025-01-06T17:43:41.914Z"
   },
   {
    "duration": 5,
    "start_time": "2025-01-06T17:43:41.923Z"
   },
   {
    "duration": 9,
    "start_time": "2025-01-06T17:43:41.930Z"
   },
   {
    "duration": 5,
    "start_time": "2025-01-06T17:43:41.941Z"
   },
   {
    "duration": 7,
    "start_time": "2025-01-06T17:43:41.947Z"
   },
   {
    "duration": 203,
    "start_time": "2025-01-06T17:43:41.955Z"
   },
   {
    "duration": 5,
    "start_time": "2025-01-06T17:43:42.160Z"
   },
   {
    "duration": 205,
    "start_time": "2025-01-06T17:43:42.166Z"
   },
   {
    "duration": 187,
    "start_time": "2025-01-06T17:43:42.373Z"
   },
   {
    "duration": 231,
    "start_time": "2025-01-06T17:43:42.562Z"
   },
   {
    "duration": 682,
    "start_time": "2025-01-06T17:43:42.796Z"
   },
   {
    "duration": 143,
    "start_time": "2025-01-06T17:43:43.481Z"
   },
   {
    "duration": 13,
    "start_time": "2025-01-06T17:43:43.630Z"
   },
   {
    "duration": 8,
    "start_time": "2025-01-06T17:43:43.645Z"
   },
   {
    "duration": 5,
    "start_time": "2025-01-06T17:43:43.655Z"
   },
   {
    "duration": 94,
    "start_time": "2025-01-06T17:43:43.661Z"
   },
   {
    "duration": 36,
    "start_time": "2025-01-06T17:43:43.757Z"
   },
   {
    "duration": 57,
    "start_time": "2025-01-06T17:43:43.796Z"
   },
   {
    "duration": 9,
    "start_time": "2025-01-06T17:43:43.854Z"
   },
   {
    "duration": 11,
    "start_time": "2025-01-06T17:43:43.865Z"
   },
   {
    "duration": 4,
    "start_time": "2025-01-06T17:43:43.878Z"
   },
   {
    "duration": 3,
    "start_time": "2025-01-06T17:43:43.886Z"
   },
   {
    "duration": 5,
    "start_time": "2025-01-06T17:43:43.905Z"
   },
   {
    "duration": 42,
    "start_time": "2025-01-06T17:43:43.911Z"
   },
   {
    "duration": 4487,
    "start_time": "2025-01-06T17:43:43.955Z"
   },
   {
    "duration": 168,
    "start_time": "2025-01-06T17:43:48.445Z"
   },
   {
    "duration": 20885,
    "start_time": "2025-01-06T17:56:52.895Z"
   },
   {
    "duration": 78,
    "start_time": "2025-01-06T17:57:21.736Z"
   },
   {
    "duration": 14519,
    "start_time": "2025-01-06T17:58:22.652Z"
   },
   {
    "duration": 2655,
    "start_time": "2025-01-07T05:21:59.325Z"
   },
   {
    "duration": 33,
    "start_time": "2025-01-07T05:22:01.983Z"
   },
   {
    "duration": 8,
    "start_time": "2025-01-07T05:22:02.017Z"
   },
   {
    "duration": 11,
    "start_time": "2025-01-07T05:22:02.027Z"
   },
   {
    "duration": 452,
    "start_time": "2025-01-07T05:22:02.044Z"
   },
   {
    "duration": 186,
    "start_time": "2025-01-07T05:22:02.498Z"
   },
   {
    "duration": 6,
    "start_time": "2025-01-07T05:22:02.686Z"
   },
   {
    "duration": 2,
    "start_time": "2025-01-07T05:22:02.694Z"
   },
   {
    "duration": 6,
    "start_time": "2025-01-07T05:22:02.698Z"
   },
   {
    "duration": 5,
    "start_time": "2025-01-07T05:22:02.706Z"
   },
   {
    "duration": 33,
    "start_time": "2025-01-07T05:22:02.713Z"
   },
   {
    "duration": 187,
    "start_time": "2025-01-07T05:22:02.748Z"
   },
   {
    "duration": 5,
    "start_time": "2025-01-07T05:22:02.937Z"
   },
   {
    "duration": 168,
    "start_time": "2025-01-07T05:22:02.945Z"
   },
   {
    "duration": 166,
    "start_time": "2025-01-07T05:22:03.115Z"
   },
   {
    "duration": 160,
    "start_time": "2025-01-07T05:22:03.283Z"
   },
   {
    "duration": 537,
    "start_time": "2025-01-07T05:22:03.444Z"
   },
   {
    "duration": 185,
    "start_time": "2025-01-07T05:22:03.983Z"
   },
   {
    "duration": 6,
    "start_time": "2025-01-07T05:22:04.170Z"
   },
   {
    "duration": 5,
    "start_time": "2025-01-07T05:22:04.178Z"
   },
   {
    "duration": 4,
    "start_time": "2025-01-07T05:22:04.185Z"
   },
   {
    "duration": 60,
    "start_time": "2025-01-07T05:22:04.190Z"
   },
   {
    "duration": 23,
    "start_time": "2025-01-07T05:22:04.251Z"
   },
   {
    "duration": 30,
    "start_time": "2025-01-07T05:22:04.275Z"
   },
   {
    "duration": 3,
    "start_time": "2025-01-07T05:22:04.307Z"
   },
   {
    "duration": 5,
    "start_time": "2025-01-07T05:22:04.311Z"
   },
   {
    "duration": 26,
    "start_time": "2025-01-07T05:22:04.318Z"
   },
   {
    "duration": 6347,
    "start_time": "2025-01-07T05:22:04.345Z"
   },
   {
    "duration": 54,
    "start_time": "2025-01-07T05:22:10.694Z"
   },
   {
    "duration": 19,
    "start_time": "2025-01-07T05:22:10.750Z"
   },
   {
    "duration": 786,
    "start_time": "2025-01-07T05:22:10.770Z"
   },
   {
    "duration": 100,
    "start_time": "2025-01-07T05:22:11.559Z"
   },
   {
    "duration": 881,
    "start_time": "2025-01-07T05:33:22.025Z"
   },
   {
    "duration": 22,
    "start_time": "2025-01-07T05:33:22.909Z"
   },
   {
    "duration": 12,
    "start_time": "2025-01-07T05:33:22.932Z"
   },
   {
    "duration": 8,
    "start_time": "2025-01-07T05:33:22.946Z"
   },
   {
    "duration": 532,
    "start_time": "2025-01-07T05:33:22.957Z"
   },
   {
    "duration": 180,
    "start_time": "2025-01-07T05:33:23.491Z"
   },
   {
    "duration": 9,
    "start_time": "2025-01-07T05:33:23.672Z"
   },
   {
    "duration": 2,
    "start_time": "2025-01-07T05:33:23.684Z"
   },
   {
    "duration": 7,
    "start_time": "2025-01-07T05:33:23.688Z"
   },
   {
    "duration": 4,
    "start_time": "2025-01-07T05:33:23.697Z"
   },
   {
    "duration": 9,
    "start_time": "2025-01-07T05:33:23.703Z"
   },
   {
    "duration": 201,
    "start_time": "2025-01-07T05:33:23.714Z"
   },
   {
    "duration": 5,
    "start_time": "2025-01-07T05:33:23.917Z"
   },
   {
    "duration": 185,
    "start_time": "2025-01-07T05:33:23.926Z"
   },
   {
    "duration": 175,
    "start_time": "2025-01-07T05:33:24.113Z"
   },
   {
    "duration": 154,
    "start_time": "2025-01-07T05:33:24.290Z"
   },
   {
    "duration": 569,
    "start_time": "2025-01-07T05:33:24.446Z"
   },
   {
    "duration": 117,
    "start_time": "2025-01-07T05:33:25.018Z"
   },
   {
    "duration": 11,
    "start_time": "2025-01-07T05:33:25.137Z"
   },
   {
    "duration": 7,
    "start_time": "2025-01-07T05:33:25.150Z"
   },
   {
    "duration": 4,
    "start_time": "2025-01-07T05:33:25.158Z"
   },
   {
    "duration": 45,
    "start_time": "2025-01-07T05:33:25.164Z"
   },
   {
    "duration": 51,
    "start_time": "2025-01-07T05:33:25.211Z"
   },
   {
    "duration": 40,
    "start_time": "2025-01-07T05:33:25.264Z"
   },
   {
    "duration": 4,
    "start_time": "2025-01-07T05:33:25.306Z"
   },
   {
    "duration": 7,
    "start_time": "2025-01-07T05:33:25.311Z"
   },
   {
    "duration": 5,
    "start_time": "2025-01-07T05:33:25.342Z"
   },
   {
    "duration": 6384,
    "start_time": "2025-01-07T05:33:25.350Z"
   },
   {
    "duration": 54,
    "start_time": "2025-01-07T05:33:31.736Z"
   },
   {
    "duration": 22,
    "start_time": "2025-01-07T05:33:31.792Z"
   },
   {
    "duration": 46660,
    "start_time": "2025-01-07T05:33:31.816Z"
   },
   {
    "duration": 193,
    "start_time": "2025-01-07T05:34:18.485Z"
   },
   {
    "duration": 963,
    "start_time": "2025-01-07T05:34:42.607Z"
   },
   {
    "duration": 22,
    "start_time": "2025-01-07T05:34:43.573Z"
   },
   {
    "duration": 8,
    "start_time": "2025-01-07T05:34:43.596Z"
   },
   {
    "duration": 7,
    "start_time": "2025-01-07T05:34:43.606Z"
   },
   {
    "duration": 475,
    "start_time": "2025-01-07T05:34:43.616Z"
   },
   {
    "duration": 189,
    "start_time": "2025-01-07T05:34:44.093Z"
   },
   {
    "duration": 6,
    "start_time": "2025-01-07T05:34:44.284Z"
   },
   {
    "duration": 2,
    "start_time": "2025-01-07T05:34:44.292Z"
   },
   {
    "duration": 9,
    "start_time": "2025-01-07T05:34:44.295Z"
   },
   {
    "duration": 5,
    "start_time": "2025-01-07T05:34:44.307Z"
   },
   {
    "duration": 45,
    "start_time": "2025-01-07T05:34:44.313Z"
   },
   {
    "duration": 179,
    "start_time": "2025-01-07T05:34:44.360Z"
   },
   {
    "duration": 10,
    "start_time": "2025-01-07T05:34:44.541Z"
   },
   {
    "duration": 202,
    "start_time": "2025-01-07T05:34:44.554Z"
   },
   {
    "duration": 164,
    "start_time": "2025-01-07T05:34:44.759Z"
   },
   {
    "duration": 170,
    "start_time": "2025-01-07T05:34:44.925Z"
   },
   {
    "duration": 569,
    "start_time": "2025-01-07T05:34:45.097Z"
   },
   {
    "duration": 118,
    "start_time": "2025-01-07T05:34:45.668Z"
   },
   {
    "duration": 6,
    "start_time": "2025-01-07T05:34:45.787Z"
   },
   {
    "duration": 6,
    "start_time": "2025-01-07T05:34:45.795Z"
   },
   {
    "duration": 5,
    "start_time": "2025-01-07T05:34:45.802Z"
   },
   {
    "duration": 58,
    "start_time": "2025-01-07T05:34:45.808Z"
   },
   {
    "duration": 23,
    "start_time": "2025-01-07T05:34:45.867Z"
   },
   {
    "duration": 30,
    "start_time": "2025-01-07T05:34:45.891Z"
   },
   {
    "duration": 19,
    "start_time": "2025-01-07T05:34:45.923Z"
   },
   {
    "duration": 6,
    "start_time": "2025-01-07T05:34:45.945Z"
   },
   {
    "duration": 4,
    "start_time": "2025-01-07T05:34:45.953Z"
   },
   {
    "duration": 6331,
    "start_time": "2025-01-07T05:34:45.959Z"
   },
   {
    "duration": 54,
    "start_time": "2025-01-07T05:34:52.292Z"
   },
   {
    "duration": 18,
    "start_time": "2025-01-07T05:34:52.347Z"
   },
   {
    "duration": 690,
    "start_time": "2025-01-07T05:34:52.367Z"
   },
   {
    "duration": 102,
    "start_time": "2025-01-07T05:34:53.059Z"
   },
   {
    "duration": 930,
    "start_time": "2025-01-07T05:35:40.665Z"
   },
   {
    "duration": 21,
    "start_time": "2025-01-07T05:35:41.597Z"
   },
   {
    "duration": 8,
    "start_time": "2025-01-07T05:35:41.620Z"
   },
   {
    "duration": 18,
    "start_time": "2025-01-07T05:35:41.629Z"
   },
   {
    "duration": 440,
    "start_time": "2025-01-07T05:35:41.650Z"
   },
   {
    "duration": 180,
    "start_time": "2025-01-07T05:35:42.092Z"
   },
   {
    "duration": 6,
    "start_time": "2025-01-07T05:35:42.274Z"
   },
   {
    "duration": 3,
    "start_time": "2025-01-07T05:35:42.282Z"
   },
   {
    "duration": 6,
    "start_time": "2025-01-07T05:35:42.287Z"
   },
   {
    "duration": 5,
    "start_time": "2025-01-07T05:35:42.295Z"
   },
   {
    "duration": 9,
    "start_time": "2025-01-07T05:35:42.301Z"
   },
   {
    "duration": 235,
    "start_time": "2025-01-07T05:35:42.312Z"
   },
   {
    "duration": 5,
    "start_time": "2025-01-07T05:35:42.548Z"
   },
   {
    "duration": 218,
    "start_time": "2025-01-07T05:35:42.557Z"
   },
   {
    "duration": 161,
    "start_time": "2025-01-07T05:35:42.777Z"
   },
   {
    "duration": 218,
    "start_time": "2025-01-07T05:35:42.943Z"
   },
   {
    "duration": 522,
    "start_time": "2025-01-07T05:35:43.163Z"
   },
   {
    "duration": 122,
    "start_time": "2025-01-07T05:35:43.688Z"
   },
   {
    "duration": 6,
    "start_time": "2025-01-07T05:35:43.812Z"
   },
   {
    "duration": 6,
    "start_time": "2025-01-07T05:35:43.820Z"
   },
   {
    "duration": 4,
    "start_time": "2025-01-07T05:35:43.843Z"
   },
   {
    "duration": 35,
    "start_time": "2025-01-07T05:35:43.848Z"
   },
   {
    "duration": 22,
    "start_time": "2025-01-07T05:35:43.885Z"
   },
   {
    "duration": 50,
    "start_time": "2025-01-07T05:35:43.908Z"
   },
   {
    "duration": 4,
    "start_time": "2025-01-07T05:35:43.960Z"
   },
   {
    "duration": 6,
    "start_time": "2025-01-07T05:35:43.965Z"
   },
   {
    "duration": 4,
    "start_time": "2025-01-07T05:35:43.972Z"
   },
   {
    "duration": 6336,
    "start_time": "2025-01-07T05:35:43.978Z"
   },
   {
    "duration": 52,
    "start_time": "2025-01-07T05:35:50.316Z"
   },
   {
    "duration": 17,
    "start_time": "2025-01-07T05:35:50.370Z"
   },
   {
    "duration": 772,
    "start_time": "2025-01-07T05:35:50.388Z"
   },
   {
    "duration": 100,
    "start_time": "2025-01-07T05:35:51.162Z"
   },
   {
    "duration": 867,
    "start_time": "2025-01-07T05:37:17.635Z"
   },
   {
    "duration": 20,
    "start_time": "2025-01-07T05:37:18.504Z"
   },
   {
    "duration": 17,
    "start_time": "2025-01-07T05:37:18.526Z"
   },
   {
    "duration": 50,
    "start_time": "2025-01-07T05:37:18.545Z"
   },
   {
    "duration": 394,
    "start_time": "2025-01-07T05:37:18.597Z"
   },
   {
    "duration": 190,
    "start_time": "2025-01-07T05:37:18.993Z"
   },
   {
    "duration": 6,
    "start_time": "2025-01-07T05:37:19.184Z"
   },
   {
    "duration": 2,
    "start_time": "2025-01-07T05:37:19.192Z"
   },
   {
    "duration": 7,
    "start_time": "2025-01-07T05:37:19.195Z"
   },
   {
    "duration": 4,
    "start_time": "2025-01-07T05:37:19.206Z"
   },
   {
    "duration": 33,
    "start_time": "2025-01-07T05:37:19.211Z"
   },
   {
    "duration": 222,
    "start_time": "2025-01-07T05:37:19.245Z"
   },
   {
    "duration": 6,
    "start_time": "2025-01-07T05:37:19.469Z"
   },
   {
    "duration": 215,
    "start_time": "2025-01-07T05:37:19.476Z"
   },
   {
    "duration": 166,
    "start_time": "2025-01-07T05:37:19.693Z"
   },
   {
    "duration": 211,
    "start_time": "2025-01-07T05:37:19.860Z"
   },
   {
    "duration": 520,
    "start_time": "2025-01-07T05:37:20.073Z"
   },
   {
    "duration": 125,
    "start_time": "2025-01-07T05:37:20.595Z"
   },
   {
    "duration": 5,
    "start_time": "2025-01-07T05:37:20.722Z"
   },
   {
    "duration": 13,
    "start_time": "2025-01-07T05:37:20.729Z"
   },
   {
    "duration": 4,
    "start_time": "2025-01-07T05:37:20.744Z"
   },
   {
    "duration": 34,
    "start_time": "2025-01-07T05:37:20.750Z"
   },
   {
    "duration": 23,
    "start_time": "2025-01-07T05:37:20.786Z"
   },
   {
    "duration": 52,
    "start_time": "2025-01-07T05:37:20.810Z"
   },
   {
    "duration": 4,
    "start_time": "2025-01-07T05:37:20.864Z"
   },
   {
    "duration": 6,
    "start_time": "2025-01-07T05:37:20.871Z"
   },
   {
    "duration": 4,
    "start_time": "2025-01-07T05:37:20.878Z"
   },
   {
    "duration": 6319,
    "start_time": "2025-01-07T05:37:20.886Z"
   },
   {
    "duration": 50,
    "start_time": "2025-01-07T05:37:27.207Z"
   },
   {
    "duration": 17,
    "start_time": "2025-01-07T05:37:27.259Z"
   },
   {
    "duration": 767,
    "start_time": "2025-01-07T05:37:27.277Z"
   },
   {
    "duration": 100,
    "start_time": "2025-01-07T05:37:28.046Z"
   },
   {
    "duration": 215,
    "start_time": "2025-01-07T05:37:57.499Z"
   },
   {
    "duration": 915,
    "start_time": "2025-01-07T05:38:05.974Z"
   },
   {
    "duration": 20,
    "start_time": "2025-01-07T05:38:06.891Z"
   },
   {
    "duration": 7,
    "start_time": "2025-01-07T05:38:06.913Z"
   },
   {
    "duration": 19,
    "start_time": "2025-01-07T05:38:06.923Z"
   },
   {
    "duration": 439,
    "start_time": "2025-01-07T05:38:06.944Z"
   },
   {
    "duration": 178,
    "start_time": "2025-01-07T05:38:07.385Z"
   },
   {
    "duration": 6,
    "start_time": "2025-01-07T05:38:07.565Z"
   },
   {
    "duration": 2,
    "start_time": "2025-01-07T05:38:07.573Z"
   },
   {
    "duration": 6,
    "start_time": "2025-01-07T05:38:07.577Z"
   },
   {
    "duration": 4,
    "start_time": "2025-01-07T05:38:07.586Z"
   },
   {
    "duration": 6,
    "start_time": "2025-01-07T05:38:07.592Z"
   },
   {
    "duration": 235,
    "start_time": "2025-01-07T05:38:07.600Z"
   },
   {
    "duration": 5,
    "start_time": "2025-01-07T05:38:07.837Z"
   },
   {
    "duration": 215,
    "start_time": "2025-01-07T05:38:07.843Z"
   },
   {
    "duration": 165,
    "start_time": "2025-01-07T05:38:08.060Z"
   },
   {
    "duration": 235,
    "start_time": "2025-01-07T05:38:08.227Z"
   },
   {
    "duration": 502,
    "start_time": "2025-01-07T05:38:08.466Z"
   },
   {
    "duration": 114,
    "start_time": "2025-01-07T05:38:08.969Z"
   },
   {
    "duration": 8,
    "start_time": "2025-01-07T05:38:09.084Z"
   },
   {
    "duration": 5,
    "start_time": "2025-01-07T05:38:09.094Z"
   },
   {
    "duration": 4,
    "start_time": "2025-01-07T05:38:09.101Z"
   },
   {
    "duration": 54,
    "start_time": "2025-01-07T05:38:09.107Z"
   },
   {
    "duration": 24,
    "start_time": "2025-01-07T05:38:09.162Z"
   },
   {
    "duration": 30,
    "start_time": "2025-01-07T05:38:09.187Z"
   },
   {
    "duration": 3,
    "start_time": "2025-01-07T05:38:09.219Z"
   },
   {
    "duration": 23,
    "start_time": "2025-01-07T05:38:09.224Z"
   },
   {
    "duration": 3,
    "start_time": "2025-01-07T05:38:09.248Z"
   },
   {
    "duration": 6342,
    "start_time": "2025-01-07T05:38:09.255Z"
   },
   {
    "duration": 49,
    "start_time": "2025-01-07T05:38:15.599Z"
   },
   {
    "duration": 18,
    "start_time": "2025-01-07T05:38:15.649Z"
   },
   {
    "duration": 681,
    "start_time": "2025-01-07T05:38:15.668Z"
   },
   {
    "duration": 97,
    "start_time": "2025-01-07T05:38:16.351Z"
   },
   {
    "duration": 882,
    "start_time": "2025-01-07T05:43:32.016Z"
   },
   {
    "duration": 22,
    "start_time": "2025-01-07T05:43:32.900Z"
   },
   {
    "duration": 9,
    "start_time": "2025-01-07T05:43:32.923Z"
   },
   {
    "duration": 7,
    "start_time": "2025-01-07T05:43:32.942Z"
   },
   {
    "duration": 456,
    "start_time": "2025-01-07T05:43:32.950Z"
   },
   {
    "duration": 178,
    "start_time": "2025-01-07T05:43:33.408Z"
   },
   {
    "duration": 6,
    "start_time": "2025-01-07T05:43:33.587Z"
   },
   {
    "duration": 2,
    "start_time": "2025-01-07T05:43:33.595Z"
   },
   {
    "duration": 6,
    "start_time": "2025-01-07T05:43:33.599Z"
   },
   {
    "duration": 4,
    "start_time": "2025-01-07T05:43:33.608Z"
   },
   {
    "duration": 6,
    "start_time": "2025-01-07T05:43:33.642Z"
   },
   {
    "duration": 210,
    "start_time": "2025-01-07T05:43:33.649Z"
   },
   {
    "duration": 5,
    "start_time": "2025-01-07T05:43:33.861Z"
   },
   {
    "duration": 218,
    "start_time": "2025-01-07T05:43:33.869Z"
   },
   {
    "duration": 175,
    "start_time": "2025-01-07T05:43:34.089Z"
   },
   {
    "duration": 220,
    "start_time": "2025-01-07T05:43:34.265Z"
   },
   {
    "duration": 510,
    "start_time": "2025-01-07T05:43:34.487Z"
   },
   {
    "duration": 118,
    "start_time": "2025-01-07T05:43:34.999Z"
   },
   {
    "duration": 6,
    "start_time": "2025-01-07T05:43:35.119Z"
   },
   {
    "duration": 16,
    "start_time": "2025-01-07T05:43:35.127Z"
   },
   {
    "duration": 4,
    "start_time": "2025-01-07T05:43:35.145Z"
   },
   {
    "duration": 91,
    "start_time": "2025-01-07T05:43:35.151Z"
   },
   {
    "duration": 24,
    "start_time": "2025-01-07T05:43:35.244Z"
   },
   {
    "duration": 33,
    "start_time": "2025-01-07T05:43:35.270Z"
   },
   {
    "duration": 4,
    "start_time": "2025-01-07T05:43:35.306Z"
   },
   {
    "duration": 32,
    "start_time": "2025-01-07T05:43:35.313Z"
   },
   {
    "duration": 4,
    "start_time": "2025-01-07T05:43:35.346Z"
   },
   {
    "duration": 13824,
    "start_time": "2025-01-07T05:43:35.353Z"
   },
   {
    "duration": 48,
    "start_time": "2025-01-07T05:43:49.179Z"
   },
   {
    "duration": 31,
    "start_time": "2025-01-07T05:43:49.228Z"
   },
   {
    "duration": 1305,
    "start_time": "2025-01-07T05:43:49.260Z"
   },
   {
    "duration": 177,
    "start_time": "2025-01-07T05:43:50.567Z"
   },
   {
    "duration": 869,
    "start_time": "2025-01-07T05:52:07.209Z"
   },
   {
    "duration": 21,
    "start_time": "2025-01-07T05:52:08.080Z"
   },
   {
    "duration": 8,
    "start_time": "2025-01-07T05:52:08.103Z"
   },
   {
    "duration": 9,
    "start_time": "2025-01-07T05:52:08.112Z"
   },
   {
    "duration": 453,
    "start_time": "2025-01-07T05:52:08.142Z"
   },
   {
    "duration": 180,
    "start_time": "2025-01-07T05:52:08.598Z"
   },
   {
    "duration": 5,
    "start_time": "2025-01-07T05:52:08.780Z"
   },
   {
    "duration": 3,
    "start_time": "2025-01-07T05:52:08.787Z"
   },
   {
    "duration": 7,
    "start_time": "2025-01-07T05:52:08.791Z"
   },
   {
    "duration": 4,
    "start_time": "2025-01-07T05:52:08.800Z"
   },
   {
    "duration": 7,
    "start_time": "2025-01-07T05:52:08.806Z"
   },
   {
    "duration": 233,
    "start_time": "2025-01-07T05:52:08.814Z"
   },
   {
    "duration": 6,
    "start_time": "2025-01-07T05:52:09.049Z"
   },
   {
    "duration": 230,
    "start_time": "2025-01-07T05:52:09.058Z"
   },
   {
    "duration": 162,
    "start_time": "2025-01-07T05:52:09.290Z"
   },
   {
    "duration": 217,
    "start_time": "2025-01-07T05:52:09.454Z"
   },
   {
    "duration": 496,
    "start_time": "2025-01-07T05:52:09.674Z"
   },
   {
    "duration": 130,
    "start_time": "2025-01-07T05:52:10.171Z"
   },
   {
    "duration": 6,
    "start_time": "2025-01-07T05:52:10.303Z"
   },
   {
    "duration": 5,
    "start_time": "2025-01-07T05:52:10.311Z"
   },
   {
    "duration": 4,
    "start_time": "2025-01-07T05:52:10.318Z"
   },
   {
    "duration": 28,
    "start_time": "2025-01-07T05:52:10.323Z"
   },
   {
    "duration": 17,
    "start_time": "2025-01-07T05:52:10.352Z"
   },
   {
    "duration": 17,
    "start_time": "2025-01-07T05:52:10.370Z"
   },
   {
    "duration": 3,
    "start_time": "2025-01-07T05:52:10.389Z"
   },
   {
    "duration": 5,
    "start_time": "2025-01-07T05:52:10.394Z"
   },
   {
    "duration": 4,
    "start_time": "2025-01-07T05:52:10.401Z"
   },
   {
    "duration": 1049,
    "start_time": "2025-01-07T05:52:10.406Z"
   },
   {
    "duration": 40,
    "start_time": "2025-01-07T05:52:11.457Z"
   },
   {
    "duration": 17,
    "start_time": "2025-01-07T05:52:11.499Z"
   },
   {
    "duration": 142,
    "start_time": "2025-01-07T05:52:11.517Z"
   },
   {
    "duration": 90,
    "start_time": "2025-01-07T05:52:11.661Z"
   },
   {
    "duration": 944,
    "start_time": "2025-01-07T05:52:52.063Z"
   },
   {
    "duration": 24,
    "start_time": "2025-01-07T05:52:53.010Z"
   },
   {
    "duration": 11,
    "start_time": "2025-01-07T05:52:53.037Z"
   },
   {
    "duration": 9,
    "start_time": "2025-01-07T05:52:53.050Z"
   },
   {
    "duration": 448,
    "start_time": "2025-01-07T05:52:53.061Z"
   },
   {
    "duration": 186,
    "start_time": "2025-01-07T05:52:53.511Z"
   },
   {
    "duration": 5,
    "start_time": "2025-01-07T05:52:53.699Z"
   },
   {
    "duration": 3,
    "start_time": "2025-01-07T05:52:53.707Z"
   },
   {
    "duration": 7,
    "start_time": "2025-01-07T05:52:53.711Z"
   },
   {
    "duration": 25,
    "start_time": "2025-01-07T05:52:53.720Z"
   },
   {
    "duration": 6,
    "start_time": "2025-01-07T05:52:53.747Z"
   },
   {
    "duration": 216,
    "start_time": "2025-01-07T05:52:53.756Z"
   },
   {
    "duration": 6,
    "start_time": "2025-01-07T05:52:53.973Z"
   },
   {
    "duration": 212,
    "start_time": "2025-01-07T05:52:53.982Z"
   },
   {
    "duration": 170,
    "start_time": "2025-01-07T05:52:54.196Z"
   },
   {
    "duration": 215,
    "start_time": "2025-01-07T05:52:54.368Z"
   },
   {
    "duration": 497,
    "start_time": "2025-01-07T05:52:54.585Z"
   },
   {
    "duration": 122,
    "start_time": "2025-01-07T05:52:55.084Z"
   },
   {
    "duration": 6,
    "start_time": "2025-01-07T05:52:55.208Z"
   },
   {
    "duration": 5,
    "start_time": "2025-01-07T05:52:55.216Z"
   },
   {
    "duration": 20,
    "start_time": "2025-01-07T05:52:55.223Z"
   },
   {
    "duration": 10,
    "start_time": "2025-01-07T05:52:55.244Z"
   },
   {
    "duration": 16,
    "start_time": "2025-01-07T05:52:55.255Z"
   },
   {
    "duration": 18,
    "start_time": "2025-01-07T05:52:55.272Z"
   },
   {
    "duration": 3,
    "start_time": "2025-01-07T05:52:55.291Z"
   },
   {
    "duration": 4,
    "start_time": "2025-01-07T05:52:55.296Z"
   },
   {
    "duration": 3,
    "start_time": "2025-01-07T05:52:55.302Z"
   },
   {
    "duration": 1017,
    "start_time": "2025-01-07T05:52:55.307Z"
   },
   {
    "duration": 45,
    "start_time": "2025-01-07T05:52:56.325Z"
   },
   {
    "duration": 17,
    "start_time": "2025-01-07T05:52:56.371Z"
   },
   {
    "duration": 169,
    "start_time": "2025-01-07T05:52:56.390Z"
   },
   {
    "duration": 94,
    "start_time": "2025-01-07T05:52:56.560Z"
   },
   {
    "duration": 914,
    "start_time": "2025-01-07T05:59:38.584Z"
   },
   {
    "duration": 26,
    "start_time": "2025-01-07T05:59:39.500Z"
   },
   {
    "duration": 15,
    "start_time": "2025-01-07T05:59:39.528Z"
   },
   {
    "duration": 7,
    "start_time": "2025-01-07T05:59:39.547Z"
   },
   {
    "duration": 440,
    "start_time": "2025-01-07T05:59:39.555Z"
   },
   {
    "duration": 179,
    "start_time": "2025-01-07T05:59:39.997Z"
   },
   {
    "duration": 6,
    "start_time": "2025-01-07T05:59:40.178Z"
   },
   {
    "duration": 2,
    "start_time": "2025-01-07T05:59:40.186Z"
   },
   {
    "duration": 7,
    "start_time": "2025-01-07T05:59:40.190Z"
   },
   {
    "duration": 4,
    "start_time": "2025-01-07T05:59:40.200Z"
   },
   {
    "duration": 7,
    "start_time": "2025-01-07T05:59:40.206Z"
   },
   {
    "duration": 203,
    "start_time": "2025-01-07T05:59:40.244Z"
   },
   {
    "duration": 6,
    "start_time": "2025-01-07T05:59:40.449Z"
   },
   {
    "duration": 235,
    "start_time": "2025-01-07T05:59:40.456Z"
   },
   {
    "duration": 178,
    "start_time": "2025-01-07T05:59:40.695Z"
   },
   {
    "duration": 208,
    "start_time": "2025-01-07T05:59:40.875Z"
   },
   {
    "duration": 494,
    "start_time": "2025-01-07T05:59:41.085Z"
   },
   {
    "duration": 116,
    "start_time": "2025-01-07T05:59:41.581Z"
   },
   {
    "duration": 7,
    "start_time": "2025-01-07T05:59:41.699Z"
   },
   {
    "duration": 6,
    "start_time": "2025-01-07T05:59:41.707Z"
   },
   {
    "duration": 5,
    "start_time": "2025-01-07T05:59:41.714Z"
   },
   {
    "duration": 26,
    "start_time": "2025-01-07T05:59:41.720Z"
   },
   {
    "duration": 17,
    "start_time": "2025-01-07T05:59:41.748Z"
   },
   {
    "duration": 18,
    "start_time": "2025-01-07T05:59:41.766Z"
   },
   {
    "duration": 5,
    "start_time": "2025-01-07T05:59:41.785Z"
   },
   {
    "duration": 4,
    "start_time": "2025-01-07T05:59:41.791Z"
   },
   {
    "duration": 4,
    "start_time": "2025-01-07T05:59:41.797Z"
   },
   {
    "duration": 1025,
    "start_time": "2025-01-07T05:59:41.804Z"
   },
   {
    "duration": 49,
    "start_time": "2025-01-07T05:59:42.832Z"
   },
   {
    "duration": 18,
    "start_time": "2025-01-07T05:59:42.882Z"
   },
   {
    "duration": 243,
    "start_time": "2025-01-07T05:59:42.901Z"
   },
   {
    "duration": 20,
    "start_time": "2025-01-07T05:59:43.145Z"
   },
   {
    "duration": 945,
    "start_time": "2025-01-07T06:04:20.364Z"
   },
   {
    "duration": 21,
    "start_time": "2025-01-07T06:04:21.312Z"
   },
   {
    "duration": 13,
    "start_time": "2025-01-07T06:04:21.335Z"
   },
   {
    "duration": 7,
    "start_time": "2025-01-07T06:04:21.350Z"
   },
   {
    "duration": 437,
    "start_time": "2025-01-07T06:04:21.360Z"
   },
   {
    "duration": 181,
    "start_time": "2025-01-07T06:04:21.799Z"
   },
   {
    "duration": 6,
    "start_time": "2025-01-07T06:04:21.982Z"
   },
   {
    "duration": 2,
    "start_time": "2025-01-07T06:04:21.990Z"
   },
   {
    "duration": 7,
    "start_time": "2025-01-07T06:04:21.993Z"
   },
   {
    "duration": 4,
    "start_time": "2025-01-07T06:04:22.003Z"
   },
   {
    "duration": 6,
    "start_time": "2025-01-07T06:04:22.008Z"
   },
   {
    "duration": 220,
    "start_time": "2025-01-07T06:04:22.043Z"
   },
   {
    "duration": 5,
    "start_time": "2025-01-07T06:04:22.265Z"
   },
   {
    "duration": 205,
    "start_time": "2025-01-07T06:04:22.274Z"
   },
   {
    "duration": 167,
    "start_time": "2025-01-07T06:04:22.481Z"
   },
   {
    "duration": 211,
    "start_time": "2025-01-07T06:04:22.650Z"
   },
   {
    "duration": 514,
    "start_time": "2025-01-07T06:04:22.863Z"
   },
   {
    "duration": 113,
    "start_time": "2025-01-07T06:04:23.380Z"
   },
   {
    "duration": 7,
    "start_time": "2025-01-07T06:04:23.495Z"
   },
   {
    "duration": 5,
    "start_time": "2025-01-07T06:04:23.505Z"
   },
   {
    "duration": 5,
    "start_time": "2025-01-07T06:04:23.512Z"
   },
   {
    "duration": 30,
    "start_time": "2025-01-07T06:04:23.518Z"
   },
   {
    "duration": 17,
    "start_time": "2025-01-07T06:04:23.549Z"
   },
   {
    "duration": 18,
    "start_time": "2025-01-07T06:04:23.567Z"
   },
   {
    "duration": 2,
    "start_time": "2025-01-07T06:04:23.587Z"
   },
   {
    "duration": 5,
    "start_time": "2025-01-07T06:04:23.591Z"
   },
   {
    "duration": 4,
    "start_time": "2025-01-07T06:04:23.597Z"
   },
   {
    "duration": 1103,
    "start_time": "2025-01-07T06:04:23.602Z"
   },
   {
    "duration": 46,
    "start_time": "2025-01-07T06:04:24.707Z"
   },
   {
    "duration": 17,
    "start_time": "2025-01-07T06:04:24.754Z"
   },
   {
    "duration": 89,
    "start_time": "2025-01-07T06:04:24.772Z"
   },
   {
    "duration": 95,
    "start_time": "2025-01-07T06:04:24.864Z"
   },
   {
    "duration": 940,
    "start_time": "2025-01-07T06:05:30.242Z"
   },
   {
    "duration": 22,
    "start_time": "2025-01-07T06:05:31.184Z"
   },
   {
    "duration": 8,
    "start_time": "2025-01-07T06:05:31.207Z"
   },
   {
    "duration": 8,
    "start_time": "2025-01-07T06:05:31.217Z"
   },
   {
    "duration": 444,
    "start_time": "2025-01-07T06:05:31.242Z"
   },
   {
    "duration": 179,
    "start_time": "2025-01-07T06:05:31.688Z"
   },
   {
    "duration": 6,
    "start_time": "2025-01-07T06:05:31.868Z"
   },
   {
    "duration": 2,
    "start_time": "2025-01-07T06:05:31.876Z"
   },
   {
    "duration": 7,
    "start_time": "2025-01-07T06:05:31.880Z"
   },
   {
    "duration": 5,
    "start_time": "2025-01-07T06:05:31.888Z"
   },
   {
    "duration": 7,
    "start_time": "2025-01-07T06:05:31.895Z"
   },
   {
    "duration": 236,
    "start_time": "2025-01-07T06:05:31.904Z"
   },
   {
    "duration": 6,
    "start_time": "2025-01-07T06:05:32.141Z"
   },
   {
    "duration": 226,
    "start_time": "2025-01-07T06:05:32.151Z"
   },
   {
    "duration": 170,
    "start_time": "2025-01-07T06:05:32.379Z"
   },
   {
    "duration": 228,
    "start_time": "2025-01-07T06:05:32.551Z"
   },
   {
    "duration": 515,
    "start_time": "2025-01-07T06:05:32.781Z"
   },
   {
    "duration": 116,
    "start_time": "2025-01-07T06:05:33.298Z"
   },
   {
    "duration": 7,
    "start_time": "2025-01-07T06:05:33.416Z"
   },
   {
    "duration": 20,
    "start_time": "2025-01-07T06:05:33.425Z"
   },
   {
    "duration": 12,
    "start_time": "2025-01-07T06:05:33.446Z"
   },
   {
    "duration": 11,
    "start_time": "2025-01-07T06:05:33.460Z"
   },
   {
    "duration": 16,
    "start_time": "2025-01-07T06:05:33.472Z"
   },
   {
    "duration": 17,
    "start_time": "2025-01-07T06:05:33.490Z"
   },
   {
    "duration": 3,
    "start_time": "2025-01-07T06:05:33.508Z"
   },
   {
    "duration": 5,
    "start_time": "2025-01-07T06:05:33.513Z"
   },
   {
    "duration": 24,
    "start_time": "2025-01-07T06:05:33.520Z"
   },
   {
    "duration": 871,
    "start_time": "2025-01-07T06:05:33.546Z"
   },
   {
    "duration": 50,
    "start_time": "2025-01-07T06:05:34.418Z"
   },
   {
    "duration": 17,
    "start_time": "2025-01-07T06:05:34.469Z"
   },
   {
    "duration": 169,
    "start_time": "2025-01-07T06:05:34.487Z"
   },
   {
    "duration": 93,
    "start_time": "2025-01-07T06:05:34.657Z"
   },
   {
    "duration": 1219,
    "start_time": "2025-01-07T06:06:14.400Z"
   },
   {
    "duration": 62,
    "start_time": "2025-01-07T06:06:17.093Z"
   },
   {
    "duration": 227,
    "start_time": "2025-01-07T06:06:41.334Z"
   },
   {
    "duration": 21,
    "start_time": "2025-01-07T06:06:56.374Z"
   },
   {
    "duration": 78,
    "start_time": "2025-01-07T06:07:02.974Z"
   },
   {
    "duration": 84,
    "start_time": "2025-01-07T06:07:06.959Z"
   },
   {
    "duration": 419,
    "start_time": "2025-01-07T06:07:29.131Z"
   },
   {
    "duration": 18,
    "start_time": "2025-01-07T06:07:33.894Z"
   },
   {
    "duration": 216,
    "start_time": "2025-01-07T06:07:42.428Z"
   },
   {
    "duration": 17,
    "start_time": "2025-01-07T06:07:45.500Z"
   },
   {
    "duration": 871,
    "start_time": "2025-01-07T06:09:59.539Z"
   },
   {
    "duration": 23,
    "start_time": "2025-01-07T06:10:00.412Z"
   },
   {
    "duration": 13,
    "start_time": "2025-01-07T06:10:00.437Z"
   },
   {
    "duration": 9,
    "start_time": "2025-01-07T06:10:00.453Z"
   },
   {
    "duration": 466,
    "start_time": "2025-01-07T06:10:00.463Z"
   },
   {
    "duration": 182,
    "start_time": "2025-01-07T06:10:00.930Z"
   },
   {
    "duration": 6,
    "start_time": "2025-01-07T06:10:01.114Z"
   },
   {
    "duration": 3,
    "start_time": "2025-01-07T06:10:01.122Z"
   },
   {
    "duration": 23,
    "start_time": "2025-01-07T06:10:01.126Z"
   },
   {
    "duration": 5,
    "start_time": "2025-01-07T06:10:01.153Z"
   },
   {
    "duration": 9,
    "start_time": "2025-01-07T06:10:01.160Z"
   },
   {
    "duration": 235,
    "start_time": "2025-01-07T06:10:01.172Z"
   },
   {
    "duration": 5,
    "start_time": "2025-01-07T06:10:01.409Z"
   },
   {
    "duration": 232,
    "start_time": "2025-01-07T06:10:01.416Z"
   },
   {
    "duration": 180,
    "start_time": "2025-01-07T06:10:01.650Z"
   },
   {
    "duration": 232,
    "start_time": "2025-01-07T06:10:01.832Z"
   },
   {
    "duration": 509,
    "start_time": "2025-01-07T06:10:02.066Z"
   },
   {
    "duration": 113,
    "start_time": "2025-01-07T06:10:02.577Z"
   },
   {
    "duration": 7,
    "start_time": "2025-01-07T06:10:02.692Z"
   },
   {
    "duration": 5,
    "start_time": "2025-01-07T06:10:02.701Z"
   },
   {
    "duration": 5,
    "start_time": "2025-01-07T06:10:02.708Z"
   },
   {
    "duration": 34,
    "start_time": "2025-01-07T06:10:02.715Z"
   },
   {
    "duration": 17,
    "start_time": "2025-01-07T06:10:02.751Z"
   },
   {
    "duration": 19,
    "start_time": "2025-01-07T06:10:02.769Z"
   },
   {
    "duration": 3,
    "start_time": "2025-01-07T06:10:02.789Z"
   },
   {
    "duration": 4,
    "start_time": "2025-01-07T06:10:02.794Z"
   },
   {
    "duration": 4,
    "start_time": "2025-01-07T06:10:02.800Z"
   },
   {
    "duration": 1519,
    "start_time": "2025-01-07T06:10:02.807Z"
   },
   {
    "duration": 69,
    "start_time": "2025-01-07T06:10:04.329Z"
   },
   {
    "duration": 17,
    "start_time": "2025-01-07T06:10:04.400Z"
   },
   {
    "duration": 146,
    "start_time": "2025-01-07T06:10:04.419Z"
   },
   {
    "duration": 23,
    "start_time": "2025-01-07T06:10:04.643Z"
   },
   {
    "duration": 898,
    "start_time": "2025-01-07T06:10:27.085Z"
   },
   {
    "duration": 21,
    "start_time": "2025-01-07T06:10:27.985Z"
   },
   {
    "duration": 8,
    "start_time": "2025-01-07T06:10:28.008Z"
   },
   {
    "duration": 7,
    "start_time": "2025-01-07T06:10:28.019Z"
   },
   {
    "duration": 429,
    "start_time": "2025-01-07T06:10:28.043Z"
   },
   {
    "duration": 178,
    "start_time": "2025-01-07T06:10:28.474Z"
   },
   {
    "duration": 6,
    "start_time": "2025-01-07T06:10:28.654Z"
   },
   {
    "duration": 3,
    "start_time": "2025-01-07T06:10:28.661Z"
   },
   {
    "duration": 7,
    "start_time": "2025-01-07T06:10:28.666Z"
   },
   {
    "duration": 4,
    "start_time": "2025-01-07T06:10:28.676Z"
   },
   {
    "duration": 7,
    "start_time": "2025-01-07T06:10:28.682Z"
   },
   {
    "duration": 236,
    "start_time": "2025-01-07T06:10:28.691Z"
   },
   {
    "duration": 5,
    "start_time": "2025-01-07T06:10:28.929Z"
   },
   {
    "duration": 214,
    "start_time": "2025-01-07T06:10:28.935Z"
   },
   {
    "duration": 168,
    "start_time": "2025-01-07T06:10:29.151Z"
   },
   {
    "duration": 218,
    "start_time": "2025-01-07T06:10:29.322Z"
   },
   {
    "duration": 505,
    "start_time": "2025-01-07T06:10:29.542Z"
   },
   {
    "duration": 115,
    "start_time": "2025-01-07T06:10:30.049Z"
   },
   {
    "duration": 6,
    "start_time": "2025-01-07T06:10:30.165Z"
   },
   {
    "duration": 6,
    "start_time": "2025-01-07T06:10:30.173Z"
   },
   {
    "duration": 5,
    "start_time": "2025-01-07T06:10:30.181Z"
   },
   {
    "duration": 11,
    "start_time": "2025-01-07T06:10:30.187Z"
   },
   {
    "duration": 44,
    "start_time": "2025-01-07T06:10:30.199Z"
   },
   {
    "duration": 19,
    "start_time": "2025-01-07T06:10:30.245Z"
   },
   {
    "duration": 4,
    "start_time": "2025-01-07T06:10:30.265Z"
   },
   {
    "duration": 7,
    "start_time": "2025-01-07T06:10:30.271Z"
   },
   {
    "duration": 5,
    "start_time": "2025-01-07T06:10:30.280Z"
   },
   {
    "duration": 1764,
    "start_time": "2025-01-07T06:10:30.290Z"
   },
   {
    "duration": 64,
    "start_time": "2025-01-07T06:10:32.055Z"
   },
   {
    "duration": 26,
    "start_time": "2025-01-07T06:10:32.121Z"
   },
   {
    "duration": 293,
    "start_time": "2025-01-07T06:10:32.149Z"
   },
   {
    "duration": 17,
    "start_time": "2025-01-07T06:10:32.444Z"
   },
   {
    "duration": 1271,
    "start_time": "2025-01-07T06:11:06.440Z"
   },
   {
    "duration": 41,
    "start_time": "2025-01-07T06:11:09.129Z"
   },
   {
    "duration": 1717,
    "start_time": "2025-01-07T06:11:16.769Z"
   },
   {
    "duration": 62,
    "start_time": "2025-01-07T06:11:19.547Z"
   },
   {
    "duration": 941,
    "start_time": "2025-01-07T06:12:58.644Z"
   },
   {
    "duration": 20,
    "start_time": "2025-01-07T06:12:59.587Z"
   },
   {
    "duration": 7,
    "start_time": "2025-01-07T06:12:59.609Z"
   },
   {
    "duration": 22,
    "start_time": "2025-01-07T06:12:59.620Z"
   },
   {
    "duration": 431,
    "start_time": "2025-01-07T06:12:59.644Z"
   },
   {
    "duration": 182,
    "start_time": "2025-01-07T06:13:00.077Z"
   },
   {
    "duration": 6,
    "start_time": "2025-01-07T06:13:00.261Z"
   },
   {
    "duration": 2,
    "start_time": "2025-01-07T06:13:00.269Z"
   },
   {
    "duration": 8,
    "start_time": "2025-01-07T06:13:00.272Z"
   },
   {
    "duration": 4,
    "start_time": "2025-01-07T06:13:00.283Z"
   },
   {
    "duration": 7,
    "start_time": "2025-01-07T06:13:00.288Z"
   },
   {
    "duration": 243,
    "start_time": "2025-01-07T06:13:00.296Z"
   },
   {
    "duration": 5,
    "start_time": "2025-01-07T06:13:00.541Z"
   },
   {
    "duration": 224,
    "start_time": "2025-01-07T06:13:00.548Z"
   },
   {
    "duration": 168,
    "start_time": "2025-01-07T06:13:00.774Z"
   },
   {
    "duration": 220,
    "start_time": "2025-01-07T06:13:00.944Z"
   },
   {
    "duration": 511,
    "start_time": "2025-01-07T06:13:01.166Z"
   },
   {
    "duration": 130,
    "start_time": "2025-01-07T06:13:01.679Z"
   },
   {
    "duration": 8,
    "start_time": "2025-01-07T06:13:01.811Z"
   },
   {
    "duration": 6,
    "start_time": "2025-01-07T06:13:01.821Z"
   },
   {
    "duration": 18,
    "start_time": "2025-01-07T06:13:01.829Z"
   },
   {
    "duration": 12,
    "start_time": "2025-01-07T06:13:01.849Z"
   },
   {
    "duration": 18,
    "start_time": "2025-01-07T06:13:01.863Z"
   },
   {
    "duration": 19,
    "start_time": "2025-01-07T06:13:01.883Z"
   },
   {
    "duration": 3,
    "start_time": "2025-01-07T06:13:01.904Z"
   },
   {
    "duration": 38,
    "start_time": "2025-01-07T06:13:01.909Z"
   },
   {
    "duration": 4,
    "start_time": "2025-01-07T06:13:01.948Z"
   },
   {
    "duration": 1499,
    "start_time": "2025-01-07T06:13:01.957Z"
   },
   {
    "duration": 64,
    "start_time": "2025-01-07T06:13:03.458Z"
   },
   {
    "duration": 31,
    "start_time": "2025-01-07T06:13:03.524Z"
   },
   {
    "duration": 195,
    "start_time": "2025-01-07T06:13:03.557Z"
   },
   {
    "duration": 92,
    "start_time": "2025-01-07T06:13:03.753Z"
   },
   {
    "duration": 935,
    "start_time": "2025-01-07T06:13:35.070Z"
   },
   {
    "duration": 21,
    "start_time": "2025-01-07T06:13:36.008Z"
   },
   {
    "duration": 13,
    "start_time": "2025-01-07T06:13:36.030Z"
   },
   {
    "duration": 8,
    "start_time": "2025-01-07T06:13:36.046Z"
   },
   {
    "duration": 440,
    "start_time": "2025-01-07T06:13:36.055Z"
   },
   {
    "duration": 182,
    "start_time": "2025-01-07T06:13:36.498Z"
   },
   {
    "duration": 5,
    "start_time": "2025-01-07T06:13:36.682Z"
   },
   {
    "duration": 3,
    "start_time": "2025-01-07T06:13:36.689Z"
   },
   {
    "duration": 7,
    "start_time": "2025-01-07T06:13:36.693Z"
   },
   {
    "duration": 4,
    "start_time": "2025-01-07T06:13:36.703Z"
   },
   {
    "duration": 7,
    "start_time": "2025-01-07T06:13:36.708Z"
   },
   {
    "duration": 247,
    "start_time": "2025-01-07T06:13:36.716Z"
   },
   {
    "duration": 5,
    "start_time": "2025-01-07T06:13:36.965Z"
   },
   {
    "duration": 209,
    "start_time": "2025-01-07T06:13:36.972Z"
   },
   {
    "duration": 170,
    "start_time": "2025-01-07T06:13:37.183Z"
   },
   {
    "duration": 212,
    "start_time": "2025-01-07T06:13:37.354Z"
   },
   {
    "duration": 495,
    "start_time": "2025-01-07T06:13:37.568Z"
   },
   {
    "duration": 121,
    "start_time": "2025-01-07T06:13:38.065Z"
   },
   {
    "duration": 6,
    "start_time": "2025-01-07T06:13:38.188Z"
   },
   {
    "duration": 5,
    "start_time": "2025-01-07T06:13:38.196Z"
   },
   {
    "duration": 5,
    "start_time": "2025-01-07T06:13:38.203Z"
   },
   {
    "duration": 35,
    "start_time": "2025-01-07T06:13:38.210Z"
   },
   {
    "duration": 18,
    "start_time": "2025-01-07T06:13:38.246Z"
   },
   {
    "duration": 17,
    "start_time": "2025-01-07T06:13:38.266Z"
   },
   {
    "duration": 3,
    "start_time": "2025-01-07T06:13:38.284Z"
   },
   {
    "duration": 4,
    "start_time": "2025-01-07T06:13:38.289Z"
   },
   {
    "duration": 4,
    "start_time": "2025-01-07T06:13:38.296Z"
   },
   {
    "duration": 1511,
    "start_time": "2025-01-07T06:13:38.304Z"
   },
   {
    "duration": 72,
    "start_time": "2025-01-07T06:13:39.816Z"
   },
   {
    "duration": 19,
    "start_time": "2025-01-07T06:13:39.890Z"
   },
   {
    "duration": 238,
    "start_time": "2025-01-07T06:13:39.911Z"
   },
   {
    "duration": 89,
    "start_time": "2025-01-07T06:13:40.153Z"
   },
   {
    "duration": 937,
    "start_time": "2025-01-07T06:14:17.749Z"
   },
   {
    "duration": 21,
    "start_time": "2025-01-07T06:14:18.688Z"
   },
   {
    "duration": 8,
    "start_time": "2025-01-07T06:14:18.710Z"
   },
   {
    "duration": 24,
    "start_time": "2025-01-07T06:14:18.720Z"
   },
   {
    "duration": 438,
    "start_time": "2025-01-07T06:14:18.746Z"
   },
   {
    "duration": 186,
    "start_time": "2025-01-07T06:14:19.185Z"
   },
   {
    "duration": 5,
    "start_time": "2025-01-07T06:14:19.373Z"
   },
   {
    "duration": 2,
    "start_time": "2025-01-07T06:14:19.380Z"
   },
   {
    "duration": 6,
    "start_time": "2025-01-07T06:14:19.384Z"
   },
   {
    "duration": 5,
    "start_time": "2025-01-07T06:14:19.392Z"
   },
   {
    "duration": 6,
    "start_time": "2025-01-07T06:14:19.399Z"
   },
   {
    "duration": 240,
    "start_time": "2025-01-07T06:14:19.407Z"
   },
   {
    "duration": 5,
    "start_time": "2025-01-07T06:14:19.650Z"
   },
   {
    "duration": 221,
    "start_time": "2025-01-07T06:14:19.658Z"
   },
   {
    "duration": 169,
    "start_time": "2025-01-07T06:14:19.881Z"
   },
   {
    "duration": 214,
    "start_time": "2025-01-07T06:14:20.052Z"
   },
   {
    "duration": 531,
    "start_time": "2025-01-07T06:14:20.268Z"
   },
   {
    "duration": 118,
    "start_time": "2025-01-07T06:14:20.801Z"
   },
   {
    "duration": 7,
    "start_time": "2025-01-07T06:14:20.920Z"
   },
   {
    "duration": 19,
    "start_time": "2025-01-07T06:14:20.929Z"
   },
   {
    "duration": 6,
    "start_time": "2025-01-07T06:14:20.950Z"
   },
   {
    "duration": 13,
    "start_time": "2025-01-07T06:14:20.958Z"
   },
   {
    "duration": 20,
    "start_time": "2025-01-07T06:14:20.972Z"
   },
   {
    "duration": 18,
    "start_time": "2025-01-07T06:14:20.994Z"
   },
   {
    "duration": 29,
    "start_time": "2025-01-07T06:14:21.014Z"
   },
   {
    "duration": 5,
    "start_time": "2025-01-07T06:14:21.047Z"
   },
   {
    "duration": 4,
    "start_time": "2025-01-07T06:14:21.053Z"
   },
   {
    "duration": 1490,
    "start_time": "2025-01-07T06:14:21.060Z"
   },
   {
    "duration": 67,
    "start_time": "2025-01-07T06:14:22.552Z"
   },
   {
    "duration": 30,
    "start_time": "2025-01-07T06:14:22.621Z"
   },
   {
    "duration": 199,
    "start_time": "2025-01-07T06:14:22.652Z"
   },
   {
    "duration": 90,
    "start_time": "2025-01-07T06:14:22.854Z"
   },
   {
    "duration": 896,
    "start_time": "2025-01-07T06:15:17.806Z"
   },
   {
    "duration": 23,
    "start_time": "2025-01-07T06:15:18.705Z"
   },
   {
    "duration": 16,
    "start_time": "2025-01-07T06:15:18.729Z"
   },
   {
    "duration": 8,
    "start_time": "2025-01-07T06:15:18.746Z"
   },
   {
    "duration": 446,
    "start_time": "2025-01-07T06:15:18.757Z"
   },
   {
    "duration": 178,
    "start_time": "2025-01-07T06:15:19.205Z"
   },
   {
    "duration": 6,
    "start_time": "2025-01-07T06:15:19.385Z"
   },
   {
    "duration": 2,
    "start_time": "2025-01-07T06:15:19.393Z"
   },
   {
    "duration": 7,
    "start_time": "2025-01-07T06:15:19.397Z"
   },
   {
    "duration": 5,
    "start_time": "2025-01-07T06:15:19.406Z"
   },
   {
    "duration": 35,
    "start_time": "2025-01-07T06:15:19.412Z"
   },
   {
    "duration": 222,
    "start_time": "2025-01-07T06:15:19.449Z"
   },
   {
    "duration": 5,
    "start_time": "2025-01-07T06:15:19.674Z"
   },
   {
    "duration": 212,
    "start_time": "2025-01-07T06:15:19.682Z"
   },
   {
    "duration": 158,
    "start_time": "2025-01-07T06:15:19.895Z"
   },
   {
    "duration": 210,
    "start_time": "2025-01-07T06:15:20.055Z"
   },
   {
    "duration": 522,
    "start_time": "2025-01-07T06:15:20.268Z"
   },
   {
    "duration": 120,
    "start_time": "2025-01-07T06:15:20.791Z"
   },
   {
    "duration": 6,
    "start_time": "2025-01-07T06:15:20.913Z"
   },
   {
    "duration": 5,
    "start_time": "2025-01-07T06:15:20.921Z"
   },
   {
    "duration": 5,
    "start_time": "2025-01-07T06:15:20.943Z"
   },
   {
    "duration": 12,
    "start_time": "2025-01-07T06:15:20.950Z"
   },
   {
    "duration": 18,
    "start_time": "2025-01-07T06:15:20.963Z"
   },
   {
    "duration": 18,
    "start_time": "2025-01-07T06:15:20.983Z"
   },
   {
    "duration": 3,
    "start_time": "2025-01-07T06:15:21.003Z"
   },
   {
    "duration": 36,
    "start_time": "2025-01-07T06:15:21.007Z"
   },
   {
    "duration": 6,
    "start_time": "2025-01-07T06:15:21.044Z"
   },
   {
    "duration": 1734,
    "start_time": "2025-01-07T06:15:21.053Z"
   },
   {
    "duration": 62,
    "start_time": "2025-01-07T06:15:22.789Z"
   },
   {
    "duration": 19,
    "start_time": "2025-01-07T06:15:22.853Z"
   },
   {
    "duration": 274,
    "start_time": "2025-01-07T06:15:22.875Z"
   },
   {
    "duration": 96,
    "start_time": "2025-01-07T06:15:23.152Z"
   },
   {
    "duration": 118,
    "start_time": "2025-01-07T06:15:57.048Z"
   },
   {
    "duration": 19,
    "start_time": "2025-01-07T06:16:00.072Z"
   },
   {
    "duration": 166,
    "start_time": "2025-01-07T06:16:06.676Z"
   },
   {
    "duration": 20,
    "start_time": "2025-01-07T06:16:08.313Z"
   },
   {
    "duration": 180,
    "start_time": "2025-01-07T06:16:16.368Z"
   },
   {
    "duration": 24,
    "start_time": "2025-01-07T06:16:17.106Z"
   },
   {
    "duration": 154,
    "start_time": "2025-01-07T06:16:26.697Z"
   },
   {
    "duration": 19,
    "start_time": "2025-01-07T06:16:27.827Z"
   },
   {
    "duration": 132,
    "start_time": "2025-01-07T06:16:33.128Z"
   },
   {
    "duration": 21,
    "start_time": "2025-01-07T06:16:33.942Z"
   },
   {
    "duration": 190,
    "start_time": "2025-01-07T06:16:39.459Z"
   },
   {
    "duration": 20,
    "start_time": "2025-01-07T06:16:40.727Z"
   },
   {
    "duration": 23326,
    "start_time": "2025-01-07T06:18:10.858Z"
   },
   {
    "duration": 914,
    "start_time": "2025-01-07T06:20:51.246Z"
   },
   {
    "duration": 21,
    "start_time": "2025-01-07T06:20:52.163Z"
   },
   {
    "duration": 7,
    "start_time": "2025-01-07T06:20:52.186Z"
   },
   {
    "duration": 8,
    "start_time": "2025-01-07T06:20:52.195Z"
   },
   {
    "duration": 443,
    "start_time": "2025-01-07T06:20:52.205Z"
   },
   {
    "duration": 179,
    "start_time": "2025-01-07T06:20:52.650Z"
   },
   {
    "duration": 12,
    "start_time": "2025-01-07T06:20:52.830Z"
   },
   {
    "duration": 3,
    "start_time": "2025-01-07T06:20:52.844Z"
   },
   {
    "duration": 7,
    "start_time": "2025-01-07T06:20:52.848Z"
   },
   {
    "duration": 5,
    "start_time": "2025-01-07T06:20:52.857Z"
   },
   {
    "duration": 7,
    "start_time": "2025-01-07T06:20:52.863Z"
   },
   {
    "duration": 247,
    "start_time": "2025-01-07T06:20:52.872Z"
   },
   {
    "duration": 5,
    "start_time": "2025-01-07T06:20:53.121Z"
   },
   {
    "duration": 212,
    "start_time": "2025-01-07T06:20:53.130Z"
   },
   {
    "duration": 161,
    "start_time": "2025-01-07T06:20:53.344Z"
   },
   {
    "duration": 206,
    "start_time": "2025-01-07T06:20:53.507Z"
   },
   {
    "duration": 513,
    "start_time": "2025-01-07T06:20:53.715Z"
   },
   {
    "duration": 122,
    "start_time": "2025-01-07T06:20:54.230Z"
   },
   {
    "duration": 6,
    "start_time": "2025-01-07T06:20:54.354Z"
   },
   {
    "duration": 6,
    "start_time": "2025-01-07T06:20:54.362Z"
   },
   {
    "duration": 4,
    "start_time": "2025-01-07T06:20:54.371Z"
   },
   {
    "duration": 12,
    "start_time": "2025-01-07T06:20:54.376Z"
   },
   {
    "duration": 20,
    "start_time": "2025-01-07T06:20:54.389Z"
   },
   {
    "duration": 53,
    "start_time": "2025-01-07T06:20:54.411Z"
   },
   {
    "duration": 3,
    "start_time": "2025-01-07T06:20:54.465Z"
   },
   {
    "duration": 5,
    "start_time": "2025-01-07T06:20:54.470Z"
   },
   {
    "duration": 26149,
    "start_time": "2025-01-07T06:20:54.476Z"
   },
   {
    "duration": 2005,
    "start_time": "2025-01-07T06:21:20.627Z"
   },
   {
    "duration": 77,
    "start_time": "2025-01-07T06:21:22.634Z"
   },
   {
    "duration": 18,
    "start_time": "2025-01-07T06:21:22.712Z"
   },
   {
    "duration": 231,
    "start_time": "2025-01-07T06:21:22.731Z"
   },
   {
    "duration": 90,
    "start_time": "2025-01-07T06:21:22.963Z"
   },
   {
    "duration": 907,
    "start_time": "2025-01-07T06:22:48.687Z"
   },
   {
    "duration": 20,
    "start_time": "2025-01-07T06:22:49.596Z"
   },
   {
    "duration": 7,
    "start_time": "2025-01-07T06:22:49.618Z"
   },
   {
    "duration": 19,
    "start_time": "2025-01-07T06:22:49.628Z"
   },
   {
    "duration": 434,
    "start_time": "2025-01-07T06:22:49.649Z"
   },
   {
    "duration": 178,
    "start_time": "2025-01-07T06:22:50.084Z"
   },
   {
    "duration": 5,
    "start_time": "2025-01-07T06:22:50.264Z"
   },
   {
    "duration": 3,
    "start_time": "2025-01-07T06:22:50.271Z"
   },
   {
    "duration": 6,
    "start_time": "2025-01-07T06:22:50.276Z"
   },
   {
    "duration": 5,
    "start_time": "2025-01-07T06:22:50.286Z"
   },
   {
    "duration": 7,
    "start_time": "2025-01-07T06:22:50.292Z"
   },
   {
    "duration": 250,
    "start_time": "2025-01-07T06:22:50.301Z"
   },
   {
    "duration": 5,
    "start_time": "2025-01-07T06:22:50.553Z"
   },
   {
    "duration": 219,
    "start_time": "2025-01-07T06:22:50.560Z"
   },
   {
    "duration": 170,
    "start_time": "2025-01-07T06:22:50.781Z"
   },
   {
    "duration": 221,
    "start_time": "2025-01-07T06:22:50.952Z"
   },
   {
    "duration": 493,
    "start_time": "2025-01-07T06:22:51.175Z"
   },
   {
    "duration": 109,
    "start_time": "2025-01-07T06:22:51.670Z"
   },
   {
    "duration": 6,
    "start_time": "2025-01-07T06:22:51.781Z"
   },
   {
    "duration": 6,
    "start_time": "2025-01-07T06:22:51.788Z"
   },
   {
    "duration": 5,
    "start_time": "2025-01-07T06:22:51.796Z"
   },
   {
    "duration": 14,
    "start_time": "2025-01-07T06:22:51.802Z"
   },
   {
    "duration": 21,
    "start_time": "2025-01-07T06:22:51.843Z"
   },
   {
    "duration": 23,
    "start_time": "2025-01-07T06:22:51.866Z"
   },
   {
    "duration": 3,
    "start_time": "2025-01-07T06:22:51.891Z"
   },
   {
    "duration": 5,
    "start_time": "2025-01-07T06:22:51.895Z"
   },
   {
    "duration": 33236,
    "start_time": "2025-01-07T06:22:51.902Z"
   },
   {
    "duration": 2470,
    "start_time": "2025-01-07T06:23:25.144Z"
   },
   {
    "duration": 74,
    "start_time": "2025-01-07T06:23:27.615Z"
   },
   {
    "duration": 22,
    "start_time": "2025-01-07T06:23:27.690Z"
   },
   {
    "duration": 243,
    "start_time": "2025-01-07T06:23:27.714Z"
   },
   {
    "duration": 91,
    "start_time": "2025-01-07T06:23:27.960Z"
   },
   {
    "duration": 940,
    "start_time": "2025-01-07T06:23:50.557Z"
   },
   {
    "duration": 20,
    "start_time": "2025-01-07T06:23:51.500Z"
   },
   {
    "duration": 8,
    "start_time": "2025-01-07T06:23:51.522Z"
   },
   {
    "duration": 17,
    "start_time": "2025-01-07T06:23:51.531Z"
   },
   {
    "duration": 433,
    "start_time": "2025-01-07T06:23:51.550Z"
   },
   {
    "duration": 182,
    "start_time": "2025-01-07T06:23:51.985Z"
   },
   {
    "duration": 5,
    "start_time": "2025-01-07T06:23:52.169Z"
   },
   {
    "duration": 2,
    "start_time": "2025-01-07T06:23:52.176Z"
   },
   {
    "duration": 6,
    "start_time": "2025-01-07T06:23:52.180Z"
   },
   {
    "duration": 5,
    "start_time": "2025-01-07T06:23:52.188Z"
   },
   {
    "duration": 6,
    "start_time": "2025-01-07T06:23:52.195Z"
   },
   {
    "duration": 235,
    "start_time": "2025-01-07T06:23:52.202Z"
   },
   {
    "duration": 6,
    "start_time": "2025-01-07T06:23:52.439Z"
   },
   {
    "duration": 229,
    "start_time": "2025-01-07T06:23:52.449Z"
   },
   {
    "duration": 165,
    "start_time": "2025-01-07T06:23:52.680Z"
   },
   {
    "duration": 213,
    "start_time": "2025-01-07T06:23:52.848Z"
   },
   {
    "duration": 511,
    "start_time": "2025-01-07T06:23:53.063Z"
   },
   {
    "duration": 121,
    "start_time": "2025-01-07T06:23:53.576Z"
   },
   {
    "duration": 6,
    "start_time": "2025-01-07T06:23:53.698Z"
   },
   {
    "duration": 6,
    "start_time": "2025-01-07T06:23:53.706Z"
   },
   {
    "duration": 6,
    "start_time": "2025-01-07T06:23:53.714Z"
   },
   {
    "duration": 33,
    "start_time": "2025-01-07T06:23:53.722Z"
   },
   {
    "duration": 22,
    "start_time": "2025-01-07T06:23:53.756Z"
   },
   {
    "duration": 24,
    "start_time": "2025-01-07T06:23:53.780Z"
   },
   {
    "duration": 3,
    "start_time": "2025-01-07T06:23:53.806Z"
   },
   {
    "duration": 32,
    "start_time": "2025-01-07T06:23:53.811Z"
   },
   {
    "duration": 33343,
    "start_time": "2025-01-07T06:23:53.845Z"
   },
   {
    "duration": 2487,
    "start_time": "2025-01-07T06:24:27.189Z"
   },
   {
    "duration": 65,
    "start_time": "2025-01-07T06:24:29.678Z"
   },
   {
    "duration": 24,
    "start_time": "2025-01-07T06:24:29.744Z"
   },
   {
    "duration": 191,
    "start_time": "2025-01-07T06:24:29.770Z"
   },
   {
    "duration": 90,
    "start_time": "2025-01-07T06:24:29.963Z"
   },
   {
    "duration": 870,
    "start_time": "2025-01-07T06:24:46.238Z"
   },
   {
    "duration": 20,
    "start_time": "2025-01-07T06:24:47.110Z"
   },
   {
    "duration": 13,
    "start_time": "2025-01-07T06:24:47.132Z"
   },
   {
    "duration": 9,
    "start_time": "2025-01-07T06:24:47.146Z"
   },
   {
    "duration": 448,
    "start_time": "2025-01-07T06:24:47.157Z"
   },
   {
    "duration": 181,
    "start_time": "2025-01-07T06:24:47.607Z"
   },
   {
    "duration": 6,
    "start_time": "2025-01-07T06:24:47.790Z"
   },
   {
    "duration": 3,
    "start_time": "2025-01-07T06:24:47.797Z"
   },
   {
    "duration": 7,
    "start_time": "2025-01-07T06:24:47.802Z"
   },
   {
    "duration": 5,
    "start_time": "2025-01-07T06:24:47.811Z"
   },
   {
    "duration": 30,
    "start_time": "2025-01-07T06:24:47.817Z"
   },
   {
    "duration": 214,
    "start_time": "2025-01-07T06:24:47.849Z"
   },
   {
    "duration": 5,
    "start_time": "2025-01-07T06:24:48.065Z"
   },
   {
    "duration": 214,
    "start_time": "2025-01-07T06:24:48.073Z"
   },
   {
    "duration": 164,
    "start_time": "2025-01-07T06:24:48.289Z"
   },
   {
    "duration": 210,
    "start_time": "2025-01-07T06:24:48.455Z"
   },
   {
    "duration": 526,
    "start_time": "2025-01-07T06:24:48.667Z"
   },
   {
    "duration": 117,
    "start_time": "2025-01-07T06:24:49.195Z"
   },
   {
    "duration": 7,
    "start_time": "2025-01-07T06:24:49.314Z"
   },
   {
    "duration": 8,
    "start_time": "2025-01-07T06:24:49.322Z"
   },
   {
    "duration": 5,
    "start_time": "2025-01-07T06:24:49.344Z"
   },
   {
    "duration": 14,
    "start_time": "2025-01-07T06:24:49.351Z"
   },
   {
    "duration": 21,
    "start_time": "2025-01-07T06:24:49.366Z"
   },
   {
    "duration": 22,
    "start_time": "2025-01-07T06:24:49.389Z"
   },
   {
    "duration": 31,
    "start_time": "2025-01-07T06:24:49.413Z"
   },
   {
    "duration": 6,
    "start_time": "2025-01-07T06:24:49.445Z"
   },
   {
    "duration": 36668,
    "start_time": "2025-01-07T06:24:49.452Z"
   },
   {
    "duration": 2721,
    "start_time": "2025-01-07T06:25:26.122Z"
   },
   {
    "duration": 63,
    "start_time": "2025-01-07T06:25:28.845Z"
   },
   {
    "duration": 18,
    "start_time": "2025-01-07T06:25:28.909Z"
   },
   {
    "duration": 235,
    "start_time": "2025-01-07T06:25:28.929Z"
   },
   {
    "duration": 88,
    "start_time": "2025-01-07T06:25:29.165Z"
   },
   {
    "duration": 886,
    "start_time": "2025-01-07T06:31:01.521Z"
   },
   {
    "duration": 22,
    "start_time": "2025-01-07T06:31:02.409Z"
   },
   {
    "duration": 10,
    "start_time": "2025-01-07T06:31:02.433Z"
   },
   {
    "duration": 7,
    "start_time": "2025-01-07T06:31:02.445Z"
   },
   {
    "duration": 410,
    "start_time": "2025-01-07T06:31:02.501Z"
   },
   {
    "duration": 181,
    "start_time": "2025-01-07T06:31:02.913Z"
   },
   {
    "duration": 5,
    "start_time": "2025-01-07T06:31:03.097Z"
   },
   {
    "duration": 3,
    "start_time": "2025-01-07T06:31:03.104Z"
   },
   {
    "duration": 11,
    "start_time": "2025-01-07T06:31:03.109Z"
   },
   {
    "duration": 5,
    "start_time": "2025-01-07T06:31:03.122Z"
   },
   {
    "duration": 7,
    "start_time": "2025-01-07T06:31:03.143Z"
   },
   {
    "duration": 216,
    "start_time": "2025-01-07T06:31:03.151Z"
   },
   {
    "duration": 5,
    "start_time": "2025-01-07T06:31:03.369Z"
   },
   {
    "duration": 208,
    "start_time": "2025-01-07T06:31:03.378Z"
   },
   {
    "duration": 175,
    "start_time": "2025-01-07T06:31:03.588Z"
   },
   {
    "duration": 220,
    "start_time": "2025-01-07T06:31:03.765Z"
   },
   {
    "duration": 489,
    "start_time": "2025-01-07T06:31:03.987Z"
   },
   {
    "duration": 116,
    "start_time": "2025-01-07T06:31:04.479Z"
   },
   {
    "duration": 6,
    "start_time": "2025-01-07T06:31:04.596Z"
   },
   {
    "duration": 5,
    "start_time": "2025-01-07T06:31:04.604Z"
   },
   {
    "duration": 4,
    "start_time": "2025-01-07T06:31:04.610Z"
   },
   {
    "duration": 34,
    "start_time": "2025-01-07T06:31:04.616Z"
   },
   {
    "duration": 22,
    "start_time": "2025-01-07T06:31:04.652Z"
   },
   {
    "duration": 23,
    "start_time": "2025-01-07T06:31:04.676Z"
   },
   {
    "duration": 3,
    "start_time": "2025-01-07T06:31:04.700Z"
   },
   {
    "duration": 4,
    "start_time": "2025-01-07T06:31:04.705Z"
   },
   {
    "duration": 29787,
    "start_time": "2025-01-07T06:31:04.711Z"
   },
   {
    "duration": 2237,
    "start_time": "2025-01-07T06:31:34.500Z"
   },
   {
    "duration": 63,
    "start_time": "2025-01-07T06:31:36.739Z"
   },
   {
    "duration": 18,
    "start_time": "2025-01-07T06:31:36.804Z"
   },
   {
    "duration": 242,
    "start_time": "2025-01-07T06:31:36.823Z"
   },
   {
    "duration": 91,
    "start_time": "2025-01-07T06:31:37.066Z"
   },
   {
    "duration": 1760,
    "start_time": "2025-01-07T06:31:52.727Z"
   },
   {
    "duration": 54,
    "start_time": "2025-01-07T06:31:54.489Z"
   },
   {
    "duration": 2233,
    "start_time": "2025-01-07T06:32:01.548Z"
   },
   {
    "duration": 61,
    "start_time": "2025-01-07T06:32:04.472Z"
   },
   {
    "duration": 951,
    "start_time": "2025-01-07T06:35:01.159Z"
   },
   {
    "duration": 21,
    "start_time": "2025-01-07T06:35:02.112Z"
   },
   {
    "duration": 12,
    "start_time": "2025-01-07T06:35:02.135Z"
   },
   {
    "duration": 8,
    "start_time": "2025-01-07T06:35:02.149Z"
   },
   {
    "duration": 461,
    "start_time": "2025-01-07T06:35:02.159Z"
   },
   {
    "duration": 187,
    "start_time": "2025-01-07T06:35:02.622Z"
   },
   {
    "duration": 6,
    "start_time": "2025-01-07T06:35:02.813Z"
   },
   {
    "duration": 3,
    "start_time": "2025-01-07T06:35:02.820Z"
   },
   {
    "duration": 23,
    "start_time": "2025-01-07T06:35:02.824Z"
   },
   {
    "duration": 5,
    "start_time": "2025-01-07T06:35:02.849Z"
   },
   {
    "duration": 6,
    "start_time": "2025-01-07T06:35:02.856Z"
   },
   {
    "duration": 232,
    "start_time": "2025-01-07T06:35:02.864Z"
   },
   {
    "duration": 6,
    "start_time": "2025-01-07T06:35:03.098Z"
   },
   {
    "duration": 216,
    "start_time": "2025-01-07T06:35:03.108Z"
   },
   {
    "duration": 164,
    "start_time": "2025-01-07T06:35:03.326Z"
   },
   {
    "duration": 207,
    "start_time": "2025-01-07T06:35:03.491Z"
   },
   {
    "duration": 485,
    "start_time": "2025-01-07T06:35:03.700Z"
   },
   {
    "duration": 127,
    "start_time": "2025-01-07T06:35:04.187Z"
   },
   {
    "duration": 8,
    "start_time": "2025-01-07T06:35:04.316Z"
   },
   {
    "duration": 6,
    "start_time": "2025-01-07T06:35:04.325Z"
   },
   {
    "duration": 4,
    "start_time": "2025-01-07T06:35:04.343Z"
   },
   {
    "duration": 12,
    "start_time": "2025-01-07T06:35:04.349Z"
   },
   {
    "duration": 23,
    "start_time": "2025-01-07T06:35:04.362Z"
   },
   {
    "duration": 24,
    "start_time": "2025-01-07T06:35:04.386Z"
   },
   {
    "duration": 3,
    "start_time": "2025-01-07T06:35:04.412Z"
   },
   {
    "duration": 5,
    "start_time": "2025-01-07T06:35:04.442Z"
   },
   {
    "duration": 29684,
    "start_time": "2025-01-07T06:35:04.450Z"
   },
   {
    "duration": 2231,
    "start_time": "2025-01-07T06:35:34.136Z"
   },
   {
    "duration": 73,
    "start_time": "2025-01-07T06:35:36.370Z"
   },
   {
    "duration": 19,
    "start_time": "2025-01-07T06:35:36.444Z"
   },
   {
    "duration": 198,
    "start_time": "2025-01-07T06:35:36.464Z"
   },
   {
    "duration": 88,
    "start_time": "2025-01-07T06:35:36.664Z"
   },
   {
    "duration": 890,
    "start_time": "2025-01-07T08:29:54.097Z"
   },
   {
    "duration": 22,
    "start_time": "2025-01-07T08:29:54.989Z"
   },
   {
    "duration": 8,
    "start_time": "2025-01-07T08:29:55.013Z"
   },
   {
    "duration": 7,
    "start_time": "2025-01-07T08:29:55.022Z"
   },
   {
    "duration": 439,
    "start_time": "2025-01-07T08:29:55.043Z"
   },
   {
    "duration": 177,
    "start_time": "2025-01-07T08:29:55.484Z"
   },
   {
    "duration": 5,
    "start_time": "2025-01-07T08:29:55.663Z"
   },
   {
    "duration": 2,
    "start_time": "2025-01-07T08:29:55.670Z"
   },
   {
    "duration": 6,
    "start_time": "2025-01-07T08:29:55.674Z"
   },
   {
    "duration": 5,
    "start_time": "2025-01-07T08:29:55.681Z"
   },
   {
    "duration": 7,
    "start_time": "2025-01-07T08:29:55.687Z"
   },
   {
    "duration": 256,
    "start_time": "2025-01-07T08:29:55.695Z"
   },
   {
    "duration": 5,
    "start_time": "2025-01-07T08:29:55.953Z"
   },
   {
    "duration": 211,
    "start_time": "2025-01-07T08:29:55.961Z"
   },
   {
    "duration": 169,
    "start_time": "2025-01-07T08:29:56.173Z"
   },
   {
    "duration": 207,
    "start_time": "2025-01-07T08:29:56.345Z"
   },
   {
    "duration": 523,
    "start_time": "2025-01-07T08:29:56.554Z"
   },
   {
    "duration": 114,
    "start_time": "2025-01-07T08:29:57.079Z"
   },
   {
    "duration": 7,
    "start_time": "2025-01-07T08:29:57.195Z"
   },
   {
    "duration": 6,
    "start_time": "2025-01-07T08:29:57.203Z"
   },
   {
    "duration": 4,
    "start_time": "2025-01-07T08:29:57.210Z"
   },
   {
    "duration": 32,
    "start_time": "2025-01-07T08:29:57.216Z"
   },
   {
    "duration": 24,
    "start_time": "2025-01-07T08:29:57.249Z"
   },
   {
    "duration": 24,
    "start_time": "2025-01-07T08:29:57.275Z"
   },
   {
    "duration": 3,
    "start_time": "2025-01-07T08:29:57.300Z"
   },
   {
    "duration": 5,
    "start_time": "2025-01-07T08:29:57.305Z"
   },
   {
    "duration": 29573,
    "start_time": "2025-01-07T08:29:57.312Z"
   },
   {
    "duration": 2213,
    "start_time": "2025-01-07T08:30:26.886Z"
   },
   {
    "duration": 74,
    "start_time": "2025-01-07T08:30:29.100Z"
   },
   {
    "duration": 26,
    "start_time": "2025-01-07T08:30:29.176Z"
   },
   {
    "duration": 345,
    "start_time": "2025-01-07T08:30:29.204Z"
   },
   {
    "duration": 17,
    "start_time": "2025-01-07T08:30:29.550Z"
   },
   {
    "duration": 907,
    "start_time": "2025-01-07T08:31:23.984Z"
   },
   {
    "duration": 22,
    "start_time": "2025-01-07T08:31:24.893Z"
   },
   {
    "duration": 9,
    "start_time": "2025-01-07T08:31:24.916Z"
   },
   {
    "duration": 16,
    "start_time": "2025-01-07T08:31:24.928Z"
   },
   {
    "duration": 441,
    "start_time": "2025-01-07T08:31:24.945Z"
   },
   {
    "duration": 179,
    "start_time": "2025-01-07T08:31:25.387Z"
   },
   {
    "duration": 6,
    "start_time": "2025-01-07T08:31:25.569Z"
   },
   {
    "duration": 3,
    "start_time": "2025-01-07T08:31:25.576Z"
   },
   {
    "duration": 7,
    "start_time": "2025-01-07T08:31:25.580Z"
   },
   {
    "duration": 4,
    "start_time": "2025-01-07T08:31:25.590Z"
   },
   {
    "duration": 7,
    "start_time": "2025-01-07T08:31:25.596Z"
   },
   {
    "duration": 227,
    "start_time": "2025-01-07T08:31:25.604Z"
   },
   {
    "duration": 5,
    "start_time": "2025-01-07T08:31:25.833Z"
   },
   {
    "duration": 215,
    "start_time": "2025-01-07T08:31:25.840Z"
   },
   {
    "duration": 165,
    "start_time": "2025-01-07T08:31:26.057Z"
   },
   {
    "duration": 203,
    "start_time": "2025-01-07T08:31:26.224Z"
   },
   {
    "duration": 541,
    "start_time": "2025-01-07T08:31:26.429Z"
   },
   {
    "duration": 118,
    "start_time": "2025-01-07T08:31:26.973Z"
   },
   {
    "duration": 6,
    "start_time": "2025-01-07T08:31:27.093Z"
   },
   {
    "duration": 5,
    "start_time": "2025-01-07T08:31:27.102Z"
   },
   {
    "duration": 4,
    "start_time": "2025-01-07T08:31:27.109Z"
   },
   {
    "duration": 33,
    "start_time": "2025-01-07T08:31:27.115Z"
   },
   {
    "duration": 23,
    "start_time": "2025-01-07T08:31:27.149Z"
   },
   {
    "duration": 23,
    "start_time": "2025-01-07T08:31:27.173Z"
   },
   {
    "duration": 3,
    "start_time": "2025-01-07T08:31:27.197Z"
   },
   {
    "duration": 6,
    "start_time": "2025-01-07T08:31:27.201Z"
   },
   {
    "duration": 29630,
    "start_time": "2025-01-07T08:31:27.208Z"
   },
   {
    "duration": 2216,
    "start_time": "2025-01-07T08:31:56.845Z"
   },
   {
    "duration": 62,
    "start_time": "2025-01-07T08:31:59.063Z"
   },
   {
    "duration": 30,
    "start_time": "2025-01-07T08:31:59.127Z"
   },
   {
    "duration": 209,
    "start_time": "2025-01-07T08:31:59.159Z"
   },
   {
    "duration": 20,
    "start_time": "2025-01-07T08:31:59.443Z"
   },
   {
    "duration": 2057,
    "start_time": "2025-01-07T08:32:23.949Z"
   },
   {
    "duration": 55,
    "start_time": "2025-01-07T08:32:27.250Z"
   },
   {
    "duration": 922,
    "start_time": "2025-01-07T08:33:43.662Z"
   },
   {
    "duration": 21,
    "start_time": "2025-01-07T08:33:44.586Z"
   },
   {
    "duration": 8,
    "start_time": "2025-01-07T08:33:44.608Z"
   },
   {
    "duration": 25,
    "start_time": "2025-01-07T08:33:44.618Z"
   },
   {
    "duration": 427,
    "start_time": "2025-01-07T08:33:44.645Z"
   },
   {
    "duration": 189,
    "start_time": "2025-01-07T08:33:45.074Z"
   },
   {
    "duration": 6,
    "start_time": "2025-01-07T08:33:45.265Z"
   },
   {
    "duration": 2,
    "start_time": "2025-01-07T08:33:45.273Z"
   },
   {
    "duration": 6,
    "start_time": "2025-01-07T08:33:45.277Z"
   },
   {
    "duration": 4,
    "start_time": "2025-01-07T08:33:45.285Z"
   },
   {
    "duration": 6,
    "start_time": "2025-01-07T08:33:45.291Z"
   },
   {
    "duration": 232,
    "start_time": "2025-01-07T08:33:45.299Z"
   },
   {
    "duration": 5,
    "start_time": "2025-01-07T08:33:45.533Z"
   },
   {
    "duration": 213,
    "start_time": "2025-01-07T08:33:45.541Z"
   },
   {
    "duration": 157,
    "start_time": "2025-01-07T08:33:45.756Z"
   },
   {
    "duration": 213,
    "start_time": "2025-01-07T08:33:45.915Z"
   },
   {
    "duration": 543,
    "start_time": "2025-01-07T08:33:46.130Z"
   },
   {
    "duration": 121,
    "start_time": "2025-01-07T08:33:46.675Z"
   },
   {
    "duration": 6,
    "start_time": "2025-01-07T08:33:46.798Z"
   },
   {
    "duration": 4,
    "start_time": "2025-01-07T08:33:46.807Z"
   },
   {
    "duration": 6,
    "start_time": "2025-01-07T08:33:46.813Z"
   },
   {
    "duration": 30,
    "start_time": "2025-01-07T08:33:46.820Z"
   },
   {
    "duration": 23,
    "start_time": "2025-01-07T08:33:46.851Z"
   },
   {
    "duration": 24,
    "start_time": "2025-01-07T08:33:46.876Z"
   },
   {
    "duration": 5,
    "start_time": "2025-01-07T08:33:46.901Z"
   },
   {
    "duration": 5,
    "start_time": "2025-01-07T08:33:46.908Z"
   },
   {
    "duration": 5,
    "start_time": "2025-01-07T08:33:46.914Z"
   },
   {
    "duration": 2089,
    "start_time": "2025-01-07T08:33:46.920Z"
   },
   {
    "duration": 62,
    "start_time": "2025-01-07T08:33:49.010Z"
   },
   {
    "duration": 19,
    "start_time": "2025-01-07T08:33:49.073Z"
   },
   {
    "duration": 266,
    "start_time": "2025-01-07T08:33:49.094Z"
   },
   {
    "duration": 92,
    "start_time": "2025-01-07T08:33:49.362Z"
   },
   {
    "duration": 929,
    "start_time": "2025-01-07T08:34:18.375Z"
   },
   {
    "duration": 21,
    "start_time": "2025-01-07T08:34:19.307Z"
   },
   {
    "duration": 16,
    "start_time": "2025-01-07T08:34:19.329Z"
   },
   {
    "duration": 8,
    "start_time": "2025-01-07T08:34:19.347Z"
   },
   {
    "duration": 443,
    "start_time": "2025-01-07T08:34:19.357Z"
   },
   {
    "duration": 189,
    "start_time": "2025-01-07T08:34:19.801Z"
   },
   {
    "duration": 5,
    "start_time": "2025-01-07T08:34:19.992Z"
   },
   {
    "duration": 4,
    "start_time": "2025-01-07T08:34:19.998Z"
   },
   {
    "duration": 7,
    "start_time": "2025-01-07T08:34:20.004Z"
   },
   {
    "duration": 5,
    "start_time": "2025-01-07T08:34:20.012Z"
   },
   {
    "duration": 29,
    "start_time": "2025-01-07T08:34:20.018Z"
   },
   {
    "duration": 214,
    "start_time": "2025-01-07T08:34:20.049Z"
   },
   {
    "duration": 5,
    "start_time": "2025-01-07T08:34:20.265Z"
   },
   {
    "duration": 212,
    "start_time": "2025-01-07T08:34:20.274Z"
   },
   {
    "duration": 179,
    "start_time": "2025-01-07T08:34:20.489Z"
   },
   {
    "duration": 214,
    "start_time": "2025-01-07T08:34:20.670Z"
   },
   {
    "duration": 501,
    "start_time": "2025-01-07T08:34:20.885Z"
   },
   {
    "duration": 121,
    "start_time": "2025-01-07T08:34:21.388Z"
   },
   {
    "duration": 6,
    "start_time": "2025-01-07T08:34:21.511Z"
   },
   {
    "duration": 5,
    "start_time": "2025-01-07T08:34:21.519Z"
   },
   {
    "duration": 4,
    "start_time": "2025-01-07T08:34:21.542Z"
   },
   {
    "duration": 12,
    "start_time": "2025-01-07T08:34:21.548Z"
   },
   {
    "duration": 22,
    "start_time": "2025-01-07T08:34:21.561Z"
   },
   {
    "duration": 23,
    "start_time": "2025-01-07T08:34:21.585Z"
   },
   {
    "duration": 3,
    "start_time": "2025-01-07T08:34:21.609Z"
   },
   {
    "duration": 31,
    "start_time": "2025-01-07T08:34:21.614Z"
   },
   {
    "duration": 4,
    "start_time": "2025-01-07T08:34:21.646Z"
   },
   {
    "duration": 2080,
    "start_time": "2025-01-07T08:34:21.651Z"
   },
   {
    "duration": 61,
    "start_time": "2025-01-07T08:34:23.733Z"
   },
   {
    "duration": 17,
    "start_time": "2025-01-07T08:34:23.795Z"
   },
   {
    "duration": 240,
    "start_time": "2025-01-07T08:34:23.814Z"
   },
   {
    "duration": 93,
    "start_time": "2025-01-07T08:34:24.056Z"
   },
   {
    "duration": 900,
    "start_time": "2025-01-07T08:35:17.392Z"
   },
   {
    "duration": 21,
    "start_time": "2025-01-07T08:35:18.295Z"
   },
   {
    "duration": 8,
    "start_time": "2025-01-07T08:35:18.317Z"
   },
   {
    "duration": 18,
    "start_time": "2025-01-07T08:35:18.327Z"
   },
   {
    "duration": 448,
    "start_time": "2025-01-07T08:35:18.347Z"
   },
   {
    "duration": 182,
    "start_time": "2025-01-07T08:35:18.797Z"
   },
   {
    "duration": 5,
    "start_time": "2025-01-07T08:35:18.981Z"
   },
   {
    "duration": 3,
    "start_time": "2025-01-07T08:35:18.988Z"
   },
   {
    "duration": 7,
    "start_time": "2025-01-07T08:35:18.992Z"
   },
   {
    "duration": 5,
    "start_time": "2025-01-07T08:35:19.000Z"
   },
   {
    "duration": 6,
    "start_time": "2025-01-07T08:35:19.007Z"
   },
   {
    "duration": 253,
    "start_time": "2025-01-07T08:35:19.014Z"
   },
   {
    "duration": 5,
    "start_time": "2025-01-07T08:35:19.269Z"
   },
   {
    "duration": 207,
    "start_time": "2025-01-07T08:35:19.278Z"
   },
   {
    "duration": 175,
    "start_time": "2025-01-07T08:35:19.486Z"
   },
   {
    "duration": 203,
    "start_time": "2025-01-07T08:35:19.662Z"
   },
   {
    "duration": 512,
    "start_time": "2025-01-07T08:35:19.867Z"
   },
   {
    "duration": 121,
    "start_time": "2025-01-07T08:35:20.381Z"
   },
   {
    "duration": 8,
    "start_time": "2025-01-07T08:35:20.504Z"
   },
   {
    "duration": 5,
    "start_time": "2025-01-07T08:35:20.513Z"
   },
   {
    "duration": 5,
    "start_time": "2025-01-07T08:35:20.520Z"
   },
   {
    "duration": 17,
    "start_time": "2025-01-07T08:35:20.542Z"
   },
   {
    "duration": 23,
    "start_time": "2025-01-07T08:35:20.563Z"
   },
   {
    "duration": 23,
    "start_time": "2025-01-07T08:35:20.588Z"
   },
   {
    "duration": 3,
    "start_time": "2025-01-07T08:35:20.613Z"
   },
   {
    "duration": 26,
    "start_time": "2025-01-07T08:35:20.618Z"
   },
   {
    "duration": 4,
    "start_time": "2025-01-07T08:35:20.645Z"
   },
   {
    "duration": 2098,
    "start_time": "2025-01-07T08:35:20.651Z"
   },
   {
    "duration": 54,
    "start_time": "2025-01-07T08:35:22.751Z"
   },
   {
    "duration": 17,
    "start_time": "2025-01-07T08:35:22.807Z"
   },
   {
    "duration": 229,
    "start_time": "2025-01-07T08:35:22.826Z"
   },
   {
    "duration": 92,
    "start_time": "2025-01-07T08:35:23.057Z"
   },
   {
    "duration": 895,
    "start_time": "2025-01-07T08:39:22.297Z"
   },
   {
    "duration": 20,
    "start_time": "2025-01-07T08:39:23.194Z"
   },
   {
    "duration": 8,
    "start_time": "2025-01-07T08:39:23.216Z"
   },
   {
    "duration": 20,
    "start_time": "2025-01-07T08:39:23.227Z"
   },
   {
    "duration": 441,
    "start_time": "2025-01-07T08:39:23.248Z"
   },
   {
    "duration": 178,
    "start_time": "2025-01-07T08:39:23.690Z"
   },
   {
    "duration": 6,
    "start_time": "2025-01-07T08:39:23.870Z"
   },
   {
    "duration": 3,
    "start_time": "2025-01-07T08:39:23.877Z"
   },
   {
    "duration": 7,
    "start_time": "2025-01-07T08:39:23.881Z"
   },
   {
    "duration": 5,
    "start_time": "2025-01-07T08:39:23.891Z"
   },
   {
    "duration": 7,
    "start_time": "2025-01-07T08:39:23.897Z"
   },
   {
    "duration": 231,
    "start_time": "2025-01-07T08:39:23.905Z"
   },
   {
    "duration": 5,
    "start_time": "2025-01-07T08:39:24.137Z"
   },
   {
    "duration": 214,
    "start_time": "2025-01-07T08:39:24.143Z"
   },
   {
    "duration": 164,
    "start_time": "2025-01-07T08:39:24.359Z"
   },
   {
    "duration": 217,
    "start_time": "2025-01-07T08:39:24.525Z"
   },
   {
    "duration": 523,
    "start_time": "2025-01-07T08:39:24.745Z"
   },
   {
    "duration": 117,
    "start_time": "2025-01-07T08:39:25.270Z"
   },
   {
    "duration": 8,
    "start_time": "2025-01-07T08:39:25.388Z"
   },
   {
    "duration": 6,
    "start_time": "2025-01-07T08:39:25.397Z"
   },
   {
    "duration": 4,
    "start_time": "2025-01-07T08:39:25.404Z"
   },
   {
    "duration": 653,
    "start_time": "2025-01-07T08:39:25.410Z"
   },
   {
    "duration": 0,
    "start_time": "2025-01-07T08:39:26.065Z"
   },
   {
    "duration": 0,
    "start_time": "2025-01-07T08:39:26.066Z"
   },
   {
    "duration": 0,
    "start_time": "2025-01-07T08:39:26.068Z"
   },
   {
    "duration": 0,
    "start_time": "2025-01-07T08:39:26.069Z"
   },
   {
    "duration": 0,
    "start_time": "2025-01-07T08:39:26.071Z"
   },
   {
    "duration": 0,
    "start_time": "2025-01-07T08:39:26.072Z"
   },
   {
    "duration": 0,
    "start_time": "2025-01-07T08:39:26.073Z"
   },
   {
    "duration": 0,
    "start_time": "2025-01-07T08:39:26.075Z"
   },
   {
    "duration": 0,
    "start_time": "2025-01-07T08:39:26.077Z"
   },
   {
    "duration": 0,
    "start_time": "2025-01-07T08:39:26.078Z"
   },
   {
    "duration": 4,
    "start_time": "2025-01-07T08:39:56.398Z"
   },
   {
    "duration": 15,
    "start_time": "2025-01-07T08:39:58.907Z"
   },
   {
    "duration": 31,
    "start_time": "2025-01-07T08:40:00.466Z"
   },
   {
    "duration": 26,
    "start_time": "2025-01-07T08:40:02.224Z"
   },
   {
    "duration": 3,
    "start_time": "2025-01-07T08:40:03.845Z"
   },
   {
    "duration": 6,
    "start_time": "2025-01-07T08:40:05.789Z"
   },
   {
    "duration": 4,
    "start_time": "2025-01-07T08:40:07.660Z"
   },
   {
    "duration": 3140,
    "start_time": "2025-01-07T08:40:08.787Z"
   },
   {
    "duration": 54,
    "start_time": "2025-01-07T08:40:13.932Z"
   },
   {
    "duration": 949,
    "start_time": "2025-01-07T08:40:49.648Z"
   },
   {
    "duration": 20,
    "start_time": "2025-01-07T08:40:50.600Z"
   },
   {
    "duration": 7,
    "start_time": "2025-01-07T08:40:50.622Z"
   },
   {
    "duration": 17,
    "start_time": "2025-01-07T08:40:50.632Z"
   },
   {
    "duration": 452,
    "start_time": "2025-01-07T08:40:50.651Z"
   },
   {
    "duration": 183,
    "start_time": "2025-01-07T08:40:51.105Z"
   },
   {
    "duration": 7,
    "start_time": "2025-01-07T08:40:51.290Z"
   },
   {
    "duration": 4,
    "start_time": "2025-01-07T08:40:51.298Z"
   },
   {
    "duration": 7,
    "start_time": "2025-01-07T08:40:51.303Z"
   },
   {
    "duration": 5,
    "start_time": "2025-01-07T08:40:51.311Z"
   },
   {
    "duration": 28,
    "start_time": "2025-01-07T08:40:51.318Z"
   },
   {
    "duration": 216,
    "start_time": "2025-01-07T08:40:51.347Z"
   },
   {
    "duration": 6,
    "start_time": "2025-01-07T08:40:51.565Z"
   },
   {
    "duration": 216,
    "start_time": "2025-01-07T08:40:51.574Z"
   },
   {
    "duration": 155,
    "start_time": "2025-01-07T08:40:51.791Z"
   },
   {
    "duration": 212,
    "start_time": "2025-01-07T08:40:51.948Z"
   },
   {
    "duration": 514,
    "start_time": "2025-01-07T08:40:52.162Z"
   },
   {
    "duration": 121,
    "start_time": "2025-01-07T08:40:52.678Z"
   },
   {
    "duration": 7,
    "start_time": "2025-01-07T08:40:52.801Z"
   },
   {
    "duration": 6,
    "start_time": "2025-01-07T08:40:52.809Z"
   },
   {
    "duration": 25,
    "start_time": "2025-01-07T08:40:52.817Z"
   },
   {
    "duration": 76,
    "start_time": "2025-01-07T08:40:52.844Z"
   },
   {
    "duration": 38,
    "start_time": "2025-01-07T08:40:52.922Z"
   },
   {
    "duration": 36,
    "start_time": "2025-01-07T08:40:52.962Z"
   },
   {
    "duration": 5,
    "start_time": "2025-01-07T08:40:52.999Z"
   },
   {
    "duration": 8,
    "start_time": "2025-01-07T08:40:53.005Z"
   },
   {
    "duration": 4,
    "start_time": "2025-01-07T08:40:53.015Z"
   },
   {
    "duration": 17440,
    "start_time": "2025-01-07T08:40:53.020Z"
   },
   {
    "duration": 83,
    "start_time": "2025-01-07T08:41:10.462Z"
   },
   {
    "duration": 18,
    "start_time": "2025-01-07T08:41:10.547Z"
   },
   {
    "duration": 1390,
    "start_time": "2025-01-07T08:41:10.566Z"
   },
   {
    "duration": 102,
    "start_time": "2025-01-07T08:41:11.957Z"
   },
   {
    "duration": 888,
    "start_time": "2025-01-07T08:44:58.808Z"
   },
   {
    "duration": 21,
    "start_time": "2025-01-07T08:44:59.698Z"
   },
   {
    "duration": 9,
    "start_time": "2025-01-07T08:44:59.720Z"
   },
   {
    "duration": 49,
    "start_time": "2025-01-07T08:44:59.743Z"
   },
   {
    "duration": 397,
    "start_time": "2025-01-07T08:44:59.793Z"
   },
   {
    "duration": 180,
    "start_time": "2025-01-07T08:45:00.191Z"
   },
   {
    "duration": 5,
    "start_time": "2025-01-07T08:45:00.373Z"
   },
   {
    "duration": 3,
    "start_time": "2025-01-07T08:45:00.380Z"
   },
   {
    "duration": 7,
    "start_time": "2025-01-07T08:45:00.385Z"
   },
   {
    "duration": 5,
    "start_time": "2025-01-07T08:45:00.395Z"
   },
   {
    "duration": 7,
    "start_time": "2025-01-07T08:45:00.401Z"
   },
   {
    "duration": 250,
    "start_time": "2025-01-07T08:45:00.409Z"
   },
   {
    "duration": 6,
    "start_time": "2025-01-07T08:45:00.661Z"
   },
   {
    "duration": 219,
    "start_time": "2025-01-07T08:45:00.668Z"
   },
   {
    "duration": 168,
    "start_time": "2025-01-07T08:45:00.888Z"
   },
   {
    "duration": 219,
    "start_time": "2025-01-07T08:45:01.058Z"
   },
   {
    "duration": 505,
    "start_time": "2025-01-07T08:45:01.279Z"
   },
   {
    "duration": 118,
    "start_time": "2025-01-07T08:45:01.785Z"
   },
   {
    "duration": 7,
    "start_time": "2025-01-07T08:45:01.905Z"
   },
   {
    "duration": 6,
    "start_time": "2025-01-07T08:45:01.913Z"
   },
   {
    "duration": 4,
    "start_time": "2025-01-07T08:45:01.921Z"
   },
   {
    "duration": 85,
    "start_time": "2025-01-07T08:45:01.942Z"
   },
   {
    "duration": 34,
    "start_time": "2025-01-07T08:45:02.029Z"
   },
   {
    "duration": 35,
    "start_time": "2025-01-07T08:45:02.065Z"
   },
   {
    "duration": 5,
    "start_time": "2025-01-07T08:45:02.101Z"
   },
   {
    "duration": 7,
    "start_time": "2025-01-07T08:45:02.108Z"
   },
   {
    "duration": 4,
    "start_time": "2025-01-07T08:45:02.143Z"
   },
   {
    "duration": 9135,
    "start_time": "2025-01-07T08:45:02.151Z"
   },
   {
    "duration": 55,
    "start_time": "2025-01-07T08:45:11.288Z"
   },
   {
    "duration": 17,
    "start_time": "2025-01-07T08:45:11.344Z"
   },
   {
    "duration": 1294,
    "start_time": "2025-01-07T08:45:11.363Z"
   },
   {
    "duration": 94,
    "start_time": "2025-01-07T08:45:12.660Z"
   },
   {
    "duration": 913,
    "start_time": "2025-01-07T08:51:28.484Z"
   },
   {
    "duration": 21,
    "start_time": "2025-01-07T08:51:29.399Z"
   },
   {
    "duration": 9,
    "start_time": "2025-01-07T08:51:29.421Z"
   },
   {
    "duration": 18,
    "start_time": "2025-01-07T08:51:29.431Z"
   },
   {
    "duration": 397,
    "start_time": "2025-01-07T08:51:29.493Z"
   },
   {
    "duration": 177,
    "start_time": "2025-01-07T08:51:29.892Z"
   },
   {
    "duration": 5,
    "start_time": "2025-01-07T08:51:30.071Z"
   },
   {
    "duration": 3,
    "start_time": "2025-01-07T08:51:30.078Z"
   },
   {
    "duration": 8,
    "start_time": "2025-01-07T08:51:30.082Z"
   },
   {
    "duration": 5,
    "start_time": "2025-01-07T08:51:30.091Z"
   },
   {
    "duration": 8,
    "start_time": "2025-01-07T08:51:30.097Z"
   },
   {
    "duration": 242,
    "start_time": "2025-01-07T08:51:30.106Z"
   },
   {
    "duration": 6,
    "start_time": "2025-01-07T08:51:30.349Z"
   },
   {
    "duration": 227,
    "start_time": "2025-01-07T08:51:30.359Z"
   },
   {
    "duration": 162,
    "start_time": "2025-01-07T08:51:30.588Z"
   },
   {
    "duration": 216,
    "start_time": "2025-01-07T08:51:30.752Z"
   },
   {
    "duration": 511,
    "start_time": "2025-01-07T08:51:30.970Z"
   },
   {
    "duration": 116,
    "start_time": "2025-01-07T08:51:31.483Z"
   },
   {
    "duration": 7,
    "start_time": "2025-01-07T08:51:31.602Z"
   },
   {
    "duration": 6,
    "start_time": "2025-01-07T08:51:31.612Z"
   },
   {
    "duration": 23,
    "start_time": "2025-01-07T08:51:31.619Z"
   },
   {
    "duration": 12,
    "start_time": "2025-01-07T08:51:31.644Z"
   },
   {
    "duration": 23,
    "start_time": "2025-01-07T08:51:31.657Z"
   },
   {
    "duration": 23,
    "start_time": "2025-01-07T08:51:31.682Z"
   },
   {
    "duration": 2,
    "start_time": "2025-01-07T08:51:31.707Z"
   },
   {
    "duration": 33,
    "start_time": "2025-01-07T08:51:31.711Z"
   },
   {
    "duration": 4,
    "start_time": "2025-01-07T08:51:31.745Z"
   },
   {
    "duration": 2095,
    "start_time": "2025-01-07T08:51:31.750Z"
   },
   {
    "duration": 57,
    "start_time": "2025-01-07T08:51:33.846Z"
   },
   {
    "duration": 17,
    "start_time": "2025-01-07T08:51:33.904Z"
   },
   {
    "duration": 328,
    "start_time": "2025-01-07T08:51:33.923Z"
   },
   {
    "duration": 91,
    "start_time": "2025-01-07T08:51:34.254Z"
   },
   {
    "duration": 397,
    "start_time": "2025-01-07T08:51:46.453Z"
   },
   {
    "duration": 28,
    "start_time": "2025-01-07T08:51:51.377Z"
   },
   {
    "duration": 2367,
    "start_time": "2025-01-07T08:54:37.377Z"
   },
   {
    "duration": 356,
    "start_time": "2025-01-07T08:54:46.189Z"
   },
   {
    "duration": 1149,
    "start_time": "2025-01-07T08:54:57.395Z"
   },
   {
    "duration": 305,
    "start_time": "2025-01-07T08:55:03.839Z"
   },
   {
    "duration": 184,
    "start_time": "2025-01-07T08:57:42.475Z"
   },
   {
    "duration": 17,
    "start_time": "2025-01-07T08:57:49.365Z"
   },
   {
    "duration": 164,
    "start_time": "2025-01-07T08:58:50.385Z"
   },
   {
    "duration": 18,
    "start_time": "2025-01-07T08:58:54.670Z"
   },
   {
    "duration": 156,
    "start_time": "2025-01-07T08:59:08.799Z"
   },
   {
    "duration": 20,
    "start_time": "2025-01-07T08:59:10.625Z"
   },
   {
    "duration": 332,
    "start_time": "2025-01-07T08:59:21.115Z"
   },
   {
    "duration": 17,
    "start_time": "2025-01-07T08:59:24.383Z"
   },
   {
    "duration": 180,
    "start_time": "2025-01-07T08:59:42.169Z"
   },
   {
    "duration": 13,
    "start_time": "2025-01-07T08:59:45.118Z"
   },
   {
    "duration": 213,
    "start_time": "2025-01-07T09:00:09.039Z"
   },
   {
    "duration": 33,
    "start_time": "2025-01-07T09:00:12.442Z"
   },
   {
    "duration": 213,
    "start_time": "2025-01-07T09:00:19.441Z"
   },
   {
    "duration": 21,
    "start_time": "2025-01-07T09:00:20.633Z"
   },
   {
    "duration": 195,
    "start_time": "2025-01-07T09:00:32.362Z"
   },
   {
    "duration": 18,
    "start_time": "2025-01-07T09:00:34.959Z"
   },
   {
    "duration": 859,
    "start_time": "2025-01-07T09:01:29.032Z"
   },
   {
    "duration": 22,
    "start_time": "2025-01-07T09:01:29.893Z"
   },
   {
    "duration": 8,
    "start_time": "2025-01-07T09:01:29.916Z"
   },
   {
    "duration": 19,
    "start_time": "2025-01-07T09:01:29.927Z"
   },
   {
    "duration": 438,
    "start_time": "2025-01-07T09:01:29.947Z"
   },
   {
    "duration": 191,
    "start_time": "2025-01-07T09:01:30.387Z"
   },
   {
    "duration": 5,
    "start_time": "2025-01-07T09:01:30.580Z"
   },
   {
    "duration": 2,
    "start_time": "2025-01-07T09:01:30.587Z"
   },
   {
    "duration": 7,
    "start_time": "2025-01-07T09:01:30.591Z"
   },
   {
    "duration": 4,
    "start_time": "2025-01-07T09:01:30.602Z"
   },
   {
    "duration": 7,
    "start_time": "2025-01-07T09:01:30.608Z"
   },
   {
    "duration": 208,
    "start_time": "2025-01-07T09:01:30.643Z"
   },
   {
    "duration": 4,
    "start_time": "2025-01-07T09:01:30.853Z"
   },
   {
    "duration": 214,
    "start_time": "2025-01-07T09:01:30.859Z"
   },
   {
    "duration": 171,
    "start_time": "2025-01-07T09:01:31.075Z"
   },
   {
    "duration": 217,
    "start_time": "2025-01-07T09:01:31.248Z"
   },
   {
    "duration": 504,
    "start_time": "2025-01-07T09:01:31.467Z"
   },
   {
    "duration": 114,
    "start_time": "2025-01-07T09:01:31.973Z"
   },
   {
    "duration": 7,
    "start_time": "2025-01-07T09:01:32.089Z"
   },
   {
    "duration": 5,
    "start_time": "2025-01-07T09:01:32.098Z"
   },
   {
    "duration": 5,
    "start_time": "2025-01-07T09:01:32.105Z"
   },
   {
    "duration": 37,
    "start_time": "2025-01-07T09:01:32.112Z"
   },
   {
    "duration": 23,
    "start_time": "2025-01-07T09:01:32.150Z"
   },
   {
    "duration": 24,
    "start_time": "2025-01-07T09:01:32.175Z"
   },
   {
    "duration": 3,
    "start_time": "2025-01-07T09:01:32.200Z"
   },
   {
    "duration": 4,
    "start_time": "2025-01-07T09:01:32.205Z"
   },
   {
    "duration": 29653,
    "start_time": "2025-01-07T09:01:32.211Z"
   },
   {
    "duration": 2064,
    "start_time": "2025-01-07T09:02:01.868Z"
   },
   {
    "duration": 64,
    "start_time": "2025-01-07T09:02:03.933Z"
   },
   {
    "duration": 17,
    "start_time": "2025-01-07T09:02:03.999Z"
   },
   {
    "duration": 243,
    "start_time": "2025-01-07T09:02:04.017Z"
   },
   {
    "duration": 87,
    "start_time": "2025-01-07T09:02:04.262Z"
   },
   {
    "duration": 881,
    "start_time": "2025-01-07T09:10:55.307Z"
   },
   {
    "duration": 21,
    "start_time": "2025-01-07T09:10:56.190Z"
   },
   {
    "duration": 8,
    "start_time": "2025-01-07T09:10:56.212Z"
   },
   {
    "duration": 22,
    "start_time": "2025-01-07T09:10:56.223Z"
   },
   {
    "duration": 438,
    "start_time": "2025-01-07T09:10:56.247Z"
   },
   {
    "duration": 184,
    "start_time": "2025-01-07T09:10:56.686Z"
   },
   {
    "duration": 6,
    "start_time": "2025-01-07T09:10:56.871Z"
   },
   {
    "duration": 3,
    "start_time": "2025-01-07T09:10:56.878Z"
   },
   {
    "duration": 7,
    "start_time": "2025-01-07T09:10:56.883Z"
   },
   {
    "duration": 5,
    "start_time": "2025-01-07T09:10:56.893Z"
   },
   {
    "duration": 7,
    "start_time": "2025-01-07T09:10:56.899Z"
   },
   {
    "duration": 236,
    "start_time": "2025-01-07T09:10:56.907Z"
   },
   {
    "duration": 6,
    "start_time": "2025-01-07T09:10:57.145Z"
   },
   {
    "duration": 223,
    "start_time": "2025-01-07T09:10:57.152Z"
   },
   {
    "duration": 167,
    "start_time": "2025-01-07T09:10:57.378Z"
   },
   {
    "duration": 207,
    "start_time": "2025-01-07T09:10:57.547Z"
   },
   {
    "duration": 514,
    "start_time": "2025-01-07T09:10:57.756Z"
   },
   {
    "duration": 116,
    "start_time": "2025-01-07T09:10:58.273Z"
   },
   {
    "duration": 6,
    "start_time": "2025-01-07T09:10:58.391Z"
   },
   {
    "duration": 6,
    "start_time": "2025-01-07T09:10:58.399Z"
   },
   {
    "duration": 4,
    "start_time": "2025-01-07T09:10:58.407Z"
   },
   {
    "duration": 41,
    "start_time": "2025-01-07T09:10:58.413Z"
   },
   {
    "duration": 26,
    "start_time": "2025-01-07T09:10:58.456Z"
   },
   {
    "duration": 23,
    "start_time": "2025-01-07T09:10:58.484Z"
   },
   {
    "duration": 3,
    "start_time": "2025-01-07T09:10:58.509Z"
   },
   {
    "duration": 6,
    "start_time": "2025-01-07T09:10:58.513Z"
   },
   {
    "duration": 936,
    "start_time": "2025-01-07T09:12:51.952Z"
   },
   {
    "duration": 21,
    "start_time": "2025-01-07T09:12:52.890Z"
   },
   {
    "duration": 8,
    "start_time": "2025-01-07T09:12:52.912Z"
   },
   {
    "duration": 21,
    "start_time": "2025-01-07T09:12:52.923Z"
   },
   {
    "duration": 449,
    "start_time": "2025-01-07T09:12:52.945Z"
   },
   {
    "duration": 184,
    "start_time": "2025-01-07T09:12:53.397Z"
   },
   {
    "duration": 5,
    "start_time": "2025-01-07T09:12:53.583Z"
   },
   {
    "duration": 2,
    "start_time": "2025-01-07T09:12:53.590Z"
   },
   {
    "duration": 7,
    "start_time": "2025-01-07T09:12:53.594Z"
   },
   {
    "duration": 4,
    "start_time": "2025-01-07T09:12:53.605Z"
   },
   {
    "duration": 32,
    "start_time": "2025-01-07T09:12:53.610Z"
   },
   {
    "duration": 202,
    "start_time": "2025-01-07T09:12:53.645Z"
   },
   {
    "duration": 5,
    "start_time": "2025-01-07T09:12:53.849Z"
   },
   {
    "duration": 220,
    "start_time": "2025-01-07T09:12:53.856Z"
   },
   {
    "duration": 166,
    "start_time": "2025-01-07T09:12:54.078Z"
   },
   {
    "duration": 208,
    "start_time": "2025-01-07T09:12:54.246Z"
   },
   {
    "duration": 523,
    "start_time": "2025-01-07T09:12:54.456Z"
   },
   {
    "duration": 115,
    "start_time": "2025-01-07T09:12:54.981Z"
   },
   {
    "duration": 6,
    "start_time": "2025-01-07T09:12:55.098Z"
   },
   {
    "duration": 6,
    "start_time": "2025-01-07T09:12:55.106Z"
   },
   {
    "duration": 5,
    "start_time": "2025-01-07T09:12:55.113Z"
   },
   {
    "duration": 34,
    "start_time": "2025-01-07T09:12:55.119Z"
   },
   {
    "duration": 28,
    "start_time": "2025-01-07T09:12:55.155Z"
   },
   {
    "duration": 28,
    "start_time": "2025-01-07T09:12:55.185Z"
   },
   {
    "duration": 3,
    "start_time": "2025-01-07T09:12:55.214Z"
   },
   {
    "duration": 28,
    "start_time": "2025-01-07T09:12:55.219Z"
   },
   {
    "duration": 30018,
    "start_time": "2025-01-07T09:12:55.248Z"
   },
   {
    "duration": 2095,
    "start_time": "2025-01-07T09:13:25.269Z"
   },
   {
    "duration": 59,
    "start_time": "2025-01-07T09:13:27.365Z"
   },
   {
    "duration": 30,
    "start_time": "2025-01-07T09:13:27.426Z"
   },
   {
    "duration": 290,
    "start_time": "2025-01-07T09:13:27.459Z"
   },
   {
    "duration": 13,
    "start_time": "2025-01-07T09:13:27.751Z"
   },
   {
    "duration": 2658,
    "start_time": "2025-01-09T06:01:57.500Z"
   },
   {
    "duration": 32,
    "start_time": "2025-01-09T06:02:00.160Z"
   },
   {
    "duration": 8,
    "start_time": "2025-01-09T06:02:00.194Z"
   },
   {
    "duration": 12,
    "start_time": "2025-01-09T06:02:00.206Z"
   },
   {
    "duration": 477,
    "start_time": "2025-01-09T06:02:00.220Z"
   },
   {
    "duration": 180,
    "start_time": "2025-01-09T06:02:00.700Z"
   },
   {
    "duration": 6,
    "start_time": "2025-01-09T06:02:00.881Z"
   },
   {
    "duration": 3,
    "start_time": "2025-01-09T06:02:00.889Z"
   },
   {
    "duration": 8,
    "start_time": "2025-01-09T06:02:00.894Z"
   },
   {
    "duration": 5,
    "start_time": "2025-01-09T06:02:00.930Z"
   },
   {
    "duration": 7,
    "start_time": "2025-01-09T06:02:00.937Z"
   },
   {
    "duration": 239,
    "start_time": "2025-01-09T06:02:00.945Z"
   },
   {
    "duration": 5,
    "start_time": "2025-01-09T06:02:01.186Z"
   },
   {
    "duration": 219,
    "start_time": "2025-01-09T06:02:01.192Z"
   },
   {
    "duration": 158,
    "start_time": "2025-01-09T06:02:01.412Z"
   },
   {
    "duration": 154,
    "start_time": "2025-01-09T06:02:01.572Z"
   },
   {
    "duration": 573,
    "start_time": "2025-01-09T06:02:01.730Z"
   },
   {
    "duration": 191,
    "start_time": "2025-01-09T06:02:02.305Z"
   },
   {
    "duration": 7,
    "start_time": "2025-01-09T06:02:02.498Z"
   },
   {
    "duration": 6,
    "start_time": "2025-01-09T06:02:02.506Z"
   },
   {
    "duration": 4,
    "start_time": "2025-01-09T06:02:02.531Z"
   },
   {
    "duration": 13,
    "start_time": "2025-01-09T06:02:02.537Z"
   },
   {
    "duration": 23,
    "start_time": "2025-01-09T06:02:02.552Z"
   },
   {
    "duration": 25,
    "start_time": "2025-01-09T06:02:02.577Z"
   },
   {
    "duration": 29,
    "start_time": "2025-01-09T06:02:02.603Z"
   },
   {
    "duration": 6,
    "start_time": "2025-01-09T06:02:02.634Z"
   },
   {
    "duration": 30231,
    "start_time": "2025-01-09T06:02:02.642Z"
   },
   {
    "duration": 2251,
    "start_time": "2025-01-09T06:02:32.876Z"
   },
   {
    "duration": 75,
    "start_time": "2025-01-09T06:02:35.128Z"
   },
   {
    "duration": 29,
    "start_time": "2025-01-09T06:02:35.205Z"
   },
   {
    "duration": 499,
    "start_time": "2025-01-09T06:02:35.236Z"
   },
   {
    "duration": 100,
    "start_time": "2025-01-09T06:02:35.737Z"
   },
   {
    "duration": 958,
    "start_time": "2025-01-09T06:03:17.064Z"
   },
   {
    "duration": 23,
    "start_time": "2025-01-09T06:03:18.025Z"
   },
   {
    "duration": 9,
    "start_time": "2025-01-09T06:03:18.049Z"
   },
   {
    "duration": 9,
    "start_time": "2025-01-09T06:03:18.059Z"
   },
   {
    "duration": 462,
    "start_time": "2025-01-09T06:03:18.070Z"
   },
   {
    "duration": 187,
    "start_time": "2025-01-09T06:03:18.535Z"
   },
   {
    "duration": 8,
    "start_time": "2025-01-09T06:03:18.724Z"
   },
   {
    "duration": 3,
    "start_time": "2025-01-09T06:03:18.734Z"
   },
   {
    "duration": 8,
    "start_time": "2025-01-09T06:03:18.738Z"
   },
   {
    "duration": 5,
    "start_time": "2025-01-09T06:03:18.747Z"
   },
   {
    "duration": 7,
    "start_time": "2025-01-09T06:03:18.754Z"
   },
   {
    "duration": 237,
    "start_time": "2025-01-09T06:03:18.763Z"
   },
   {
    "duration": 8,
    "start_time": "2025-01-09T06:03:19.002Z"
   },
   {
    "duration": 218,
    "start_time": "2025-01-09T06:03:19.015Z"
   },
   {
    "duration": 175,
    "start_time": "2025-01-09T06:03:19.234Z"
   },
   {
    "duration": 213,
    "start_time": "2025-01-09T06:03:19.410Z"
   },
   {
    "duration": 544,
    "start_time": "2025-01-09T06:03:19.625Z"
   },
   {
    "duration": 119,
    "start_time": "2025-01-09T06:03:20.171Z"
   },
   {
    "duration": 6,
    "start_time": "2025-01-09T06:03:20.292Z"
   },
   {
    "duration": 6,
    "start_time": "2025-01-09T06:03:20.300Z"
   },
   {
    "duration": 25,
    "start_time": "2025-01-09T06:03:20.308Z"
   },
   {
    "duration": 9,
    "start_time": "2025-01-09T06:03:20.335Z"
   },
   {
    "duration": 15,
    "start_time": "2025-01-09T06:03:20.346Z"
   },
   {
    "duration": 17,
    "start_time": "2025-01-09T06:03:20.362Z"
   },
   {
    "duration": 3,
    "start_time": "2025-01-09T06:03:20.381Z"
   },
   {
    "duration": 5,
    "start_time": "2025-01-09T06:03:20.385Z"
   },
   {
    "duration": 16306,
    "start_time": "2025-01-09T06:03:20.392Z"
   },
   {
    "duration": 1254,
    "start_time": "2025-01-09T06:03:36.699Z"
   },
   {
    "duration": 64,
    "start_time": "2025-01-09T06:03:37.955Z"
   },
   {
    "duration": 19,
    "start_time": "2025-01-09T06:03:38.031Z"
   },
   {
    "duration": 397,
    "start_time": "2025-01-09T06:03:38.052Z"
   },
   {
    "duration": 96,
    "start_time": "2025-01-09T06:03:38.451Z"
   },
   {
    "duration": 915,
    "start_time": "2025-01-09T06:07:52.178Z"
   },
   {
    "duration": 23,
    "start_time": "2025-01-09T06:07:53.095Z"
   },
   {
    "duration": 17,
    "start_time": "2025-01-09T06:07:53.120Z"
   },
   {
    "duration": 8,
    "start_time": "2025-01-09T06:07:53.141Z"
   },
   {
    "duration": 458,
    "start_time": "2025-01-09T06:07:53.151Z"
   },
   {
    "duration": 181,
    "start_time": "2025-01-09T06:07:53.611Z"
   },
   {
    "duration": 6,
    "start_time": "2025-01-09T06:07:53.794Z"
   },
   {
    "duration": 2,
    "start_time": "2025-01-09T06:07:53.802Z"
   },
   {
    "duration": 6,
    "start_time": "2025-01-09T06:07:53.806Z"
   },
   {
    "duration": 5,
    "start_time": "2025-01-09T06:07:53.832Z"
   },
   {
    "duration": 6,
    "start_time": "2025-01-09T06:07:53.838Z"
   },
   {
    "duration": 230,
    "start_time": "2025-01-09T06:07:53.846Z"
   },
   {
    "duration": 5,
    "start_time": "2025-01-09T06:07:54.078Z"
   },
   {
    "duration": 220,
    "start_time": "2025-01-09T06:07:54.085Z"
   },
   {
    "duration": 171,
    "start_time": "2025-01-09T06:07:54.307Z"
   },
   {
    "duration": 216,
    "start_time": "2025-01-09T06:07:54.480Z"
   },
   {
    "duration": 526,
    "start_time": "2025-01-09T06:07:54.699Z"
   },
   {
    "duration": 122,
    "start_time": "2025-01-09T06:07:55.232Z"
   },
   {
    "duration": 7,
    "start_time": "2025-01-09T06:07:55.356Z"
   },
   {
    "duration": 6,
    "start_time": "2025-01-09T06:07:55.365Z"
   },
   {
    "duration": 4,
    "start_time": "2025-01-09T06:07:55.374Z"
   },
   {
    "duration": 8,
    "start_time": "2025-01-09T06:07:55.380Z"
   },
   {
    "duration": 42,
    "start_time": "2025-01-09T06:07:55.390Z"
   },
   {
    "duration": 16,
    "start_time": "2025-01-09T06:07:55.434Z"
   },
   {
    "duration": 3,
    "start_time": "2025-01-09T06:07:55.452Z"
   },
   {
    "duration": 5,
    "start_time": "2025-01-09T06:07:55.457Z"
   },
   {
    "duration": 12701,
    "start_time": "2025-01-09T06:07:55.463Z"
   },
   {
    "duration": 993,
    "start_time": "2025-01-09T06:08:08.168Z"
   },
   {
    "duration": 73,
    "start_time": "2025-01-09T06:08:09.163Z"
   },
   {
    "duration": 26,
    "start_time": "2025-01-09T06:08:09.237Z"
   },
   {
    "duration": 272,
    "start_time": "2025-01-09T06:08:09.265Z"
   },
   {
    "duration": 92,
    "start_time": "2025-01-09T06:08:09.540Z"
   }
  ],
  "kernelspec": {
   "display_name": "Python 3 (ipykernel)",
   "language": "python",
   "name": "python3"
  },
  "language_info": {
   "codemirror_mode": {
    "name": "ipython",
    "version": 3
   },
   "file_extension": ".py",
   "mimetype": "text/x-python",
   "name": "python",
   "nbconvert_exporter": "python",
   "pygments_lexer": "ipython3",
   "version": "3.10.9"
  },
  "toc": {
   "base_numbering": 1,
   "nav_menu": {},
   "number_sections": true,
   "sideBar": true,
   "skip_h1_title": true,
   "title_cell": "Table of Contents",
   "title_sidebar": "Contents",
   "toc_cell": false,
   "toc_position": {},
   "toc_section_display": true,
   "toc_window_display": false
  }
 },
 "nbformat": 4,
 "nbformat_minor": 2
}
